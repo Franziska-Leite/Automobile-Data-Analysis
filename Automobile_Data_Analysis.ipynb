{
  "nbformat": 4,
  "nbformat_minor": 0,
  "metadata": {
    "colab": {
      "provenance": [],
      "collapsed_sections": [],
      "toc_visible": true,
      "authorship_tag": "ABX9TyOf1ah1YJq0PvjaVD8cZrnS",
      "include_colab_link": true
    },
    "kernelspec": {
      "name": "python3",
      "display_name": "Python 3"
    },
    "language_info": {
      "name": "python"
    }
  },
  "cells": [
    {
      "cell_type": "markdown",
      "metadata": {
        "id": "view-in-github",
        "colab_type": "text"
      },
      "source": [
        "<a href=\"https://colab.research.google.com/github/Franziska-Leite/Automobile-Data-Analysis/blob/main/Automobile_Data_Analysis.ipynb\" target=\"_parent\"><img src=\"https://colab.research.google.com/assets/colab-badge.svg\" alt=\"Open In Colab\"/></a>"
      ]
    },
    {
      "cell_type": "markdown",
      "source": [
        "#<h1>Analysis of Automobile Data</h1>"
      ],
      "metadata": {
        "id": "pcOyMxlArBo8"
      }
    },
    {
      "cell_type": "markdown",
      "source": [
        "<h2>Data Source:</h2>\n",
        "You can find the \"Automobile Dataset\" from the following link: https://archive.ics.uci.edu/ml/machine-learning-databases/autos/imports-85.data."
      ],
      "metadata": {
        "id": "9f-HS59Frslz"
      }
    },
    {
      "cell_type": "markdown",
      "source": [
        "<h2>Objective:</h2>\n",
        "Determine the main characteristics that have the most impact on the car price"
      ],
      "metadata": {
        "id": "1OyBGewksth1"
      }
    },
    {
      "cell_type": "markdown",
      "source": [
        "<h2>Data Wrangling:</h2>\n",
        "\n",
        "In a previous notebook, the dataset has already been cleaned as followed:\n",
        "- assignment of column names\n",
        "- handling of missing values (replacement by average value, replacement by most frequent value, entire rows excluded)\n",
        "- data formatting, bringing data in common standard of expression and right data type\n",
        "- data normalization (simple feature scaling)\n",
        "- data binning\n",
        "- turning some categorical values to numeric values\n",
        "\n",
        "The updated dataset has then been saved locally as csv-file."
      ],
      "metadata": {
        "id": "56zaBzqjqCJY"
      }
    },
    {
      "cell_type": "markdown",
      "source": [
        "# Import .csv-file from local directory"
      ],
      "metadata": {
        "id": "pLVyGKOWbEb5"
      }
    },
    {
      "cell_type": "code",
      "source": [
        "#import necessary libraries\n",
        "!pip install pandas\n",
        "!pip install matplotlib\n",
        "!pip install scipy\n",
        "!pip install seaborn"
      ],
      "metadata": {
        "id": "JiTsO0h1YW35",
        "colab": {
          "base_uri": "https://localhost:8080/"
        },
        "outputId": "022a137d-9063-4383-d591-a25ce9677f47"
      },
      "execution_count": 1,
      "outputs": [
        {
          "output_type": "stream",
          "name": "stdout",
          "text": [
            "Looking in indexes: https://pypi.org/simple, https://us-python.pkg.dev/colab-wheels/public/simple/\n",
            "Requirement already satisfied: pandas in /usr/local/lib/python3.7/dist-packages (1.3.5)\n",
            "Requirement already satisfied: python-dateutil>=2.7.3 in /usr/local/lib/python3.7/dist-packages (from pandas) (2.8.2)\n",
            "Requirement already satisfied: numpy>=1.17.3 in /usr/local/lib/python3.7/dist-packages (from pandas) (1.21.6)\n",
            "Requirement already satisfied: pytz>=2017.3 in /usr/local/lib/python3.7/dist-packages (from pandas) (2022.2.1)\n",
            "Requirement already satisfied: six>=1.5 in /usr/local/lib/python3.7/dist-packages (from python-dateutil>=2.7.3->pandas) (1.15.0)\n",
            "Looking in indexes: https://pypi.org/simple, https://us-python.pkg.dev/colab-wheels/public/simple/\n",
            "Requirement already satisfied: matplotlib in /usr/local/lib/python3.7/dist-packages (3.2.2)\n",
            "Requirement already satisfied: pyparsing!=2.0.4,!=2.1.2,!=2.1.6,>=2.0.1 in /usr/local/lib/python3.7/dist-packages (from matplotlib) (3.0.9)\n",
            "Requirement already satisfied: python-dateutil>=2.1 in /usr/local/lib/python3.7/dist-packages (from matplotlib) (2.8.2)\n",
            "Requirement already satisfied: cycler>=0.10 in /usr/local/lib/python3.7/dist-packages (from matplotlib) (0.11.0)\n",
            "Requirement already satisfied: kiwisolver>=1.0.1 in /usr/local/lib/python3.7/dist-packages (from matplotlib) (1.4.4)\n",
            "Requirement already satisfied: numpy>=1.11 in /usr/local/lib/python3.7/dist-packages (from matplotlib) (1.21.6)\n",
            "Requirement already satisfied: typing-extensions in /usr/local/lib/python3.7/dist-packages (from kiwisolver>=1.0.1->matplotlib) (4.1.1)\n",
            "Requirement already satisfied: six>=1.5 in /usr/local/lib/python3.7/dist-packages (from python-dateutil>=2.1->matplotlib) (1.15.0)\n",
            "Looking in indexes: https://pypi.org/simple, https://us-python.pkg.dev/colab-wheels/public/simple/\n",
            "Requirement already satisfied: scipy in /usr/local/lib/python3.7/dist-packages (1.7.3)\n",
            "Requirement already satisfied: numpy<1.23.0,>=1.16.5 in /usr/local/lib/python3.7/dist-packages (from scipy) (1.21.6)\n",
            "Looking in indexes: https://pypi.org/simple, https://us-python.pkg.dev/colab-wheels/public/simple/\n",
            "Requirement already satisfied: seaborn in /usr/local/lib/python3.7/dist-packages (0.11.2)\n",
            "Requirement already satisfied: scipy>=1.0 in /usr/local/lib/python3.7/dist-packages (from seaborn) (1.7.3)\n",
            "Requirement already satisfied: pandas>=0.23 in /usr/local/lib/python3.7/dist-packages (from seaborn) (1.3.5)\n",
            "Requirement already satisfied: matplotlib>=2.2 in /usr/local/lib/python3.7/dist-packages (from seaborn) (3.2.2)\n",
            "Requirement already satisfied: numpy>=1.15 in /usr/local/lib/python3.7/dist-packages (from seaborn) (1.21.6)\n",
            "Requirement already satisfied: pyparsing!=2.0.4,!=2.1.2,!=2.1.6,>=2.0.1 in /usr/local/lib/python3.7/dist-packages (from matplotlib>=2.2->seaborn) (3.0.9)\n",
            "Requirement already satisfied: kiwisolver>=1.0.1 in /usr/local/lib/python3.7/dist-packages (from matplotlib>=2.2->seaborn) (1.4.4)\n",
            "Requirement already satisfied: python-dateutil>=2.1 in /usr/local/lib/python3.7/dist-packages (from matplotlib>=2.2->seaborn) (2.8.2)\n",
            "Requirement already satisfied: cycler>=0.10 in /usr/local/lib/python3.7/dist-packages (from matplotlib>=2.2->seaborn) (0.11.0)\n",
            "Requirement already satisfied: typing-extensions in /usr/local/lib/python3.7/dist-packages (from kiwisolver>=1.0.1->matplotlib>=2.2->seaborn) (4.1.1)\n",
            "Requirement already satisfied: pytz>=2017.3 in /usr/local/lib/python3.7/dist-packages (from pandas>=0.23->seaborn) (2022.2.1)\n",
            "Requirement already satisfied: six>=1.5 in /usr/local/lib/python3.7/dist-packages (from python-dateutil>=2.1->matplotlib>=2.2->seaborn) (1.15.0)\n"
          ]
        }
      ]
    },
    {
      "cell_type": "code",
      "source": [
        "import pandas as pd\n",
        "import numpy as np"
      ],
      "metadata": {
        "id": "SyduswW9Xg50"
      },
      "execution_count": 2,
      "outputs": []
    },
    {
      "cell_type": "code",
      "source": [
        "from google.colab import drive\n",
        "drive.mount('/content/drive')"
      ],
      "metadata": {
        "colab": {
          "base_uri": "https://localhost:8080/"
        },
        "id": "UkQAFVvhkzmp",
        "outputId": "0c67304f-14ea-4f97-a85e-3f15c92a7fcc"
      },
      "execution_count": 3,
      "outputs": [
        {
          "output_type": "stream",
          "name": "stdout",
          "text": [
            "Mounted at /content/drive\n"
          ]
        }
      ]
    },
    {
      "cell_type": "code",
      "source": [
        "#upload local file to this notebook\n",
        "##copy path and store it in dataframe df\n",
        "path= \"/content/drive/MyDrive/data_updated.csv\"\n",
        "df = pd.read_csv(path)"
      ],
      "metadata": {
        "id": "9DBhOpIYXqM8"
      },
      "execution_count": 4,
      "outputs": []
    },
    {
      "cell_type": "code",
      "source": [
        "df.head()"
      ],
      "metadata": {
        "colab": {
          "base_uri": "https://localhost:8080/",
          "height": 386
        },
        "id": "zO4RQpzlwXpY",
        "outputId": "5212d0ac-ed00-4f28-9f43-7b5b9e95cf8f"
      },
      "execution_count": 5,
      "outputs": [
        {
          "output_type": "execute_result",
          "data": {
            "text/plain": [
              "   Unnamed: 0    price  symboling  normalized-losses         make  \\\n",
              "0           0  13495.0          3                122  alfa-romero   \n",
              "1           1  16500.0          3                122  alfa-romero   \n",
              "2           2  16500.0          1                122  alfa-romero   \n",
              "3           3  13950.0          2                164         audi   \n",
              "4           4  17450.0          2                164         audi   \n",
              "\n",
              "    body-style drive-wheels  wheel-base engine-location  engine-size  ...  \\\n",
              "0  convertible          rwd        88.6           front          130  ...   \n",
              "1  convertible          rwd        88.6           front          130  ...   \n",
              "2    hatchback          rwd        94.5           front          152  ...   \n",
              "3        sedan          fwd        99.8           front          109  ...   \n",
              "4        sedan          4wd        99.4           front          136  ...   \n",
              "\n",
              "  highway-mpg  highway-L/100km  horsepower  horsepower-binned  \\\n",
              "0          27         8.703704         111                Low   \n",
              "1          27         8.703704         111                Low   \n",
              "2          26         9.038462         154             Medium   \n",
              "3          30         7.833333         102                Low   \n",
              "4          22        10.681818         115                Low   \n",
              "\n",
              "   fuel-type-diesel fuel-type-gas aspiration-std  aspiration-turbo  4-doors  \\\n",
              "0                 0             1              1                 0        0   \n",
              "1                 0             1              1                 0        0   \n",
              "2                 0             1              1                 0        0   \n",
              "3                 0             1              1                 0        1   \n",
              "4                 0             1              1                 0        1   \n",
              "\n",
              "   2-doors  \n",
              "0        1  \n",
              "1        1  \n",
              "2        1  \n",
              "3        0  \n",
              "4        0  \n",
              "\n",
              "[5 rows x 33 columns]"
            ],
            "text/html": [
              "\n",
              "  <div id=\"df-63c604cd-4dd6-4f4d-a82a-30d689eb0d8c\">\n",
              "    <div class=\"colab-df-container\">\n",
              "      <div>\n",
              "<style scoped>\n",
              "    .dataframe tbody tr th:only-of-type {\n",
              "        vertical-align: middle;\n",
              "    }\n",
              "\n",
              "    .dataframe tbody tr th {\n",
              "        vertical-align: top;\n",
              "    }\n",
              "\n",
              "    .dataframe thead th {\n",
              "        text-align: right;\n",
              "    }\n",
              "</style>\n",
              "<table border=\"1\" class=\"dataframe\">\n",
              "  <thead>\n",
              "    <tr style=\"text-align: right;\">\n",
              "      <th></th>\n",
              "      <th>Unnamed: 0</th>\n",
              "      <th>price</th>\n",
              "      <th>symboling</th>\n",
              "      <th>normalized-losses</th>\n",
              "      <th>make</th>\n",
              "      <th>body-style</th>\n",
              "      <th>drive-wheels</th>\n",
              "      <th>wheel-base</th>\n",
              "      <th>engine-location</th>\n",
              "      <th>engine-size</th>\n",
              "      <th>...</th>\n",
              "      <th>highway-mpg</th>\n",
              "      <th>highway-L/100km</th>\n",
              "      <th>horsepower</th>\n",
              "      <th>horsepower-binned</th>\n",
              "      <th>fuel-type-diesel</th>\n",
              "      <th>fuel-type-gas</th>\n",
              "      <th>aspiration-std</th>\n",
              "      <th>aspiration-turbo</th>\n",
              "      <th>4-doors</th>\n",
              "      <th>2-doors</th>\n",
              "    </tr>\n",
              "  </thead>\n",
              "  <tbody>\n",
              "    <tr>\n",
              "      <th>0</th>\n",
              "      <td>0</td>\n",
              "      <td>13495.0</td>\n",
              "      <td>3</td>\n",
              "      <td>122</td>\n",
              "      <td>alfa-romero</td>\n",
              "      <td>convertible</td>\n",
              "      <td>rwd</td>\n",
              "      <td>88.6</td>\n",
              "      <td>front</td>\n",
              "      <td>130</td>\n",
              "      <td>...</td>\n",
              "      <td>27</td>\n",
              "      <td>8.703704</td>\n",
              "      <td>111</td>\n",
              "      <td>Low</td>\n",
              "      <td>0</td>\n",
              "      <td>1</td>\n",
              "      <td>1</td>\n",
              "      <td>0</td>\n",
              "      <td>0</td>\n",
              "      <td>1</td>\n",
              "    </tr>\n",
              "    <tr>\n",
              "      <th>1</th>\n",
              "      <td>1</td>\n",
              "      <td>16500.0</td>\n",
              "      <td>3</td>\n",
              "      <td>122</td>\n",
              "      <td>alfa-romero</td>\n",
              "      <td>convertible</td>\n",
              "      <td>rwd</td>\n",
              "      <td>88.6</td>\n",
              "      <td>front</td>\n",
              "      <td>130</td>\n",
              "      <td>...</td>\n",
              "      <td>27</td>\n",
              "      <td>8.703704</td>\n",
              "      <td>111</td>\n",
              "      <td>Low</td>\n",
              "      <td>0</td>\n",
              "      <td>1</td>\n",
              "      <td>1</td>\n",
              "      <td>0</td>\n",
              "      <td>0</td>\n",
              "      <td>1</td>\n",
              "    </tr>\n",
              "    <tr>\n",
              "      <th>2</th>\n",
              "      <td>2</td>\n",
              "      <td>16500.0</td>\n",
              "      <td>1</td>\n",
              "      <td>122</td>\n",
              "      <td>alfa-romero</td>\n",
              "      <td>hatchback</td>\n",
              "      <td>rwd</td>\n",
              "      <td>94.5</td>\n",
              "      <td>front</td>\n",
              "      <td>152</td>\n",
              "      <td>...</td>\n",
              "      <td>26</td>\n",
              "      <td>9.038462</td>\n",
              "      <td>154</td>\n",
              "      <td>Medium</td>\n",
              "      <td>0</td>\n",
              "      <td>1</td>\n",
              "      <td>1</td>\n",
              "      <td>0</td>\n",
              "      <td>0</td>\n",
              "      <td>1</td>\n",
              "    </tr>\n",
              "    <tr>\n",
              "      <th>3</th>\n",
              "      <td>3</td>\n",
              "      <td>13950.0</td>\n",
              "      <td>2</td>\n",
              "      <td>164</td>\n",
              "      <td>audi</td>\n",
              "      <td>sedan</td>\n",
              "      <td>fwd</td>\n",
              "      <td>99.8</td>\n",
              "      <td>front</td>\n",
              "      <td>109</td>\n",
              "      <td>...</td>\n",
              "      <td>30</td>\n",
              "      <td>7.833333</td>\n",
              "      <td>102</td>\n",
              "      <td>Low</td>\n",
              "      <td>0</td>\n",
              "      <td>1</td>\n",
              "      <td>1</td>\n",
              "      <td>0</td>\n",
              "      <td>1</td>\n",
              "      <td>0</td>\n",
              "    </tr>\n",
              "    <tr>\n",
              "      <th>4</th>\n",
              "      <td>4</td>\n",
              "      <td>17450.0</td>\n",
              "      <td>2</td>\n",
              "      <td>164</td>\n",
              "      <td>audi</td>\n",
              "      <td>sedan</td>\n",
              "      <td>4wd</td>\n",
              "      <td>99.4</td>\n",
              "      <td>front</td>\n",
              "      <td>136</td>\n",
              "      <td>...</td>\n",
              "      <td>22</td>\n",
              "      <td>10.681818</td>\n",
              "      <td>115</td>\n",
              "      <td>Low</td>\n",
              "      <td>0</td>\n",
              "      <td>1</td>\n",
              "      <td>1</td>\n",
              "      <td>0</td>\n",
              "      <td>1</td>\n",
              "      <td>0</td>\n",
              "    </tr>\n",
              "  </tbody>\n",
              "</table>\n",
              "<p>5 rows × 33 columns</p>\n",
              "</div>\n",
              "      <button class=\"colab-df-convert\" onclick=\"convertToInteractive('df-63c604cd-4dd6-4f4d-a82a-30d689eb0d8c')\"\n",
              "              title=\"Convert this dataframe to an interactive table.\"\n",
              "              style=\"display:none;\">\n",
              "        \n",
              "  <svg xmlns=\"http://www.w3.org/2000/svg\" height=\"24px\"viewBox=\"0 0 24 24\"\n",
              "       width=\"24px\">\n",
              "    <path d=\"M0 0h24v24H0V0z\" fill=\"none\"/>\n",
              "    <path d=\"M18.56 5.44l.94 2.06.94-2.06 2.06-.94-2.06-.94-.94-2.06-.94 2.06-2.06.94zm-11 1L8.5 8.5l.94-2.06 2.06-.94-2.06-.94L8.5 2.5l-.94 2.06-2.06.94zm10 10l.94 2.06.94-2.06 2.06-.94-2.06-.94-.94-2.06-.94 2.06-2.06.94z\"/><path d=\"M17.41 7.96l-1.37-1.37c-.4-.4-.92-.59-1.43-.59-.52 0-1.04.2-1.43.59L10.3 9.45l-7.72 7.72c-.78.78-.78 2.05 0 2.83L4 21.41c.39.39.9.59 1.41.59.51 0 1.02-.2 1.41-.59l7.78-7.78 2.81-2.81c.8-.78.8-2.07 0-2.86zM5.41 20L4 18.59l7.72-7.72 1.47 1.35L5.41 20z\"/>\n",
              "  </svg>\n",
              "      </button>\n",
              "      \n",
              "  <style>\n",
              "    .colab-df-container {\n",
              "      display:flex;\n",
              "      flex-wrap:wrap;\n",
              "      gap: 12px;\n",
              "    }\n",
              "\n",
              "    .colab-df-convert {\n",
              "      background-color: #E8F0FE;\n",
              "      border: none;\n",
              "      border-radius: 50%;\n",
              "      cursor: pointer;\n",
              "      display: none;\n",
              "      fill: #1967D2;\n",
              "      height: 32px;\n",
              "      padding: 0 0 0 0;\n",
              "      width: 32px;\n",
              "    }\n",
              "\n",
              "    .colab-df-convert:hover {\n",
              "      background-color: #E2EBFA;\n",
              "      box-shadow: 0px 1px 2px rgba(60, 64, 67, 0.3), 0px 1px 3px 1px rgba(60, 64, 67, 0.15);\n",
              "      fill: #174EA6;\n",
              "    }\n",
              "\n",
              "    [theme=dark] .colab-df-convert {\n",
              "      background-color: #3B4455;\n",
              "      fill: #D2E3FC;\n",
              "    }\n",
              "\n",
              "    [theme=dark] .colab-df-convert:hover {\n",
              "      background-color: #434B5C;\n",
              "      box-shadow: 0px 1px 3px 1px rgba(0, 0, 0, 0.15);\n",
              "      filter: drop-shadow(0px 1px 2px rgba(0, 0, 0, 0.3));\n",
              "      fill: #FFFFFF;\n",
              "    }\n",
              "  </style>\n",
              "\n",
              "      <script>\n",
              "        const buttonEl =\n",
              "          document.querySelector('#df-63c604cd-4dd6-4f4d-a82a-30d689eb0d8c button.colab-df-convert');\n",
              "        buttonEl.style.display =\n",
              "          google.colab.kernel.accessAllowed ? 'block' : 'none';\n",
              "\n",
              "        async function convertToInteractive(key) {\n",
              "          const element = document.querySelector('#df-63c604cd-4dd6-4f4d-a82a-30d689eb0d8c');\n",
              "          const dataTable =\n",
              "            await google.colab.kernel.invokeFunction('convertToInteractive',\n",
              "                                                     [key], {});\n",
              "          if (!dataTable) return;\n",
              "\n",
              "          const docLinkHtml = 'Like what you see? Visit the ' +\n",
              "            '<a target=\"_blank\" href=https://colab.research.google.com/notebooks/data_table.ipynb>data table notebook</a>'\n",
              "            + ' to learn more about interactive tables.';\n",
              "          element.innerHTML = '';\n",
              "          dataTable['output_type'] = 'display_data';\n",
              "          await google.colab.output.renderOutput(dataTable, element);\n",
              "          const docLink = document.createElement('div');\n",
              "          docLink.innerHTML = docLinkHtml;\n",
              "          element.appendChild(docLink);\n",
              "        }\n",
              "      </script>\n",
              "    </div>\n",
              "  </div>\n",
              "  "
            ]
          },
          "metadata": {},
          "execution_count": 5
        }
      ]
    },
    {
      "cell_type": "markdown",
      "source": [
        "# Exploratory Data Analysis"
      ],
      "metadata": {
        "id": "z1SzRQO-bWrc"
      }
    },
    {
      "cell_type": "markdown",
      "source": [
        "##**1. Analyzing Individual Feature Patterns Using Visualization**"
      ],
      "metadata": {
        "id": "GF5M3HYCvLh4"
      }
    },
    {
      "cell_type": "code",
      "source": [
        "#Import visualization packages \"Matplotlib\" and \"Seaborn\"\n",
        "##Don't forget about \"%matplotlib inline\" to plot in a Jupyter notebook.\n",
        "\n",
        "import matplotlib.pyplot as plt\n",
        "import seaborn as sns\n",
        "%matplotlib inline "
      ],
      "metadata": {
        "id": "Oh8-vQfCba0t"
      },
      "execution_count": 6,
      "outputs": []
    },
    {
      "cell_type": "code",
      "source": [
        "# list the data types for each column\n",
        "print(df.dtypes)"
      ],
      "metadata": {
        "colab": {
          "base_uri": "https://localhost:8080/"
        },
        "id": "sEXUUzIrba_K",
        "outputId": "6bc839ef-f766-4d8d-9f99-35c6e8e53fb4"
      },
      "execution_count": 7,
      "outputs": [
        {
          "output_type": "stream",
          "name": "stdout",
          "text": [
            "Unnamed: 0             int64\n",
            "price                float64\n",
            "symboling              int64\n",
            "normalized-losses      int64\n",
            "make                  object\n",
            "body-style            object\n",
            "drive-wheels          object\n",
            "wheel-base           float64\n",
            "engine-location       object\n",
            "engine-size            int64\n",
            "engine-type           object\n",
            "normalized-length    float64\n",
            "normalized-width     float64\n",
            "normalized-height    float64\n",
            "curb-weight            int64\n",
            "num-of-cylinders      object\n",
            "fuel-system           object\n",
            "bore                 float64\n",
            "stroke               float64\n",
            "compression-ratio    float64\n",
            "peak-rpm             float64\n",
            "city-mpg               int64\n",
            "city-L/100km         float64\n",
            "highway-mpg            int64\n",
            "highway-L/100km      float64\n",
            "horsepower             int64\n",
            "horsepower-binned     object\n",
            "fuel-type-diesel       int64\n",
            "fuel-type-gas          int64\n",
            "aspiration-std         int64\n",
            "aspiration-turbo       int64\n",
            "4-doors                int64\n",
            "2-doors                int64\n",
            "dtype: object\n"
          ]
        }
      ]
    },
    {
      "cell_type": "code",
      "source": [
        "#rearrange columns\n",
        "cols = df.columns.tolist()\n",
        "cols"
      ],
      "metadata": {
        "id": "z9t1Qv2Dwpe7",
        "colab": {
          "base_uri": "https://localhost:8080/"
        },
        "outputId": "2874543c-d1a5-4bce-c2fc-bbe27b6fc8b9"
      },
      "execution_count": 8,
      "outputs": [
        {
          "output_type": "execute_result",
          "data": {
            "text/plain": [
              "['Unnamed: 0',\n",
              " 'price',\n",
              " 'symboling',\n",
              " 'normalized-losses',\n",
              " 'make',\n",
              " 'body-style',\n",
              " 'drive-wheels',\n",
              " 'wheel-base',\n",
              " 'engine-location',\n",
              " 'engine-size',\n",
              " 'engine-type',\n",
              " 'normalized-length',\n",
              " 'normalized-width',\n",
              " 'normalized-height',\n",
              " 'curb-weight',\n",
              " 'num-of-cylinders',\n",
              " 'fuel-system',\n",
              " 'bore',\n",
              " 'stroke',\n",
              " 'compression-ratio',\n",
              " 'peak-rpm',\n",
              " 'city-mpg',\n",
              " 'city-L/100km',\n",
              " 'highway-mpg',\n",
              " 'highway-L/100km',\n",
              " 'horsepower',\n",
              " 'horsepower-binned',\n",
              " 'fuel-type-diesel',\n",
              " 'fuel-type-gas',\n",
              " 'aspiration-std',\n",
              " 'aspiration-turbo',\n",
              " '4-doors',\n",
              " '2-doors']"
            ]
          },
          "metadata": {},
          "execution_count": 8
        }
      ]
    },
    {
      "cell_type": "code",
      "source": [
        "#drop column 'Unnamed: 0'\n",
        "df.drop('Unnamed: 0', axis=1, inplace=True)"
      ],
      "metadata": {
        "id": "ZXQszYrTlf1q"
      },
      "execution_count": 9,
      "outputs": []
    },
    {
      "cell_type": "code",
      "source": [
        "colsNew=['price', 'symboling',\n",
        " 'normalized-losses',\n",
        " 'make',\n",
        " 'body-style',\n",
        " 'drive-wheels','wheel-base',\n",
        " 'engine-location',\n",
        " 'engine-size','engine-type',\n",
        " 'normalized-length',\n",
        " 'normalized-width',\n",
        " 'normalized-height',\n",
        " 'curb-weight',\n",
        "  'num-of-cylinders',\n",
        "  'fuel-system',\n",
        " 'bore',\n",
        " 'stroke',\n",
        " 'compression-ratio','peak-rpm',\n",
        "  'city-mpg','city-L/100km',\n",
        " 'highway-mpg', 'highway-L/100km',\n",
        " 'horsepower',\n",
        " 'horsepower-binned', 'fuel-type-diesel',\n",
        " 'fuel-type-gas',\n",
        " 'aspiration-std',\n",
        " 'aspiration-turbo',\n",
        " '4-doors',\n",
        " '2-doors']"
      ],
      "metadata": {
        "id": "rsokkC4_wpkw"
      },
      "execution_count": 10,
      "outputs": []
    },
    {
      "cell_type": "code",
      "source": [
        "df = df[colsNew]\n",
        "df.head()"
      ],
      "metadata": {
        "colab": {
          "base_uri": "https://localhost:8080/",
          "height": 386
        },
        "id": "OesdAoi_wpnl",
        "outputId": "6e86e791-a057-43e1-e0c0-af583079dc9b"
      },
      "execution_count": 11,
      "outputs": [
        {
          "output_type": "execute_result",
          "data": {
            "text/plain": [
              "     price  symboling  normalized-losses         make   body-style  \\\n",
              "0  13495.0          3                122  alfa-romero  convertible   \n",
              "1  16500.0          3                122  alfa-romero  convertible   \n",
              "2  16500.0          1                122  alfa-romero    hatchback   \n",
              "3  13950.0          2                164         audi        sedan   \n",
              "4  17450.0          2                164         audi        sedan   \n",
              "\n",
              "  drive-wheels  wheel-base engine-location  engine-size engine-type  ...  \\\n",
              "0          rwd        88.6           front          130        dohc  ...   \n",
              "1          rwd        88.6           front          130        dohc  ...   \n",
              "2          rwd        94.5           front          152        ohcv  ...   \n",
              "3          fwd        99.8           front          109         ohc  ...   \n",
              "4          4wd        99.4           front          136         ohc  ...   \n",
              "\n",
              "   highway-mpg  highway-L/100km  horsepower  horsepower-binned  \\\n",
              "0           27         8.703704         111                Low   \n",
              "1           27         8.703704         111                Low   \n",
              "2           26         9.038462         154             Medium   \n",
              "3           30         7.833333         102                Low   \n",
              "4           22        10.681818         115                Low   \n",
              "\n",
              "  fuel-type-diesel fuel-type-gas  aspiration-std  aspiration-turbo  4-doors  \\\n",
              "0                0             1               1                 0        0   \n",
              "1                0             1               1                 0        0   \n",
              "2                0             1               1                 0        0   \n",
              "3                0             1               1                 0        1   \n",
              "4                0             1               1                 0        1   \n",
              "\n",
              "   2-doors  \n",
              "0        1  \n",
              "1        1  \n",
              "2        1  \n",
              "3        0  \n",
              "4        0  \n",
              "\n",
              "[5 rows x 32 columns]"
            ],
            "text/html": [
              "\n",
              "  <div id=\"df-0c37a7ce-8058-4fa5-8054-27950bc4c0da\">\n",
              "    <div class=\"colab-df-container\">\n",
              "      <div>\n",
              "<style scoped>\n",
              "    .dataframe tbody tr th:only-of-type {\n",
              "        vertical-align: middle;\n",
              "    }\n",
              "\n",
              "    .dataframe tbody tr th {\n",
              "        vertical-align: top;\n",
              "    }\n",
              "\n",
              "    .dataframe thead th {\n",
              "        text-align: right;\n",
              "    }\n",
              "</style>\n",
              "<table border=\"1\" class=\"dataframe\">\n",
              "  <thead>\n",
              "    <tr style=\"text-align: right;\">\n",
              "      <th></th>\n",
              "      <th>price</th>\n",
              "      <th>symboling</th>\n",
              "      <th>normalized-losses</th>\n",
              "      <th>make</th>\n",
              "      <th>body-style</th>\n",
              "      <th>drive-wheels</th>\n",
              "      <th>wheel-base</th>\n",
              "      <th>engine-location</th>\n",
              "      <th>engine-size</th>\n",
              "      <th>engine-type</th>\n",
              "      <th>...</th>\n",
              "      <th>highway-mpg</th>\n",
              "      <th>highway-L/100km</th>\n",
              "      <th>horsepower</th>\n",
              "      <th>horsepower-binned</th>\n",
              "      <th>fuel-type-diesel</th>\n",
              "      <th>fuel-type-gas</th>\n",
              "      <th>aspiration-std</th>\n",
              "      <th>aspiration-turbo</th>\n",
              "      <th>4-doors</th>\n",
              "      <th>2-doors</th>\n",
              "    </tr>\n",
              "  </thead>\n",
              "  <tbody>\n",
              "    <tr>\n",
              "      <th>0</th>\n",
              "      <td>13495.0</td>\n",
              "      <td>3</td>\n",
              "      <td>122</td>\n",
              "      <td>alfa-romero</td>\n",
              "      <td>convertible</td>\n",
              "      <td>rwd</td>\n",
              "      <td>88.6</td>\n",
              "      <td>front</td>\n",
              "      <td>130</td>\n",
              "      <td>dohc</td>\n",
              "      <td>...</td>\n",
              "      <td>27</td>\n",
              "      <td>8.703704</td>\n",
              "      <td>111</td>\n",
              "      <td>Low</td>\n",
              "      <td>0</td>\n",
              "      <td>1</td>\n",
              "      <td>1</td>\n",
              "      <td>0</td>\n",
              "      <td>0</td>\n",
              "      <td>1</td>\n",
              "    </tr>\n",
              "    <tr>\n",
              "      <th>1</th>\n",
              "      <td>16500.0</td>\n",
              "      <td>3</td>\n",
              "      <td>122</td>\n",
              "      <td>alfa-romero</td>\n",
              "      <td>convertible</td>\n",
              "      <td>rwd</td>\n",
              "      <td>88.6</td>\n",
              "      <td>front</td>\n",
              "      <td>130</td>\n",
              "      <td>dohc</td>\n",
              "      <td>...</td>\n",
              "      <td>27</td>\n",
              "      <td>8.703704</td>\n",
              "      <td>111</td>\n",
              "      <td>Low</td>\n",
              "      <td>0</td>\n",
              "      <td>1</td>\n",
              "      <td>1</td>\n",
              "      <td>0</td>\n",
              "      <td>0</td>\n",
              "      <td>1</td>\n",
              "    </tr>\n",
              "    <tr>\n",
              "      <th>2</th>\n",
              "      <td>16500.0</td>\n",
              "      <td>1</td>\n",
              "      <td>122</td>\n",
              "      <td>alfa-romero</td>\n",
              "      <td>hatchback</td>\n",
              "      <td>rwd</td>\n",
              "      <td>94.5</td>\n",
              "      <td>front</td>\n",
              "      <td>152</td>\n",
              "      <td>ohcv</td>\n",
              "      <td>...</td>\n",
              "      <td>26</td>\n",
              "      <td>9.038462</td>\n",
              "      <td>154</td>\n",
              "      <td>Medium</td>\n",
              "      <td>0</td>\n",
              "      <td>1</td>\n",
              "      <td>1</td>\n",
              "      <td>0</td>\n",
              "      <td>0</td>\n",
              "      <td>1</td>\n",
              "    </tr>\n",
              "    <tr>\n",
              "      <th>3</th>\n",
              "      <td>13950.0</td>\n",
              "      <td>2</td>\n",
              "      <td>164</td>\n",
              "      <td>audi</td>\n",
              "      <td>sedan</td>\n",
              "      <td>fwd</td>\n",
              "      <td>99.8</td>\n",
              "      <td>front</td>\n",
              "      <td>109</td>\n",
              "      <td>ohc</td>\n",
              "      <td>...</td>\n",
              "      <td>30</td>\n",
              "      <td>7.833333</td>\n",
              "      <td>102</td>\n",
              "      <td>Low</td>\n",
              "      <td>0</td>\n",
              "      <td>1</td>\n",
              "      <td>1</td>\n",
              "      <td>0</td>\n",
              "      <td>1</td>\n",
              "      <td>0</td>\n",
              "    </tr>\n",
              "    <tr>\n",
              "      <th>4</th>\n",
              "      <td>17450.0</td>\n",
              "      <td>2</td>\n",
              "      <td>164</td>\n",
              "      <td>audi</td>\n",
              "      <td>sedan</td>\n",
              "      <td>4wd</td>\n",
              "      <td>99.4</td>\n",
              "      <td>front</td>\n",
              "      <td>136</td>\n",
              "      <td>ohc</td>\n",
              "      <td>...</td>\n",
              "      <td>22</td>\n",
              "      <td>10.681818</td>\n",
              "      <td>115</td>\n",
              "      <td>Low</td>\n",
              "      <td>0</td>\n",
              "      <td>1</td>\n",
              "      <td>1</td>\n",
              "      <td>0</td>\n",
              "      <td>1</td>\n",
              "      <td>0</td>\n",
              "    </tr>\n",
              "  </tbody>\n",
              "</table>\n",
              "<p>5 rows × 32 columns</p>\n",
              "</div>\n",
              "      <button class=\"colab-df-convert\" onclick=\"convertToInteractive('df-0c37a7ce-8058-4fa5-8054-27950bc4c0da')\"\n",
              "              title=\"Convert this dataframe to an interactive table.\"\n",
              "              style=\"display:none;\">\n",
              "        \n",
              "  <svg xmlns=\"http://www.w3.org/2000/svg\" height=\"24px\"viewBox=\"0 0 24 24\"\n",
              "       width=\"24px\">\n",
              "    <path d=\"M0 0h24v24H0V0z\" fill=\"none\"/>\n",
              "    <path d=\"M18.56 5.44l.94 2.06.94-2.06 2.06-.94-2.06-.94-.94-2.06-.94 2.06-2.06.94zm-11 1L8.5 8.5l.94-2.06 2.06-.94-2.06-.94L8.5 2.5l-.94 2.06-2.06.94zm10 10l.94 2.06.94-2.06 2.06-.94-2.06-.94-.94-2.06-.94 2.06-2.06.94z\"/><path d=\"M17.41 7.96l-1.37-1.37c-.4-.4-.92-.59-1.43-.59-.52 0-1.04.2-1.43.59L10.3 9.45l-7.72 7.72c-.78.78-.78 2.05 0 2.83L4 21.41c.39.39.9.59 1.41.59.51 0 1.02-.2 1.41-.59l7.78-7.78 2.81-2.81c.8-.78.8-2.07 0-2.86zM5.41 20L4 18.59l7.72-7.72 1.47 1.35L5.41 20z\"/>\n",
              "  </svg>\n",
              "      </button>\n",
              "      \n",
              "  <style>\n",
              "    .colab-df-container {\n",
              "      display:flex;\n",
              "      flex-wrap:wrap;\n",
              "      gap: 12px;\n",
              "    }\n",
              "\n",
              "    .colab-df-convert {\n",
              "      background-color: #E8F0FE;\n",
              "      border: none;\n",
              "      border-radius: 50%;\n",
              "      cursor: pointer;\n",
              "      display: none;\n",
              "      fill: #1967D2;\n",
              "      height: 32px;\n",
              "      padding: 0 0 0 0;\n",
              "      width: 32px;\n",
              "    }\n",
              "\n",
              "    .colab-df-convert:hover {\n",
              "      background-color: #E2EBFA;\n",
              "      box-shadow: 0px 1px 2px rgba(60, 64, 67, 0.3), 0px 1px 3px 1px rgba(60, 64, 67, 0.15);\n",
              "      fill: #174EA6;\n",
              "    }\n",
              "\n",
              "    [theme=dark] .colab-df-convert {\n",
              "      background-color: #3B4455;\n",
              "      fill: #D2E3FC;\n",
              "    }\n",
              "\n",
              "    [theme=dark] .colab-df-convert:hover {\n",
              "      background-color: #434B5C;\n",
              "      box-shadow: 0px 1px 3px 1px rgba(0, 0, 0, 0.15);\n",
              "      filter: drop-shadow(0px 1px 2px rgba(0, 0, 0, 0.3));\n",
              "      fill: #FFFFFF;\n",
              "    }\n",
              "  </style>\n",
              "\n",
              "      <script>\n",
              "        const buttonEl =\n",
              "          document.querySelector('#df-0c37a7ce-8058-4fa5-8054-27950bc4c0da button.colab-df-convert');\n",
              "        buttonEl.style.display =\n",
              "          google.colab.kernel.accessAllowed ? 'block' : 'none';\n",
              "\n",
              "        async function convertToInteractive(key) {\n",
              "          const element = document.querySelector('#df-0c37a7ce-8058-4fa5-8054-27950bc4c0da');\n",
              "          const dataTable =\n",
              "            await google.colab.kernel.invokeFunction('convertToInteractive',\n",
              "                                                     [key], {});\n",
              "          if (!dataTable) return;\n",
              "\n",
              "          const docLinkHtml = 'Like what you see? Visit the ' +\n",
              "            '<a target=\"_blank\" href=https://colab.research.google.com/notebooks/data_table.ipynb>data table notebook</a>'\n",
              "            + ' to learn more about interactive tables.';\n",
              "          element.innerHTML = '';\n",
              "          dataTable['output_type'] = 'display_data';\n",
              "          await google.colab.output.renderOutput(dataTable, element);\n",
              "          const docLink = document.createElement('div');\n",
              "          docLink.innerHTML = docLinkHtml;\n",
              "          element.appendChild(docLink);\n",
              "        }\n",
              "      </script>\n",
              "    </div>\n",
              "  </div>\n",
              "  "
            ]
          },
          "metadata": {},
          "execution_count": 11
        }
      ]
    },
    {
      "cell_type": "code",
      "source": [
        "#Find the correlation between the following columns: bore, stroke, compression-ratio, and horsepower\n",
        "df[['bore','stroke','compression-ratio','horsepower']].corr()"
      ],
      "metadata": {
        "colab": {
          "base_uri": "https://localhost:8080/",
          "height": 175
        },
        "id": "RRrOXQz5wpzZ",
        "outputId": "23180e1b-1e9b-4d4b-d920-0eef5e65762b"
      },
      "execution_count": 12,
      "outputs": [
        {
          "output_type": "execute_result",
          "data": {
            "text/plain": [
              "                       bore    stroke  compression-ratio  horsepower\n",
              "bore               1.000000 -0.055390           0.001263    0.566903\n",
              "stroke            -0.055390  1.000000           0.187923    0.098322\n",
              "compression-ratio  0.001263  0.187923           1.000000   -0.214489\n",
              "horsepower         0.566903  0.098322          -0.214489    1.000000"
            ],
            "text/html": [
              "\n",
              "  <div id=\"df-b6e33121-4b6a-442f-8119-fae015fa9a0b\">\n",
              "    <div class=\"colab-df-container\">\n",
              "      <div>\n",
              "<style scoped>\n",
              "    .dataframe tbody tr th:only-of-type {\n",
              "        vertical-align: middle;\n",
              "    }\n",
              "\n",
              "    .dataframe tbody tr th {\n",
              "        vertical-align: top;\n",
              "    }\n",
              "\n",
              "    .dataframe thead th {\n",
              "        text-align: right;\n",
              "    }\n",
              "</style>\n",
              "<table border=\"1\" class=\"dataframe\">\n",
              "  <thead>\n",
              "    <tr style=\"text-align: right;\">\n",
              "      <th></th>\n",
              "      <th>bore</th>\n",
              "      <th>stroke</th>\n",
              "      <th>compression-ratio</th>\n",
              "      <th>horsepower</th>\n",
              "    </tr>\n",
              "  </thead>\n",
              "  <tbody>\n",
              "    <tr>\n",
              "      <th>bore</th>\n",
              "      <td>1.000000</td>\n",
              "      <td>-0.055390</td>\n",
              "      <td>0.001263</td>\n",
              "      <td>0.566903</td>\n",
              "    </tr>\n",
              "    <tr>\n",
              "      <th>stroke</th>\n",
              "      <td>-0.055390</td>\n",
              "      <td>1.000000</td>\n",
              "      <td>0.187923</td>\n",
              "      <td>0.098322</td>\n",
              "    </tr>\n",
              "    <tr>\n",
              "      <th>compression-ratio</th>\n",
              "      <td>0.001263</td>\n",
              "      <td>0.187923</td>\n",
              "      <td>1.000000</td>\n",
              "      <td>-0.214489</td>\n",
              "    </tr>\n",
              "    <tr>\n",
              "      <th>horsepower</th>\n",
              "      <td>0.566903</td>\n",
              "      <td>0.098322</td>\n",
              "      <td>-0.214489</td>\n",
              "      <td>1.000000</td>\n",
              "    </tr>\n",
              "  </tbody>\n",
              "</table>\n",
              "</div>\n",
              "      <button class=\"colab-df-convert\" onclick=\"convertToInteractive('df-b6e33121-4b6a-442f-8119-fae015fa9a0b')\"\n",
              "              title=\"Convert this dataframe to an interactive table.\"\n",
              "              style=\"display:none;\">\n",
              "        \n",
              "  <svg xmlns=\"http://www.w3.org/2000/svg\" height=\"24px\"viewBox=\"0 0 24 24\"\n",
              "       width=\"24px\">\n",
              "    <path d=\"M0 0h24v24H0V0z\" fill=\"none\"/>\n",
              "    <path d=\"M18.56 5.44l.94 2.06.94-2.06 2.06-.94-2.06-.94-.94-2.06-.94 2.06-2.06.94zm-11 1L8.5 8.5l.94-2.06 2.06-.94-2.06-.94L8.5 2.5l-.94 2.06-2.06.94zm10 10l.94 2.06.94-2.06 2.06-.94-2.06-.94-.94-2.06-.94 2.06-2.06.94z\"/><path d=\"M17.41 7.96l-1.37-1.37c-.4-.4-.92-.59-1.43-.59-.52 0-1.04.2-1.43.59L10.3 9.45l-7.72 7.72c-.78.78-.78 2.05 0 2.83L4 21.41c.39.39.9.59 1.41.59.51 0 1.02-.2 1.41-.59l7.78-7.78 2.81-2.81c.8-.78.8-2.07 0-2.86zM5.41 20L4 18.59l7.72-7.72 1.47 1.35L5.41 20z\"/>\n",
              "  </svg>\n",
              "      </button>\n",
              "      \n",
              "  <style>\n",
              "    .colab-df-container {\n",
              "      display:flex;\n",
              "      flex-wrap:wrap;\n",
              "      gap: 12px;\n",
              "    }\n",
              "\n",
              "    .colab-df-convert {\n",
              "      background-color: #E8F0FE;\n",
              "      border: none;\n",
              "      border-radius: 50%;\n",
              "      cursor: pointer;\n",
              "      display: none;\n",
              "      fill: #1967D2;\n",
              "      height: 32px;\n",
              "      padding: 0 0 0 0;\n",
              "      width: 32px;\n",
              "    }\n",
              "\n",
              "    .colab-df-convert:hover {\n",
              "      background-color: #E2EBFA;\n",
              "      box-shadow: 0px 1px 2px rgba(60, 64, 67, 0.3), 0px 1px 3px 1px rgba(60, 64, 67, 0.15);\n",
              "      fill: #174EA6;\n",
              "    }\n",
              "\n",
              "    [theme=dark] .colab-df-convert {\n",
              "      background-color: #3B4455;\n",
              "      fill: #D2E3FC;\n",
              "    }\n",
              "\n",
              "    [theme=dark] .colab-df-convert:hover {\n",
              "      background-color: #434B5C;\n",
              "      box-shadow: 0px 1px 3px 1px rgba(0, 0, 0, 0.15);\n",
              "      filter: drop-shadow(0px 1px 2px rgba(0, 0, 0, 0.3));\n",
              "      fill: #FFFFFF;\n",
              "    }\n",
              "  </style>\n",
              "\n",
              "      <script>\n",
              "        const buttonEl =\n",
              "          document.querySelector('#df-b6e33121-4b6a-442f-8119-fae015fa9a0b button.colab-df-convert');\n",
              "        buttonEl.style.display =\n",
              "          google.colab.kernel.accessAllowed ? 'block' : 'none';\n",
              "\n",
              "        async function convertToInteractive(key) {\n",
              "          const element = document.querySelector('#df-b6e33121-4b6a-442f-8119-fae015fa9a0b');\n",
              "          const dataTable =\n",
              "            await google.colab.kernel.invokeFunction('convertToInteractive',\n",
              "                                                     [key], {});\n",
              "          if (!dataTable) return;\n",
              "\n",
              "          const docLinkHtml = 'Like what you see? Visit the ' +\n",
              "            '<a target=\"_blank\" href=https://colab.research.google.com/notebooks/data_table.ipynb>data table notebook</a>'\n",
              "            + ' to learn more about interactive tables.';\n",
              "          element.innerHTML = '';\n",
              "          dataTable['output_type'] = 'display_data';\n",
              "          await google.colab.output.renderOutput(dataTable, element);\n",
              "          const docLink = document.createElement('div');\n",
              "          docLink.innerHTML = docLinkHtml;\n",
              "          element.appendChild(docLink);\n",
              "        }\n",
              "      </script>\n",
              "    </div>\n",
              "  </div>\n",
              "  "
            ]
          },
          "metadata": {},
          "execution_count": 12
        }
      ]
    },
    {
      "cell_type": "markdown",
      "source": [
        "###1.1 Continuous Numerical Variables:"
      ],
      "metadata": {
        "id": "ST8zETZ0jSDP"
      }
    },
    {
      "cell_type": "markdown",
      "source": [
        "In order to start understanding the (linear) relationship between an individual variable and the price, we can use \"regplot\" which plots the scatterplot plus the fitted regression line for the data."
      ],
      "metadata": {
        "id": "-JWWx2H059po"
      }
    },
    {
      "cell_type": "markdown",
      "source": [
        "####Engine size"
      ],
      "metadata": {
        "id": "PaIP8mf7oIH6"
      }
    },
    {
      "cell_type": "code",
      "source": [
        "# Engine size as potential predictor variable of price\n",
        "sns.regplot(x=\"engine-size\", y=\"price\", data=df)\n",
        "plt.ylim(0,)"
      ],
      "metadata": {
        "colab": {
          "base_uri": "https://localhost:8080/",
          "height": 296
        },
        "id": "ZWr15VBQwp51",
        "outputId": "5d8daa78-fd88-4d09-95e7-cb24a6f64bfe"
      },
      "execution_count": 13,
      "outputs": [
        {
          "output_type": "execute_result",
          "data": {
            "text/plain": [
              "(0.0, 53314.01992857231)"
            ]
          },
          "metadata": {},
          "execution_count": 13
        },
        {
          "output_type": "display_data",
          "data": {
            "text/plain": [
              "<Figure size 432x288 with 1 Axes>"
            ],
            "image/png": "[encoded data removed]"
          },
          "metadata": {
            "needs_background": "light"
          }
        }
      ]
    },
    {
      "cell_type": "markdown",
      "source": [
        "As the engine-size goes up, the price goes up: this indicates a positive direct correlation between these two variables.\n",
        "Since the regression line is almost a perfect diagonal line, engine-size seems like a pretty good predictor of the price."
      ],
      "metadata": {
        "id": "mxlTHruhnSfr"
      }
    },
    {
      "cell_type": "code",
      "source": [
        "#examine the correlation between 'engine-size' and 'price'\n",
        "df[[\"engine-size\", \"price\"]].corr()"
      ],
      "metadata": {
        "colab": {
          "base_uri": "https://localhost:8080/",
          "height": 112
        },
        "id": "g1yUL5b7wp8s",
        "outputId": "c4cb18ea-e9fe-4a04-88c3-d3948fd817b8"
      },
      "execution_count": 14,
      "outputs": [
        {
          "output_type": "execute_result",
          "data": {
            "text/plain": [
              "             engine-size     price\n",
              "engine-size     1.000000  0.872335\n",
              "price           0.872335  1.000000"
            ],
            "text/html": [
              "\n",
              "  <div id=\"df-23cf5c60-d0ec-4c67-89dd-df1d827b989b\">\n",
              "    <div class=\"colab-df-container\">\n",
              "      <div>\n",
              "<style scoped>\n",
              "    .dataframe tbody tr th:only-of-type {\n",
              "        vertical-align: middle;\n",
              "    }\n",
              "\n",
              "    .dataframe tbody tr th {\n",
              "        vertical-align: top;\n",
              "    }\n",
              "\n",
              "    .dataframe thead th {\n",
              "        text-align: right;\n",
              "    }\n",
              "</style>\n",
              "<table border=\"1\" class=\"dataframe\">\n",
              "  <thead>\n",
              "    <tr style=\"text-align: right;\">\n",
              "      <th></th>\n",
              "      <th>engine-size</th>\n",
              "      <th>price</th>\n",
              "    </tr>\n",
              "  </thead>\n",
              "  <tbody>\n",
              "    <tr>\n",
              "      <th>engine-size</th>\n",
              "      <td>1.000000</td>\n",
              "      <td>0.872335</td>\n",
              "    </tr>\n",
              "    <tr>\n",
              "      <th>price</th>\n",
              "      <td>0.872335</td>\n",
              "      <td>1.000000</td>\n",
              "    </tr>\n",
              "  </tbody>\n",
              "</table>\n",
              "</div>\n",
              "      <button class=\"colab-df-convert\" onclick=\"convertToInteractive('df-23cf5c60-d0ec-4c67-89dd-df1d827b989b')\"\n",
              "              title=\"Convert this dataframe to an interactive table.\"\n",
              "              style=\"display:none;\">\n",
              "        \n",
              "  <svg xmlns=\"http://www.w3.org/2000/svg\" height=\"24px\"viewBox=\"0 0 24 24\"\n",
              "       width=\"24px\">\n",
              "    <path d=\"M0 0h24v24H0V0z\" fill=\"none\"/>\n",
              "    <path d=\"M18.56 5.44l.94 2.06.94-2.06 2.06-.94-2.06-.94-.94-2.06-.94 2.06-2.06.94zm-11 1L8.5 8.5l.94-2.06 2.06-.94-2.06-.94L8.5 2.5l-.94 2.06-2.06.94zm10 10l.94 2.06.94-2.06 2.06-.94-2.06-.94-.94-2.06-.94 2.06-2.06.94z\"/><path d=\"M17.41 7.96l-1.37-1.37c-.4-.4-.92-.59-1.43-.59-.52 0-1.04.2-1.43.59L10.3 9.45l-7.72 7.72c-.78.78-.78 2.05 0 2.83L4 21.41c.39.39.9.59 1.41.59.51 0 1.02-.2 1.41-.59l7.78-7.78 2.81-2.81c.8-.78.8-2.07 0-2.86zM5.41 20L4 18.59l7.72-7.72 1.47 1.35L5.41 20z\"/>\n",
              "  </svg>\n",
              "      </button>\n",
              "      \n",
              "  <style>\n",
              "    .colab-df-container {\n",
              "      display:flex;\n",
              "      flex-wrap:wrap;\n",
              "      gap: 12px;\n",
              "    }\n",
              "\n",
              "    .colab-df-convert {\n",
              "      background-color: #E8F0FE;\n",
              "      border: none;\n",
              "      border-radius: 50%;\n",
              "      cursor: pointer;\n",
              "      display: none;\n",
              "      fill: #1967D2;\n",
              "      height: 32px;\n",
              "      padding: 0 0 0 0;\n",
              "      width: 32px;\n",
              "    }\n",
              "\n",
              "    .colab-df-convert:hover {\n",
              "      background-color: #E2EBFA;\n",
              "      box-shadow: 0px 1px 2px rgba(60, 64, 67, 0.3), 0px 1px 3px 1px rgba(60, 64, 67, 0.15);\n",
              "      fill: #174EA6;\n",
              "    }\n",
              "\n",
              "    [theme=dark] .colab-df-convert {\n",
              "      background-color: #3B4455;\n",
              "      fill: #D2E3FC;\n",
              "    }\n",
              "\n",
              "    [theme=dark] .colab-df-convert:hover {\n",
              "      background-color: #434B5C;\n",
              "      box-shadow: 0px 1px 3px 1px rgba(0, 0, 0, 0.15);\n",
              "      filter: drop-shadow(0px 1px 2px rgba(0, 0, 0, 0.3));\n",
              "      fill: #FFFFFF;\n",
              "    }\n",
              "  </style>\n",
              "\n",
              "      <script>\n",
              "        const buttonEl =\n",
              "          document.querySelector('#df-23cf5c60-d0ec-4c67-89dd-df1d827b989b button.colab-df-convert');\n",
              "        buttonEl.style.display =\n",
              "          google.colab.kernel.accessAllowed ? 'block' : 'none';\n",
              "\n",
              "        async function convertToInteractive(key) {\n",
              "          const element = document.querySelector('#df-23cf5c60-d0ec-4c67-89dd-df1d827b989b');\n",
              "          const dataTable =\n",
              "            await google.colab.kernel.invokeFunction('convertToInteractive',\n",
              "                                                     [key], {});\n",
              "          if (!dataTable) return;\n",
              "\n",
              "          const docLinkHtml = 'Like what you see? Visit the ' +\n",
              "            '<a target=\"_blank\" href=https://colab.research.google.com/notebooks/data_table.ipynb>data table notebook</a>'\n",
              "            + ' to learn more about interactive tables.';\n",
              "          element.innerHTML = '';\n",
              "          dataTable['output_type'] = 'display_data';\n",
              "          await google.colab.output.renderOutput(dataTable, element);\n",
              "          const docLink = document.createElement('div');\n",
              "          docLink.innerHTML = docLinkHtml;\n",
              "          element.appendChild(docLink);\n",
              "        }\n",
              "      </script>\n",
              "    </div>\n",
              "  </div>\n",
              "  "
            ]
          },
          "metadata": {},
          "execution_count": 14
        }
      ]
    },
    {
      "cell_type": "markdown",
      "source": [
        "The correlation between engine size and price is approximately 0.87 . "
      ],
      "metadata": {
        "id": "U9-OKVbyGYTv"
      }
    },
    {
      "cell_type": "markdown",
      "source": [
        "#### Highway mpg"
      ],
      "metadata": {
        "id": "a4D_5zlioy12"
      }
    },
    {
      "cell_type": "code",
      "source": [
        "# Highway-mpg as potential predictor variable of price\n",
        "sns.regplot(x=\"highway-mpg\", y=\"price\", data=df)\n",
        "plt.ylim(0,)"
      ],
      "metadata": {
        "colab": {
          "base_uri": "https://localhost:8080/",
          "height": 296
        },
        "id": "2UznzlnYpWFI",
        "outputId": "0511e126-5236-498a-c3c6-1dce45f7b68d"
      },
      "execution_count": 15,
      "outputs": [
        {
          "output_type": "execute_result",
          "data": {
            "text/plain": [
              "(0.0, 48175.01827186168)"
            ]
          },
          "metadata": {},
          "execution_count": 15
        },
        {
          "output_type": "display_data",
          "data": {
            "text/plain": [
              "<Figure size 432x288 with 1 Axes>"
            ],
            "image/png": "[encoded data removed]"
          },
          "metadata": {
            "needs_background": "light"
          }
        }
      ]
    },
    {
      "cell_type": "code",
      "source": [
        "#examine the correlation between 'highway-mpg' and 'price'\n",
        "df[[\"highway-mpg\", \"price\"]].corr()"
      ],
      "metadata": {
        "colab": {
          "base_uri": "https://localhost:8080/",
          "height": 112
        },
        "id": "MKRmOZ2Do62z",
        "outputId": "ab778a6d-3d77-4c4d-a952-5b14a1e1d9bf"
      },
      "execution_count": 16,
      "outputs": [
        {
          "output_type": "execute_result",
          "data": {
            "text/plain": [
              "             highway-mpg     price\n",
              "highway-mpg     1.000000 -0.704692\n",
              "price          -0.704692  1.000000"
            ],
            "text/html": [
              "\n",
              "  <div id=\"df-8e25d9d7-9b6b-4b63-a3d6-54f68e79ccb4\">\n",
              "    <div class=\"colab-df-container\">\n",
              "      <div>\n",
              "<style scoped>\n",
              "    .dataframe tbody tr th:only-of-type {\n",
              "        vertical-align: middle;\n",
              "    }\n",
              "\n",
              "    .dataframe tbody tr th {\n",
              "        vertical-align: top;\n",
              "    }\n",
              "\n",
              "    .dataframe thead th {\n",
              "        text-align: right;\n",
              "    }\n",
              "</style>\n",
              "<table border=\"1\" class=\"dataframe\">\n",
              "  <thead>\n",
              "    <tr style=\"text-align: right;\">\n",
              "      <th></th>\n",
              "      <th>highway-mpg</th>\n",
              "      <th>price</th>\n",
              "    </tr>\n",
              "  </thead>\n",
              "  <tbody>\n",
              "    <tr>\n",
              "      <th>highway-mpg</th>\n",
              "      <td>1.000000</td>\n",
              "      <td>-0.704692</td>\n",
              "    </tr>\n",
              "    <tr>\n",
              "      <th>price</th>\n",
              "      <td>-0.704692</td>\n",
              "      <td>1.000000</td>\n",
              "    </tr>\n",
              "  </tbody>\n",
              "</table>\n",
              "</div>\n",
              "      <button class=\"colab-df-convert\" onclick=\"convertToInteractive('df-8e25d9d7-9b6b-4b63-a3d6-54f68e79ccb4')\"\n",
              "              title=\"Convert this dataframe to an interactive table.\"\n",
              "              style=\"display:none;\">\n",
              "        \n",
              "  <svg xmlns=\"http://www.w3.org/2000/svg\" height=\"24px\"viewBox=\"0 0 24 24\"\n",
              "       width=\"24px\">\n",
              "    <path d=\"M0 0h24v24H0V0z\" fill=\"none\"/>\n",
              "    <path d=\"M18.56 5.44l.94 2.06.94-2.06 2.06-.94-2.06-.94-.94-2.06-.94 2.06-2.06.94zm-11 1L8.5 8.5l.94-2.06 2.06-.94-2.06-.94L8.5 2.5l-.94 2.06-2.06.94zm10 10l.94 2.06.94-2.06 2.06-.94-2.06-.94-.94-2.06-.94 2.06-2.06.94z\"/><path d=\"M17.41 7.96l-1.37-1.37c-.4-.4-.92-.59-1.43-.59-.52 0-1.04.2-1.43.59L10.3 9.45l-7.72 7.72c-.78.78-.78 2.05 0 2.83L4 21.41c.39.39.9.59 1.41.59.51 0 1.02-.2 1.41-.59l7.78-7.78 2.81-2.81c.8-.78.8-2.07 0-2.86zM5.41 20L4 18.59l7.72-7.72 1.47 1.35L5.41 20z\"/>\n",
              "  </svg>\n",
              "      </button>\n",
              "      \n",
              "  <style>\n",
              "    .colab-df-container {\n",
              "      display:flex;\n",
              "      flex-wrap:wrap;\n",
              "      gap: 12px;\n",
              "    }\n",
              "\n",
              "    .colab-df-convert {\n",
              "      background-color: #E8F0FE;\n",
              "      border: none;\n",
              "      border-radius: 50%;\n",
              "      cursor: pointer;\n",
              "      display: none;\n",
              "      fill: #1967D2;\n",
              "      height: 32px;\n",
              "      padding: 0 0 0 0;\n",
              "      width: 32px;\n",
              "    }\n",
              "\n",
              "    .colab-df-convert:hover {\n",
              "      background-color: #E2EBFA;\n",
              "      box-shadow: 0px 1px 2px rgba(60, 64, 67, 0.3), 0px 1px 3px 1px rgba(60, 64, 67, 0.15);\n",
              "      fill: #174EA6;\n",
              "    }\n",
              "\n",
              "    [theme=dark] .colab-df-convert {\n",
              "      background-color: #3B4455;\n",
              "      fill: #D2E3FC;\n",
              "    }\n",
              "\n",
              "    [theme=dark] .colab-df-convert:hover {\n",
              "      background-color: #434B5C;\n",
              "      box-shadow: 0px 1px 3px 1px rgba(0, 0, 0, 0.15);\n",
              "      filter: drop-shadow(0px 1px 2px rgba(0, 0, 0, 0.3));\n",
              "      fill: #FFFFFF;\n",
              "    }\n",
              "  </style>\n",
              "\n",
              "      <script>\n",
              "        const buttonEl =\n",
              "          document.querySelector('#df-8e25d9d7-9b6b-4b63-a3d6-54f68e79ccb4 button.colab-df-convert');\n",
              "        buttonEl.style.display =\n",
              "          google.colab.kernel.accessAllowed ? 'block' : 'none';\n",
              "\n",
              "        async function convertToInteractive(key) {\n",
              "          const element = document.querySelector('#df-8e25d9d7-9b6b-4b63-a3d6-54f68e79ccb4');\n",
              "          const dataTable =\n",
              "            await google.colab.kernel.invokeFunction('convertToInteractive',\n",
              "                                                     [key], {});\n",
              "          if (!dataTable) return;\n",
              "\n",
              "          const docLinkHtml = 'Like what you see? Visit the ' +\n",
              "            '<a target=\"_blank\" href=https://colab.research.google.com/notebooks/data_table.ipynb>data table notebook</a>'\n",
              "            + ' to learn more about interactive tables.';\n",
              "          element.innerHTML = '';\n",
              "          dataTable['output_type'] = 'display_data';\n",
              "          await google.colab.output.renderOutput(dataTable, element);\n",
              "          const docLink = document.createElement('div');\n",
              "          docLink.innerHTML = docLinkHtml;\n",
              "          element.appendChild(docLink);\n",
              "        }\n",
              "      </script>\n",
              "    </div>\n",
              "  </div>\n",
              "  "
            ]
          },
          "metadata": {},
          "execution_count": 16
        }
      ]
    },
    {
      "cell_type": "markdown",
      "source": [
        "As highway-mpg goes up, the price goes down: this indicates an inverse/negative relationship between these two variables.\n",
        "Highway-mpg could potentially be a predictor of price.\n",
        "\n",
        "We can examine the correlation between 'highway-mpg' and 'price' and see it's approximately -0.704."
      ],
      "metadata": {
        "id": "qcg6k17npupf"
      }
    },
    {
      "cell_type": "markdown",
      "source": [
        "####Peak-rpm (weak linear relationship)"
      ],
      "metadata": {
        "id": "2-WXjVakp986"
      }
    },
    {
      "cell_type": "code",
      "source": [
        "# Peak-rpm as potential predictor variable of price\n",
        "sns.regplot(x=\"peak-rpm\", y=\"price\", data=df)"
      ],
      "metadata": {
        "colab": {
          "base_uri": "https://localhost:8080/",
          "height": 296
        },
        "id": "2ButrQGHoCeO",
        "outputId": "012ea3c3-c09d-4b53-a15b-a0cca4c52562"
      },
      "execution_count": 17,
      "outputs": [
        {
          "output_type": "execute_result",
          "data": {
            "text/plain": [
              "<matplotlib.axes._subplots.AxesSubplot at 0x7f76f72f9fd0>"
            ]
          },
          "metadata": {},
          "execution_count": 17
        },
        {
          "output_type": "display_data",
          "data": {
            "text/plain": [
              "<Figure size 432x288 with 1 Axes>"
            ],
            "image/png": "[encoded data removed]"
          },
          "metadata": {
            "needs_background": "light"
          }
        }
      ]
    },
    {
      "cell_type": "code",
      "source": [
        "df[['peak-rpm','price']].corr()"
      ],
      "metadata": {
        "colab": {
          "base_uri": "https://localhost:8080/",
          "height": 112
        },
        "id": "ch3jKKjnqkn-",
        "outputId": "19b1d2a8-bb8b-47e6-fbae-6ce788b58bb5"
      },
      "execution_count": 18,
      "outputs": [
        {
          "output_type": "execute_result",
          "data": {
            "text/plain": [
              "          peak-rpm     price\n",
              "peak-rpm  1.000000 -0.101616\n",
              "price    -0.101616  1.000000"
            ],
            "text/html": [
              "\n",
              "  <div id=\"df-87d98eac-66d9-4377-91df-f4e218aa2fd3\">\n",
              "    <div class=\"colab-df-container\">\n",
              "      <div>\n",
              "<style scoped>\n",
              "    .dataframe tbody tr th:only-of-type {\n",
              "        vertical-align: middle;\n",
              "    }\n",
              "\n",
              "    .dataframe tbody tr th {\n",
              "        vertical-align: top;\n",
              "    }\n",
              "\n",
              "    .dataframe thead th {\n",
              "        text-align: right;\n",
              "    }\n",
              "</style>\n",
              "<table border=\"1\" class=\"dataframe\">\n",
              "  <thead>\n",
              "    <tr style=\"text-align: right;\">\n",
              "      <th></th>\n",
              "      <th>peak-rpm</th>\n",
              "      <th>price</th>\n",
              "    </tr>\n",
              "  </thead>\n",
              "  <tbody>\n",
              "    <tr>\n",
              "      <th>peak-rpm</th>\n",
              "      <td>1.000000</td>\n",
              "      <td>-0.101616</td>\n",
              "    </tr>\n",
              "    <tr>\n",
              "      <th>price</th>\n",
              "      <td>-0.101616</td>\n",
              "      <td>1.000000</td>\n",
              "    </tr>\n",
              "  </tbody>\n",
              "</table>\n",
              "</div>\n",
              "      <button class=\"colab-df-convert\" onclick=\"convertToInteractive('df-87d98eac-66d9-4377-91df-f4e218aa2fd3')\"\n",
              "              title=\"Convert this dataframe to an interactive table.\"\n",
              "              style=\"display:none;\">\n",
              "        \n",
              "  <svg xmlns=\"http://www.w3.org/2000/svg\" height=\"24px\"viewBox=\"0 0 24 24\"\n",
              "       width=\"24px\">\n",
              "    <path d=\"M0 0h24v24H0V0z\" fill=\"none\"/>\n",
              "    <path d=\"M18.56 5.44l.94 2.06.94-2.06 2.06-.94-2.06-.94-.94-2.06-.94 2.06-2.06.94zm-11 1L8.5 8.5l.94-2.06 2.06-.94-2.06-.94L8.5 2.5l-.94 2.06-2.06.94zm10 10l.94 2.06.94-2.06 2.06-.94-2.06-.94-.94-2.06-.94 2.06-2.06.94z\"/><path d=\"M17.41 7.96l-1.37-1.37c-.4-.4-.92-.59-1.43-.59-.52 0-1.04.2-1.43.59L10.3 9.45l-7.72 7.72c-.78.78-.78 2.05 0 2.83L4 21.41c.39.39.9.59 1.41.59.51 0 1.02-.2 1.41-.59l7.78-7.78 2.81-2.81c.8-.78.8-2.07 0-2.86zM5.41 20L4 18.59l7.72-7.72 1.47 1.35L5.41 20z\"/>\n",
              "  </svg>\n",
              "      </button>\n",
              "      \n",
              "  <style>\n",
              "    .colab-df-container {\n",
              "      display:flex;\n",
              "      flex-wrap:wrap;\n",
              "      gap: 12px;\n",
              "    }\n",
              "\n",
              "    .colab-df-convert {\n",
              "      background-color: #E8F0FE;\n",
              "      border: none;\n",
              "      border-radius: 50%;\n",
              "      cursor: pointer;\n",
              "      display: none;\n",
              "      fill: #1967D2;\n",
              "      height: 32px;\n",
              "      padding: 0 0 0 0;\n",
              "      width: 32px;\n",
              "    }\n",
              "\n",
              "    .colab-df-convert:hover {\n",
              "      background-color: #E2EBFA;\n",
              "      box-shadow: 0px 1px 2px rgba(60, 64, 67, 0.3), 0px 1px 3px 1px rgba(60, 64, 67, 0.15);\n",
              "      fill: #174EA6;\n",
              "    }\n",
              "\n",
              "    [theme=dark] .colab-df-convert {\n",
              "      background-color: #3B4455;\n",
              "      fill: #D2E3FC;\n",
              "    }\n",
              "\n",
              "    [theme=dark] .colab-df-convert:hover {\n",
              "      background-color: #434B5C;\n",
              "      box-shadow: 0px 1px 3px 1px rgba(0, 0, 0, 0.15);\n",
              "      filter: drop-shadow(0px 1px 2px rgba(0, 0, 0, 0.3));\n",
              "      fill: #FFFFFF;\n",
              "    }\n",
              "  </style>\n",
              "\n",
              "      <script>\n",
              "        const buttonEl =\n",
              "          document.querySelector('#df-87d98eac-66d9-4377-91df-f4e218aa2fd3 button.colab-df-convert');\n",
              "        buttonEl.style.display =\n",
              "          google.colab.kernel.accessAllowed ? 'block' : 'none';\n",
              "\n",
              "        async function convertToInteractive(key) {\n",
              "          const element = document.querySelector('#df-87d98eac-66d9-4377-91df-f4e218aa2fd3');\n",
              "          const dataTable =\n",
              "            await google.colab.kernel.invokeFunction('convertToInteractive',\n",
              "                                                     [key], {});\n",
              "          if (!dataTable) return;\n",
              "\n",
              "          const docLinkHtml = 'Like what you see? Visit the ' +\n",
              "            '<a target=\"_blank\" href=https://colab.research.google.com/notebooks/data_table.ipynb>data table notebook</a>'\n",
              "            + ' to learn more about interactive tables.';\n",
              "          element.innerHTML = '';\n",
              "          dataTable['output_type'] = 'display_data';\n",
              "          await google.colab.output.renderOutput(dataTable, element);\n",
              "          const docLink = document.createElement('div');\n",
              "          docLink.innerHTML = docLinkHtml;\n",
              "          element.appendChild(docLink);\n",
              "        }\n",
              "      </script>\n",
              "    </div>\n",
              "  </div>\n",
              "  "
            ]
          },
          "metadata": {},
          "execution_count": 18
        }
      ]
    },
    {
      "cell_type": "markdown",
      "source": [
        "Peak rpm does not seem like a good predictor of the price at all since the regression line is close to horizontal.\n",
        "Also, the data points are very scattered and far from the fitted line, showing lots of variability.\n",
        "Therefore, it's not a reliable variable.\n",
        "\n",
        "We can examine the correlation between 'peak-rpm' and 'price' and see it's approximately -0.101616."
      ],
      "metadata": {
        "id": "bTBEIbXGqcWR"
      }
    },
    {
      "cell_type": "markdown",
      "source": [
        "####Symboling (weak linear relationship)"
      ],
      "metadata": {
        "id": "MdBjOMh9qYWL"
      }
    },
    {
      "cell_type": "code",
      "source": [
        "sns.regplot(x=\"symboling\", y=\"price\", data=df)"
      ],
      "metadata": {
        "colab": {
          "base_uri": "https://localhost:8080/",
          "height": 296
        },
        "id": "iuMH4yLooCg3",
        "outputId": "0264c60e-5257-4c18-87a0-2686912c1841"
      },
      "execution_count": 19,
      "outputs": [
        {
          "output_type": "execute_result",
          "data": {
            "text/plain": [
              "<matplotlib.axes._subplots.AxesSubplot at 0x7f76f7282450>"
            ]
          },
          "metadata": {},
          "execution_count": 19
        },
        {
          "output_type": "display_data",
          "data": {
            "text/plain": [
              "<Figure size 432x288 with 1 Axes>"
            ],
            "image/png": "[encoded data removed]"
          },
          "metadata": {
            "needs_background": "light"
          }
        }
      ]
    },
    {
      "cell_type": "markdown",
      "source": [
        "###1.2 Categorical Variables:"
      ],
      "metadata": {
        "id": "1RI_lwf36UZn"
      }
    },
    {
      "cell_type": "markdown",
      "source": [
        "These are variables that describe a 'characteristic' of a data unit, and are selected from a small group of categories. The categorical variables can have the type \"object\" or \"int64\". A good way to visualize categorical variables is by using boxplots."
      ],
      "metadata": {
        "id": "H7AaZ8Mh6XJv"
      }
    },
    {
      "cell_type": "markdown",
      "source": [
        "#####Body-style"
      ],
      "metadata": {
        "id": "G69OoRqSqwAq"
      }
    },
    {
      "cell_type": "code",
      "source": [
        "#Examine the relationship between \"body-style\" and \"price\"\n",
        "sns.boxplot(x=\"body-style\", y=\"price\", data=df)"
      ],
      "metadata": {
        "colab": {
          "base_uri": "https://localhost:8080/",
          "height": 296
        },
        "id": "WKVdNnxW6gUI",
        "outputId": "c8a47ae6-ce2a-42ef-9a30-232a66e1523e"
      },
      "execution_count": 20,
      "outputs": [
        {
          "output_type": "execute_result",
          "data": {
            "text/plain": [
              "<matplotlib.axes._subplots.AxesSubplot at 0x7f76f71f2d10>"
            ]
          },
          "metadata": {},
          "execution_count": 20
        },
        {
          "output_type": "display_data",
          "data": {
            "text/plain": [
              "<Figure size 432x288 with 1 Axes>"
            ],
            "image/png": "[encoded data removed]"
          },
          "metadata": {
            "needs_background": "light"
          }
        }
      ]
    },
    {
      "cell_type": "markdown",
      "source": [
        "We see that the distributions of price between the different body-style categories have a significant overlap, so body-style would not be a good predictor of price. "
      ],
      "metadata": {
        "id": "0Fv2lLL27nTr"
      }
    },
    {
      "cell_type": "markdown",
      "source": [
        "####Engine Location"
      ],
      "metadata": {
        "id": "3bbY0CO3q4zH"
      }
    },
    {
      "cell_type": "code",
      "source": [
        "#Examine the relationship between \"engine-location\" and \"price\"\n",
        "sns.boxplot(x=\"engine-location\", y=\"price\", data=df)"
      ],
      "metadata": {
        "colab": {
          "base_uri": "https://localhost:8080/",
          "height": 296
        },
        "id": "rlIgXUo86ge7",
        "outputId": "9b766250-4546-4a1d-be80-659fb611f5f4"
      },
      "execution_count": 21,
      "outputs": [
        {
          "output_type": "execute_result",
          "data": {
            "text/plain": [
              "<matplotlib.axes._subplots.AxesSubplot at 0x7f76f70e1a50>"
            ]
          },
          "metadata": {},
          "execution_count": 21
        },
        {
          "output_type": "display_data",
          "data": {
            "text/plain": [
              "<Figure size 432x288 with 1 Axes>"
            ],
            "image/png": "[encoded data removed]"
          },
          "metadata": {
            "needs_background": "light"
          }
        }
      ]
    },
    {
      "cell_type": "markdown",
      "source": [
        "Here we see that the distribution of price between these two engine-location categories, front and rear, are distinct enough to take engine-location as a potential good predictor of price."
      ],
      "metadata": {
        "id": "2y5h4y9673Lv"
      }
    },
    {
      "cell_type": "markdown",
      "source": [
        "####Drive wheels"
      ],
      "metadata": {
        "id": "lDKqB0kKq8Xx"
      }
    },
    {
      "cell_type": "code",
      "source": [
        "# drive-wheels\n",
        "sns.boxplot(x=\"drive-wheels\", y=\"price\", data=df)"
      ],
      "metadata": {
        "colab": {
          "base_uri": "https://localhost:8080/",
          "height": 296
        },
        "id": "3yHts-h88CSU",
        "outputId": "ec74a8d1-9c6e-489d-e2eb-313fabd39e85"
      },
      "execution_count": 22,
      "outputs": [
        {
          "output_type": "execute_result",
          "data": {
            "text/plain": [
              "<matplotlib.axes._subplots.AxesSubplot at 0x7f76f705c750>"
            ]
          },
          "metadata": {},
          "execution_count": 22
        },
        {
          "output_type": "display_data",
          "data": {
            "text/plain": [
              "<Figure size 432x288 with 1 Axes>"
            ],
            "image/png": "[encoded data removed]"
          },
          "metadata": {
            "needs_background": "light"
          }
        }
      ]
    },
    {
      "cell_type": "markdown",
      "source": [
        "Here we see that the distribution of price between the different drive-wheels categories differs. As such, drive-wheels could potentially be a predictor of price."
      ],
      "metadata": {
        "id": "K8ocL1f173TZ"
      }
    },
    {
      "cell_type": "markdown",
      "source": [
        "For the other categorical features, see under 2. Descriptive Statistical Analysis."
      ],
      "metadata": {
        "id": "svBP4S-erNtT"
      }
    },
    {
      "cell_type": "markdown",
      "source": [
        "##**2. Descriptive Statistical Analysis**"
      ],
      "metadata": {
        "id": "bS9NNqVl5ay9"
      }
    },
    {
      "cell_type": "code",
      "source": [
        "df.describe()"
      ],
      "metadata": {
        "colab": {
          "base_uri": "https://localhost:8080/",
          "height": 428
        },
        "id": "WdKAsDtG86Mj",
        "outputId": "954f4299-79b4-4677-83bf-57a51d737bc4"
      },
      "execution_count": 23,
      "outputs": [
        {
          "output_type": "execute_result",
          "data": {
            "text/plain": [
              "              price   symboling  normalized-losses  wheel-base  engine-size  \\\n",
              "count    201.000000  201.000000          201.00000  201.000000   201.000000   \n",
              "mean   13207.129353    0.840796          122.00000   98.797015   126.875622   \n",
              "std     7947.066342    1.254802           31.99625    6.066366    41.546834   \n",
              "min     5118.000000   -2.000000           65.00000   86.600000    61.000000   \n",
              "25%     7775.000000    0.000000          101.00000   94.500000    98.000000   \n",
              "50%    10295.000000    1.000000          122.00000   97.000000   120.000000   \n",
              "75%    16500.000000    2.000000          137.00000  102.400000   141.000000   \n",
              "max    45400.000000    3.000000          256.00000  120.900000   326.000000   \n",
              "\n",
              "       normalized-length  normalized-width  normalized-height  curb-weight  \\\n",
              "count         201.000000        201.000000         201.000000   201.000000   \n",
              "mean            0.837102          0.915126           0.899108  2555.666667   \n",
              "std             0.059213          0.029187           0.040933   517.296727   \n",
              "min             0.678039          0.837500           0.799331  1488.000000   \n",
              "25%             0.801538          0.890278           0.869565  2169.000000   \n",
              "50%             0.832292          0.909722           0.904682  2414.000000   \n",
              "75%             0.881788          0.925000           0.928094  2926.000000   \n",
              "max             1.000000          1.000000           1.000000  4066.000000   \n",
              "\n",
              "             bore  ...  city-L/100km  highway-mpg  highway-L/100km  \\\n",
              "count  201.000000  ...    201.000000   201.000000       201.000000   \n",
              "mean     3.330692  ...      9.944145    30.686567         8.044957   \n",
              "std      0.268072  ...      2.534599     6.815150         1.840739   \n",
              "min      2.540000  ...      4.795918    16.000000         4.351852   \n",
              "25%      3.150000  ...      7.833333    25.000000         6.911765   \n",
              "50%      3.310000  ...      9.791667    30.000000         7.833333   \n",
              "75%      3.580000  ...     12.368421    34.000000         9.400000   \n",
              "max      3.940000  ...     18.076923    54.000000        14.687500   \n",
              "\n",
              "       horsepower  fuel-type-diesel  fuel-type-gas  aspiration-std  \\\n",
              "count  201.000000        201.000000     201.000000      201.000000   \n",
              "mean   103.402985          0.099502       0.900498        0.820896   \n",
              "std     37.365650          0.300083       0.300083        0.384397   \n",
              "min     48.000000          0.000000       0.000000        0.000000   \n",
              "25%     70.000000          0.000000       1.000000        1.000000   \n",
              "50%     95.000000          0.000000       1.000000        1.000000   \n",
              "75%    116.000000          0.000000       1.000000        1.000000   \n",
              "max    262.000000          1.000000       1.000000        1.000000   \n",
              "\n",
              "       aspiration-turbo     4-doors     2-doors  \n",
              "count        201.000000  201.000000  201.000000  \n",
              "mean           0.179104    0.572139    0.427861  \n",
              "std            0.384397    0.496004    0.496004  \n",
              "min            0.000000    0.000000    0.000000  \n",
              "25%            0.000000    0.000000    0.000000  \n",
              "50%            0.000000    1.000000    0.000000  \n",
              "75%            0.000000    1.000000    1.000000  \n",
              "max            1.000000    1.000000    1.000000  \n",
              "\n",
              "[8 rows x 24 columns]"
            ],
            "text/html": [
              "\n",
              "  <div id=\"df-3d93e758-d825-4447-96af-aefa6a6c6bfc\">\n",
              "    <div class=\"colab-df-container\">\n",
              "      <div>\n",
              "<style scoped>\n",
              "    .dataframe tbody tr th:only-of-type {\n",
              "        vertical-align: middle;\n",
              "    }\n",
              "\n",
              "    .dataframe tbody tr th {\n",
              "        vertical-align: top;\n",
              "    }\n",
              "\n",
              "    .dataframe thead th {\n",
              "        text-align: right;\n",
              "    }\n",
              "</style>\n",
              "<table border=\"1\" class=\"dataframe\">\n",
              "  <thead>\n",
              "    <tr style=\"text-align: right;\">\n",
              "      <th></th>\n",
              "      <th>price</th>\n",
              "      <th>symboling</th>\n",
              "      <th>normalized-losses</th>\n",
              "      <th>wheel-base</th>\n",
              "      <th>engine-size</th>\n",
              "      <th>normalized-length</th>\n",
              "      <th>normalized-width</th>\n",
              "      <th>normalized-height</th>\n",
              "      <th>curb-weight</th>\n",
              "      <th>bore</th>\n",
              "      <th>...</th>\n",
              "      <th>city-L/100km</th>\n",
              "      <th>highway-mpg</th>\n",
              "      <th>highway-L/100km</th>\n",
              "      <th>horsepower</th>\n",
              "      <th>fuel-type-diesel</th>\n",
              "      <th>fuel-type-gas</th>\n",
              "      <th>aspiration-std</th>\n",
              "      <th>aspiration-turbo</th>\n",
              "      <th>4-doors</th>\n",
              "      <th>2-doors</th>\n",
              "    </tr>\n",
              "  </thead>\n",
              "  <tbody>\n",
              "    <tr>\n",
              "      <th>count</th>\n",
              "      <td>201.000000</td>\n",
              "      <td>201.000000</td>\n",
              "      <td>201.00000</td>\n",
              "      <td>201.000000</td>\n",
              "      <td>201.000000</td>\n",
              "      <td>201.000000</td>\n",
              "      <td>201.000000</td>\n",
              "      <td>201.000000</td>\n",
              "      <td>201.000000</td>\n",
              "      <td>201.000000</td>\n",
              "      <td>...</td>\n",
              "      <td>201.000000</td>\n",
              "      <td>201.000000</td>\n",
              "      <td>201.000000</td>\n",
              "      <td>201.000000</td>\n",
              "      <td>201.000000</td>\n",
              "      <td>201.000000</td>\n",
              "      <td>201.000000</td>\n",
              "      <td>201.000000</td>\n",
              "      <td>201.000000</td>\n",
              "      <td>201.000000</td>\n",
              "    </tr>\n",
              "    <tr>\n",
              "      <th>mean</th>\n",
              "      <td>13207.129353</td>\n",
              "      <td>0.840796</td>\n",
              "      <td>122.00000</td>\n",
              "      <td>98.797015</td>\n",
              "      <td>126.875622</td>\n",
              "      <td>0.837102</td>\n",
              "      <td>0.915126</td>\n",
              "      <td>0.899108</td>\n",
              "      <td>2555.666667</td>\n",
              "      <td>3.330692</td>\n",
              "      <td>...</td>\n",
              "      <td>9.944145</td>\n",
              "      <td>30.686567</td>\n",
              "      <td>8.044957</td>\n",
              "      <td>103.402985</td>\n",
              "      <td>0.099502</td>\n",
              "      <td>0.900498</td>\n",
              "      <td>0.820896</td>\n",
              "      <td>0.179104</td>\n",
              "      <td>0.572139</td>\n",
              "      <td>0.427861</td>\n",
              "    </tr>\n",
              "    <tr>\n",
              "      <th>std</th>\n",
              "      <td>7947.066342</td>\n",
              "      <td>1.254802</td>\n",
              "      <td>31.99625</td>\n",
              "      <td>6.066366</td>\n",
              "      <td>41.546834</td>\n",
              "      <td>0.059213</td>\n",
              "      <td>0.029187</td>\n",
              "      <td>0.040933</td>\n",
              "      <td>517.296727</td>\n",
              "      <td>0.268072</td>\n",
              "      <td>...</td>\n",
              "      <td>2.534599</td>\n",
              "      <td>6.815150</td>\n",
              "      <td>1.840739</td>\n",
              "      <td>37.365650</td>\n",
              "      <td>0.300083</td>\n",
              "      <td>0.300083</td>\n",
              "      <td>0.384397</td>\n",
              "      <td>0.384397</td>\n",
              "      <td>0.496004</td>\n",
              "      <td>0.496004</td>\n",
              "    </tr>\n",
              "    <tr>\n",
              "      <th>min</th>\n",
              "      <td>5118.000000</td>\n",
              "      <td>-2.000000</td>\n",
              "      <td>65.00000</td>\n",
              "      <td>86.600000</td>\n",
              "      <td>61.000000</td>\n",
              "      <td>0.678039</td>\n",
              "      <td>0.837500</td>\n",
              "      <td>0.799331</td>\n",
              "      <td>1488.000000</td>\n",
              "      <td>2.540000</td>\n",
              "      <td>...</td>\n",
              "      <td>4.795918</td>\n",
              "      <td>16.000000</td>\n",
              "      <td>4.351852</td>\n",
              "      <td>48.000000</td>\n",
              "      <td>0.000000</td>\n",
              "      <td>0.000000</td>\n",
              "      <td>0.000000</td>\n",
              "      <td>0.000000</td>\n",
              "      <td>0.000000</td>\n",
              "      <td>0.000000</td>\n",
              "    </tr>\n",
              "    <tr>\n",
              "      <th>25%</th>\n",
              "      <td>7775.000000</td>\n",
              "      <td>0.000000</td>\n",
              "      <td>101.00000</td>\n",
              "      <td>94.500000</td>\n",
              "      <td>98.000000</td>\n",
              "      <td>0.801538</td>\n",
              "      <td>0.890278</td>\n",
              "      <td>0.869565</td>\n",
              "      <td>2169.000000</td>\n",
              "      <td>3.150000</td>\n",
              "      <td>...</td>\n",
              "      <td>7.833333</td>\n",
              "      <td>25.000000</td>\n",
              "      <td>6.911765</td>\n",
              "      <td>70.000000</td>\n",
              "      <td>0.000000</td>\n",
              "      <td>1.000000</td>\n",
              "      <td>1.000000</td>\n",
              "      <td>0.000000</td>\n",
              "      <td>0.000000</td>\n",
              "      <td>0.000000</td>\n",
              "    </tr>\n",
              "    <tr>\n",
              "      <th>50%</th>\n",
              "      <td>10295.000000</td>\n",
              "      <td>1.000000</td>\n",
              "      <td>122.00000</td>\n",
              "      <td>97.000000</td>\n",
              "      <td>120.000000</td>\n",
              "      <td>0.832292</td>\n",
              "      <td>0.909722</td>\n",
              "      <td>0.904682</td>\n",
              "      <td>2414.000000</td>\n",
              "      <td>3.310000</td>\n",
              "      <td>...</td>\n",
              "      <td>9.791667</td>\n",
              "      <td>30.000000</td>\n",
              "      <td>7.833333</td>\n",
              "      <td>95.000000</td>\n",
              "      <td>0.000000</td>\n",
              "      <td>1.000000</td>\n",
              "      <td>1.000000</td>\n",
              "      <td>0.000000</td>\n",
              "      <td>1.000000</td>\n",
              "      <td>0.000000</td>\n",
              "    </tr>\n",
              "    <tr>\n",
              "      <th>75%</th>\n",
              "      <td>16500.000000</td>\n",
              "      <td>2.000000</td>\n",
              "      <td>137.00000</td>\n",
              "      <td>102.400000</td>\n",
              "      <td>141.000000</td>\n",
              "      <td>0.881788</td>\n",
              "      <td>0.925000</td>\n",
              "      <td>0.928094</td>\n",
              "      <td>2926.000000</td>\n",
              "      <td>3.580000</td>\n",
              "      <td>...</td>\n",
              "      <td>12.368421</td>\n",
              "      <td>34.000000</td>\n",
              "      <td>9.400000</td>\n",
              "      <td>116.000000</td>\n",
              "      <td>0.000000</td>\n",
              "      <td>1.000000</td>\n",
              "      <td>1.000000</td>\n",
              "      <td>0.000000</td>\n",
              "      <td>1.000000</td>\n",
              "      <td>1.000000</td>\n",
              "    </tr>\n",
              "    <tr>\n",
              "      <th>max</th>\n",
              "      <td>45400.000000</td>\n",
              "      <td>3.000000</td>\n",
              "      <td>256.00000</td>\n",
              "      <td>120.900000</td>\n",
              "      <td>326.000000</td>\n",
              "      <td>1.000000</td>\n",
              "      <td>1.000000</td>\n",
              "      <td>1.000000</td>\n",
              "      <td>4066.000000</td>\n",
              "      <td>3.940000</td>\n",
              "      <td>...</td>\n",
              "      <td>18.076923</td>\n",
              "      <td>54.000000</td>\n",
              "      <td>14.687500</td>\n",
              "      <td>262.000000</td>\n",
              "      <td>1.000000</td>\n",
              "      <td>1.000000</td>\n",
              "      <td>1.000000</td>\n",
              "      <td>1.000000</td>\n",
              "      <td>1.000000</td>\n",
              "      <td>1.000000</td>\n",
              "    </tr>\n",
              "  </tbody>\n",
              "</table>\n",
              "<p>8 rows × 24 columns</p>\n",
              "</div>\n",
              "      <button class=\"colab-df-convert\" onclick=\"convertToInteractive('df-3d93e758-d825-4447-96af-aefa6a6c6bfc')\"\n",
              "              title=\"Convert this dataframe to an interactive table.\"\n",
              "              style=\"display:none;\">\n",
              "        \n",
              "  <svg xmlns=\"http://www.w3.org/2000/svg\" height=\"24px\"viewBox=\"0 0 24 24\"\n",
              "       width=\"24px\">\n",
              "    <path d=\"M0 0h24v24H0V0z\" fill=\"none\"/>\n",
              "    <path d=\"M18.56 5.44l.94 2.06.94-2.06 2.06-.94-2.06-.94-.94-2.06-.94 2.06-2.06.94zm-11 1L8.5 8.5l.94-2.06 2.06-.94-2.06-.94L8.5 2.5l-.94 2.06-2.06.94zm10 10l.94 2.06.94-2.06 2.06-.94-2.06-.94-.94-2.06-.94 2.06-2.06.94z\"/><path d=\"M17.41 7.96l-1.37-1.37c-.4-.4-.92-.59-1.43-.59-.52 0-1.04.2-1.43.59L10.3 9.45l-7.72 7.72c-.78.78-.78 2.05 0 2.83L4 21.41c.39.39.9.59 1.41.59.51 0 1.02-.2 1.41-.59l7.78-7.78 2.81-2.81c.8-.78.8-2.07 0-2.86zM5.41 20L4 18.59l7.72-7.72 1.47 1.35L5.41 20z\"/>\n",
              "  </svg>\n",
              "      </button>\n",
              "      \n",
              "  <style>\n",
              "    .colab-df-container {\n",
              "      display:flex;\n",
              "      flex-wrap:wrap;\n",
              "      gap: 12px;\n",
              "    }\n",
              "\n",
              "    .colab-df-convert {\n",
              "      background-color: #E8F0FE;\n",
              "      border: none;\n",
              "      border-radius: 50%;\n",
              "      cursor: pointer;\n",
              "      display: none;\n",
              "      fill: #1967D2;\n",
              "      height: 32px;\n",
              "      padding: 0 0 0 0;\n",
              "      width: 32px;\n",
              "    }\n",
              "\n",
              "    .colab-df-convert:hover {\n",
              "      background-color: #E2EBFA;\n",
              "      box-shadow: 0px 1px 2px rgba(60, 64, 67, 0.3), 0px 1px 3px 1px rgba(60, 64, 67, 0.15);\n",
              "      fill: #174EA6;\n",
              "    }\n",
              "\n",
              "    [theme=dark] .colab-df-convert {\n",
              "      background-color: #3B4455;\n",
              "      fill: #D2E3FC;\n",
              "    }\n",
              "\n",
              "    [theme=dark] .colab-df-convert:hover {\n",
              "      background-color: #434B5C;\n",
              "      box-shadow: 0px 1px 3px 1px rgba(0, 0, 0, 0.15);\n",
              "      filter: drop-shadow(0px 1px 2px rgba(0, 0, 0, 0.3));\n",
              "      fill: #FFFFFF;\n",
              "    }\n",
              "  </style>\n",
              "\n",
              "      <script>\n",
              "        const buttonEl =\n",
              "          document.querySelector('#df-3d93e758-d825-4447-96af-aefa6a6c6bfc button.colab-df-convert');\n",
              "        buttonEl.style.display =\n",
              "          google.colab.kernel.accessAllowed ? 'block' : 'none';\n",
              "\n",
              "        async function convertToInteractive(key) {\n",
              "          const element = document.querySelector('#df-3d93e758-d825-4447-96af-aefa6a6c6bfc');\n",
              "          const dataTable =\n",
              "            await google.colab.kernel.invokeFunction('convertToInteractive',\n",
              "                                                     [key], {});\n",
              "          if (!dataTable) return;\n",
              "\n",
              "          const docLinkHtml = 'Like what you see? Visit the ' +\n",
              "            '<a target=\"_blank\" href=https://colab.research.google.com/notebooks/data_table.ipynb>data table notebook</a>'\n",
              "            + ' to learn more about interactive tables.';\n",
              "          element.innerHTML = '';\n",
              "          dataTable['output_type'] = 'display_data';\n",
              "          await google.colab.output.renderOutput(dataTable, element);\n",
              "          const docLink = document.createElement('div');\n",
              "          docLink.innerHTML = docLinkHtml;\n",
              "          element.appendChild(docLink);\n",
              "        }\n",
              "      </script>\n",
              "    </div>\n",
              "  </div>\n",
              "  "
            ]
          },
          "metadata": {},
          "execution_count": 23
        }
      ]
    },
    {
      "cell_type": "code",
      "source": [
        "df.describe(include=['object'])"
      ],
      "metadata": {
        "colab": {
          "base_uri": "https://localhost:8080/",
          "height": 219
        },
        "id": "jrwRMzck5a8-",
        "outputId": "2f7d1de2-77e6-425c-e28c-d5a511493437"
      },
      "execution_count": 24,
      "outputs": [
        {
          "output_type": "execute_result",
          "data": {
            "text/plain": [
              "          make body-style drive-wheels engine-location engine-type  \\\n",
              "count      201        201          201             201         201   \n",
              "unique      22          5            3               2           6   \n",
              "top     toyota      sedan          fwd           front         ohc   \n",
              "freq        32         94          118             198         145   \n",
              "\n",
              "       num-of-cylinders fuel-system horsepower-binned  \n",
              "count               201         201               201  \n",
              "unique                7           8                 3  \n",
              "top                four        mpfi               Low  \n",
              "freq                157          92               153  "
            ],
            "text/html": [
              "\n",
              "  <div id=\"df-4b3d2212-9e7a-4b0d-89e9-2af8aea080a9\">\n",
              "    <div class=\"colab-df-container\">\n",
              "      <div>\n",
              "<style scoped>\n",
              "    .dataframe tbody tr th:only-of-type {\n",
              "        vertical-align: middle;\n",
              "    }\n",
              "\n",
              "    .dataframe tbody tr th {\n",
              "        vertical-align: top;\n",
              "    }\n",
              "\n",
              "    .dataframe thead th {\n",
              "        text-align: right;\n",
              "    }\n",
              "</style>\n",
              "<table border=\"1\" class=\"dataframe\">\n",
              "  <thead>\n",
              "    <tr style=\"text-align: right;\">\n",
              "      <th></th>\n",
              "      <th>make</th>\n",
              "      <th>body-style</th>\n",
              "      <th>drive-wheels</th>\n",
              "      <th>engine-location</th>\n",
              "      <th>engine-type</th>\n",
              "      <th>num-of-cylinders</th>\n",
              "      <th>fuel-system</th>\n",
              "      <th>horsepower-binned</th>\n",
              "    </tr>\n",
              "  </thead>\n",
              "  <tbody>\n",
              "    <tr>\n",
              "      <th>count</th>\n",
              "      <td>201</td>\n",
              "      <td>201</td>\n",
              "      <td>201</td>\n",
              "      <td>201</td>\n",
              "      <td>201</td>\n",
              "      <td>201</td>\n",
              "      <td>201</td>\n",
              "      <td>201</td>\n",
              "    </tr>\n",
              "    <tr>\n",
              "      <th>unique</th>\n",
              "      <td>22</td>\n",
              "      <td>5</td>\n",
              "      <td>3</td>\n",
              "      <td>2</td>\n",
              "      <td>6</td>\n",
              "      <td>7</td>\n",
              "      <td>8</td>\n",
              "      <td>3</td>\n",
              "    </tr>\n",
              "    <tr>\n",
              "      <th>top</th>\n",
              "      <td>toyota</td>\n",
              "      <td>sedan</td>\n",
              "      <td>fwd</td>\n",
              "      <td>front</td>\n",
              "      <td>ohc</td>\n",
              "      <td>four</td>\n",
              "      <td>mpfi</td>\n",
              "      <td>Low</td>\n",
              "    </tr>\n",
              "    <tr>\n",
              "      <th>freq</th>\n",
              "      <td>32</td>\n",
              "      <td>94</td>\n",
              "      <td>118</td>\n",
              "      <td>198</td>\n",
              "      <td>145</td>\n",
              "      <td>157</td>\n",
              "      <td>92</td>\n",
              "      <td>153</td>\n",
              "    </tr>\n",
              "  </tbody>\n",
              "</table>\n",
              "</div>\n",
              "      <button class=\"colab-df-convert\" onclick=\"convertToInteractive('df-4b3d2212-9e7a-4b0d-89e9-2af8aea080a9')\"\n",
              "              title=\"Convert this dataframe to an interactive table.\"\n",
              "              style=\"display:none;\">\n",
              "        \n",
              "  <svg xmlns=\"http://www.w3.org/2000/svg\" height=\"24px\"viewBox=\"0 0 24 24\"\n",
              "       width=\"24px\">\n",
              "    <path d=\"M0 0h24v24H0V0z\" fill=\"none\"/>\n",
              "    <path d=\"M18.56 5.44l.94 2.06.94-2.06 2.06-.94-2.06-.94-.94-2.06-.94 2.06-2.06.94zm-11 1L8.5 8.5l.94-2.06 2.06-.94-2.06-.94L8.5 2.5l-.94 2.06-2.06.94zm10 10l.94 2.06.94-2.06 2.06-.94-2.06-.94-.94-2.06-.94 2.06-2.06.94z\"/><path d=\"M17.41 7.96l-1.37-1.37c-.4-.4-.92-.59-1.43-.59-.52 0-1.04.2-1.43.59L10.3 9.45l-7.72 7.72c-.78.78-.78 2.05 0 2.83L4 21.41c.39.39.9.59 1.41.59.51 0 1.02-.2 1.41-.59l7.78-7.78 2.81-2.81c.8-.78.8-2.07 0-2.86zM5.41 20L4 18.59l7.72-7.72 1.47 1.35L5.41 20z\"/>\n",
              "  </svg>\n",
              "      </button>\n",
              "      \n",
              "  <style>\n",
              "    .colab-df-container {\n",
              "      display:flex;\n",
              "      flex-wrap:wrap;\n",
              "      gap: 12px;\n",
              "    }\n",
              "\n",
              "    .colab-df-convert {\n",
              "      background-color: #E8F0FE;\n",
              "      border: none;\n",
              "      border-radius: 50%;\n",
              "      cursor: pointer;\n",
              "      display: none;\n",
              "      fill: #1967D2;\n",
              "      height: 32px;\n",
              "      padding: 0 0 0 0;\n",
              "      width: 32px;\n",
              "    }\n",
              "\n",
              "    .colab-df-convert:hover {\n",
              "      background-color: #E2EBFA;\n",
              "      box-shadow: 0px 1px 2px rgba(60, 64, 67, 0.3), 0px 1px 3px 1px rgba(60, 64, 67, 0.15);\n",
              "      fill: #174EA6;\n",
              "    }\n",
              "\n",
              "    [theme=dark] .colab-df-convert {\n",
              "      background-color: #3B4455;\n",
              "      fill: #D2E3FC;\n",
              "    }\n",
              "\n",
              "    [theme=dark] .colab-df-convert:hover {\n",
              "      background-color: #434B5C;\n",
              "      box-shadow: 0px 1px 3px 1px rgba(0, 0, 0, 0.15);\n",
              "      filter: drop-shadow(0px 1px 2px rgba(0, 0, 0, 0.3));\n",
              "      fill: #FFFFFF;\n",
              "    }\n",
              "  </style>\n",
              "\n",
              "      <script>\n",
              "        const buttonEl =\n",
              "          document.querySelector('#df-4b3d2212-9e7a-4b0d-89e9-2af8aea080a9 button.colab-df-convert');\n",
              "        buttonEl.style.display =\n",
              "          google.colab.kernel.accessAllowed ? 'block' : 'none';\n",
              "\n",
              "        async function convertToInteractive(key) {\n",
              "          const element = document.querySelector('#df-4b3d2212-9e7a-4b0d-89e9-2af8aea080a9');\n",
              "          const dataTable =\n",
              "            await google.colab.kernel.invokeFunction('convertToInteractive',\n",
              "                                                     [key], {});\n",
              "          if (!dataTable) return;\n",
              "\n",
              "          const docLinkHtml = 'Like what you see? Visit the ' +\n",
              "            '<a target=\"_blank\" href=https://colab.research.google.com/notebooks/data_table.ipynb>data table notebook</a>'\n",
              "            + ' to learn more about interactive tables.';\n",
              "          element.innerHTML = '';\n",
              "          dataTable['output_type'] = 'display_data';\n",
              "          await google.colab.output.renderOutput(dataTable, element);\n",
              "          const docLink = document.createElement('div');\n",
              "          docLink.innerHTML = docLinkHtml;\n",
              "          element.appendChild(docLink);\n",
              "        }\n",
              "      </script>\n",
              "    </div>\n",
              "  </div>\n",
              "  "
            ]
          },
          "metadata": {},
          "execution_count": 24
        }
      ]
    },
    {
      "cell_type": "code",
      "source": [
        "#let´s see how many values we have in each category of drive-wheels\n",
        "drive_wheels_counts = df['drive-wheels'].value_counts().to_frame() #saves value_counts result as new df\n",
        "drive_wheels_counts.rename(columns={'drive-wheels': 'value_counts'}, inplace=True) #changes column name \"drive-wheels\" to \"value_counts\"\n",
        "drive_wheels_counts.index.name = 'drive-wheels' #changes index to #drive-wheels\"\n",
        "drive_wheels_counts"
      ],
      "metadata": {
        "colab": {
          "base_uri": "https://localhost:8080/",
          "height": 175
        },
        "id": "Vkqcply45a_W",
        "outputId": "ffb08c0c-799e-401d-fbaa-b141290ba7a4"
      },
      "execution_count": 25,
      "outputs": [
        {
          "output_type": "execute_result",
          "data": {
            "text/plain": [
              "              value_counts\n",
              "drive-wheels              \n",
              "fwd                    118\n",
              "rwd                     75\n",
              "4wd                      8"
            ],
            "text/html": [
              "\n",
              "  <div id=\"df-7b260571-65e4-4582-96fd-086c47cf81ef\">\n",
              "    <div class=\"colab-df-container\">\n",
              "      <div>\n",
              "<style scoped>\n",
              "    .dataframe tbody tr th:only-of-type {\n",
              "        vertical-align: middle;\n",
              "    }\n",
              "\n",
              "    .dataframe tbody tr th {\n",
              "        vertical-align: top;\n",
              "    }\n",
              "\n",
              "    .dataframe thead th {\n",
              "        text-align: right;\n",
              "    }\n",
              "</style>\n",
              "<table border=\"1\" class=\"dataframe\">\n",
              "  <thead>\n",
              "    <tr style=\"text-align: right;\">\n",
              "      <th></th>\n",
              "      <th>value_counts</th>\n",
              "    </tr>\n",
              "    <tr>\n",
              "      <th>drive-wheels</th>\n",
              "      <th></th>\n",
              "    </tr>\n",
              "  </thead>\n",
              "  <tbody>\n",
              "    <tr>\n",
              "      <th>fwd</th>\n",
              "      <td>118</td>\n",
              "    </tr>\n",
              "    <tr>\n",
              "      <th>rwd</th>\n",
              "      <td>75</td>\n",
              "    </tr>\n",
              "    <tr>\n",
              "      <th>4wd</th>\n",
              "      <td>8</td>\n",
              "    </tr>\n",
              "  </tbody>\n",
              "</table>\n",
              "</div>\n",
              "      <button class=\"colab-df-convert\" onclick=\"convertToInteractive('df-7b260571-65e4-4582-96fd-086c47cf81ef')\"\n",
              "              title=\"Convert this dataframe to an interactive table.\"\n",
              "              style=\"display:none;\">\n",
              "        \n",
              "  <svg xmlns=\"http://www.w3.org/2000/svg\" height=\"24px\"viewBox=\"0 0 24 24\"\n",
              "       width=\"24px\">\n",
              "    <path d=\"M0 0h24v24H0V0z\" fill=\"none\"/>\n",
              "    <path d=\"M18.56 5.44l.94 2.06.94-2.06 2.06-.94-2.06-.94-.94-2.06-.94 2.06-2.06.94zm-11 1L8.5 8.5l.94-2.06 2.06-.94-2.06-.94L8.5 2.5l-.94 2.06-2.06.94zm10 10l.94 2.06.94-2.06 2.06-.94-2.06-.94-.94-2.06-.94 2.06-2.06.94z\"/><path d=\"M17.41 7.96l-1.37-1.37c-.4-.4-.92-.59-1.43-.59-.52 0-1.04.2-1.43.59L10.3 9.45l-7.72 7.72c-.78.78-.78 2.05 0 2.83L4 21.41c.39.39.9.59 1.41.59.51 0 1.02-.2 1.41-.59l7.78-7.78 2.81-2.81c.8-.78.8-2.07 0-2.86zM5.41 20L4 18.59l7.72-7.72 1.47 1.35L5.41 20z\"/>\n",
              "  </svg>\n",
              "      </button>\n",
              "      \n",
              "  <style>\n",
              "    .colab-df-container {\n",
              "      display:flex;\n",
              "      flex-wrap:wrap;\n",
              "      gap: 12px;\n",
              "    }\n",
              "\n",
              "    .colab-df-convert {\n",
              "      background-color: #E8F0FE;\n",
              "      border: none;\n",
              "      border-radius: 50%;\n",
              "      cursor: pointer;\n",
              "      display: none;\n",
              "      fill: #1967D2;\n",
              "      height: 32px;\n",
              "      padding: 0 0 0 0;\n",
              "      width: 32px;\n",
              "    }\n",
              "\n",
              "    .colab-df-convert:hover {\n",
              "      background-color: #E2EBFA;\n",
              "      box-shadow: 0px 1px 2px rgba(60, 64, 67, 0.3), 0px 1px 3px 1px rgba(60, 64, 67, 0.15);\n",
              "      fill: #174EA6;\n",
              "    }\n",
              "\n",
              "    [theme=dark] .colab-df-convert {\n",
              "      background-color: #3B4455;\n",
              "      fill: #D2E3FC;\n",
              "    }\n",
              "\n",
              "    [theme=dark] .colab-df-convert:hover {\n",
              "      background-color: #434B5C;\n",
              "      box-shadow: 0px 1px 3px 1px rgba(0, 0, 0, 0.15);\n",
              "      filter: drop-shadow(0px 1px 2px rgba(0, 0, 0, 0.3));\n",
              "      fill: #FFFFFF;\n",
              "    }\n",
              "  </style>\n",
              "\n",
              "      <script>\n",
              "        const buttonEl =\n",
              "          document.querySelector('#df-7b260571-65e4-4582-96fd-086c47cf81ef button.colab-df-convert');\n",
              "        buttonEl.style.display =\n",
              "          google.colab.kernel.accessAllowed ? 'block' : 'none';\n",
              "\n",
              "        async function convertToInteractive(key) {\n",
              "          const element = document.querySelector('#df-7b260571-65e4-4582-96fd-086c47cf81ef');\n",
              "          const dataTable =\n",
              "            await google.colab.kernel.invokeFunction('convertToInteractive',\n",
              "                                                     [key], {});\n",
              "          if (!dataTable) return;\n",
              "\n",
              "          const docLinkHtml = 'Like what you see? Visit the ' +\n",
              "            '<a target=\"_blank\" href=https://colab.research.google.com/notebooks/data_table.ipynb>data table notebook</a>'\n",
              "            + ' to learn more about interactive tables.';\n",
              "          element.innerHTML = '';\n",
              "          dataTable['output_type'] = 'display_data';\n",
              "          await google.colab.output.renderOutput(dataTable, element);\n",
              "          const docLink = document.createElement('div');\n",
              "          docLink.innerHTML = docLinkHtml;\n",
              "          element.appendChild(docLink);\n",
              "        }\n",
              "      </script>\n",
              "    </div>\n",
              "  </div>\n",
              "  "
            ]
          },
          "metadata": {},
          "execution_count": 25
        }
      ]
    },
    {
      "cell_type": "code",
      "source": [
        "# engine-location as variable\n",
        "engine_loc_counts = df['engine-location'].value_counts().to_frame()\n",
        "engine_loc_counts.rename(columns={'engine-location': 'value_counts'}, inplace=True)\n",
        "engine_loc_counts.index.name = 'engine-location'\n",
        "engine_loc_counts.head(10)"
      ],
      "metadata": {
        "colab": {
          "base_uri": "https://localhost:8080/",
          "height": 143
        },
        "id": "OPW4pZbkM1_2",
        "outputId": "4d86c354-8235-4ba5-9c58-a199fa976522"
      },
      "execution_count": 26,
      "outputs": [
        {
          "output_type": "execute_result",
          "data": {
            "text/plain": [
              "                 value_counts\n",
              "engine-location              \n",
              "front                     198\n",
              "rear                        3"
            ],
            "text/html": [
              "\n",
              "  <div id=\"df-cc572802-f552-4854-84e7-c5ea3513565e\">\n",
              "    <div class=\"colab-df-container\">\n",
              "      <div>\n",
              "<style scoped>\n",
              "    .dataframe tbody tr th:only-of-type {\n",
              "        vertical-align: middle;\n",
              "    }\n",
              "\n",
              "    .dataframe tbody tr th {\n",
              "        vertical-align: top;\n",
              "    }\n",
              "\n",
              "    .dataframe thead th {\n",
              "        text-align: right;\n",
              "    }\n",
              "</style>\n",
              "<table border=\"1\" class=\"dataframe\">\n",
              "  <thead>\n",
              "    <tr style=\"text-align: right;\">\n",
              "      <th></th>\n",
              "      <th>value_counts</th>\n",
              "    </tr>\n",
              "    <tr>\n",
              "      <th>engine-location</th>\n",
              "      <th></th>\n",
              "    </tr>\n",
              "  </thead>\n",
              "  <tbody>\n",
              "    <tr>\n",
              "      <th>front</th>\n",
              "      <td>198</td>\n",
              "    </tr>\n",
              "    <tr>\n",
              "      <th>rear</th>\n",
              "      <td>3</td>\n",
              "    </tr>\n",
              "  </tbody>\n",
              "</table>\n",
              "</div>\n",
              "      <button class=\"colab-df-convert\" onclick=\"convertToInteractive('df-cc572802-f552-4854-84e7-c5ea3513565e')\"\n",
              "              title=\"Convert this dataframe to an interactive table.\"\n",
              "              style=\"display:none;\">\n",
              "        \n",
              "  <svg xmlns=\"http://www.w3.org/2000/svg\" height=\"24px\"viewBox=\"0 0 24 24\"\n",
              "       width=\"24px\">\n",
              "    <path d=\"M0 0h24v24H0V0z\" fill=\"none\"/>\n",
              "    <path d=\"M18.56 5.44l.94 2.06.94-2.06 2.06-.94-2.06-.94-.94-2.06-.94 2.06-2.06.94zm-11 1L8.5 8.5l.94-2.06 2.06-.94-2.06-.94L8.5 2.5l-.94 2.06-2.06.94zm10 10l.94 2.06.94-2.06 2.06-.94-2.06-.94-.94-2.06-.94 2.06-2.06.94z\"/><path d=\"M17.41 7.96l-1.37-1.37c-.4-.4-.92-.59-1.43-.59-.52 0-1.04.2-1.43.59L10.3 9.45l-7.72 7.72c-.78.78-.78 2.05 0 2.83L4 21.41c.39.39.9.59 1.41.59.51 0 1.02-.2 1.41-.59l7.78-7.78 2.81-2.81c.8-.78.8-2.07 0-2.86zM5.41 20L4 18.59l7.72-7.72 1.47 1.35L5.41 20z\"/>\n",
              "  </svg>\n",
              "      </button>\n",
              "      \n",
              "  <style>\n",
              "    .colab-df-container {\n",
              "      display:flex;\n",
              "      flex-wrap:wrap;\n",
              "      gap: 12px;\n",
              "    }\n",
              "\n",
              "    .colab-df-convert {\n",
              "      background-color: #E8F0FE;\n",
              "      border: none;\n",
              "      border-radius: 50%;\n",
              "      cursor: pointer;\n",
              "      display: none;\n",
              "      fill: #1967D2;\n",
              "      height: 32px;\n",
              "      padding: 0 0 0 0;\n",
              "      width: 32px;\n",
              "    }\n",
              "\n",
              "    .colab-df-convert:hover {\n",
              "      background-color: #E2EBFA;\n",
              "      box-shadow: 0px 1px 2px rgba(60, 64, 67, 0.3), 0px 1px 3px 1px rgba(60, 64, 67, 0.15);\n",
              "      fill: #174EA6;\n",
              "    }\n",
              "\n",
              "    [theme=dark] .colab-df-convert {\n",
              "      background-color: #3B4455;\n",
              "      fill: #D2E3FC;\n",
              "    }\n",
              "\n",
              "    [theme=dark] .colab-df-convert:hover {\n",
              "      background-color: #434B5C;\n",
              "      box-shadow: 0px 1px 3px 1px rgba(0, 0, 0, 0.15);\n",
              "      filter: drop-shadow(0px 1px 2px rgba(0, 0, 0, 0.3));\n",
              "      fill: #FFFFFF;\n",
              "    }\n",
              "  </style>\n",
              "\n",
              "      <script>\n",
              "        const buttonEl =\n",
              "          document.querySelector('#df-cc572802-f552-4854-84e7-c5ea3513565e button.colab-df-convert');\n",
              "        buttonEl.style.display =\n",
              "          google.colab.kernel.accessAllowed ? 'block' : 'none';\n",
              "\n",
              "        async function convertToInteractive(key) {\n",
              "          const element = document.querySelector('#df-cc572802-f552-4854-84e7-c5ea3513565e');\n",
              "          const dataTable =\n",
              "            await google.colab.kernel.invokeFunction('convertToInteractive',\n",
              "                                                     [key], {});\n",
              "          if (!dataTable) return;\n",
              "\n",
              "          const docLinkHtml = 'Like what you see? Visit the ' +\n",
              "            '<a target=\"_blank\" href=https://colab.research.google.com/notebooks/data_table.ipynb>data table notebook</a>'\n",
              "            + ' to learn more about interactive tables.';\n",
              "          element.innerHTML = '';\n",
              "          dataTable['output_type'] = 'display_data';\n",
              "          await google.colab.output.renderOutput(dataTable, element);\n",
              "          const docLink = document.createElement('div');\n",
              "          docLink.innerHTML = docLinkHtml;\n",
              "          element.appendChild(docLink);\n",
              "        }\n",
              "      </script>\n",
              "    </div>\n",
              "  </div>\n",
              "  "
            ]
          },
          "metadata": {},
          "execution_count": 26
        }
      ]
    },
    {
      "cell_type": "markdown",
      "source": [
        "After examining the value counts of the engine location, we see that engine location would not be a good predictor variable for the price. This is because we only have three cars with a rear engine and 198 with an engine in the front, so this result is skewed. Thus, we are not able to draw any conclusions about the engine location."
      ],
      "metadata": {
        "id": "Fum0jHH4-Dpo"
      }
    },
    {
      "cell_type": "markdown",
      "source": [
        "For all categorical variables: plotting against price in a boxplot and checking the equal representation of each category."
      ],
      "metadata": {
        "id": "18nDRhwVNoY_"
      }
    },
    {
      "cell_type": "markdown",
      "source": [
        "#####Engine type"
      ],
      "metadata": {
        "id": "ht-y8XYfraBC"
      }
    },
    {
      "cell_type": "code",
      "source": [
        "# engine-type as variable\n",
        "sns.boxplot(x=\"engine-type\", y=\"price\", data=df)\n",
        "enginetype_counts=df[\"engine-type\"].value_counts().to_frame()\n",
        "enginetype_counts"
      ],
      "metadata": {
        "colab": {
          "base_uri": "https://localhost:8080/",
          "height": 500
        },
        "id": "bZYcwjOa-BxF",
        "outputId": "08440c01-beb3-4928-bbe5-e3559ba260f5"
      },
      "execution_count": 27,
      "outputs": [
        {
          "output_type": "execute_result",
          "data": {
            "text/plain": [
              "       engine-type\n",
              "ohc            145\n",
              "ohcf            15\n",
              "ohcv            13\n",
              "dohc            12\n",
              "l               12\n",
              "rotor            4"
            ],
            "text/html": [
              "\n",
              "  <div id=\"df-b7923d60-a1f3-4adb-b360-f6484bc74e68\">\n",
              "    <div class=\"colab-df-container\">\n",
              "      <div>\n",
              "<style scoped>\n",
              "    .dataframe tbody tr th:only-of-type {\n",
              "        vertical-align: middle;\n",
              "    }\n",
              "\n",
              "    .dataframe tbody tr th {\n",
              "        vertical-align: top;\n",
              "    }\n",
              "\n",
              "    .dataframe thead th {\n",
              "        text-align: right;\n",
              "    }\n",
              "</style>\n",
              "<table border=\"1\" class=\"dataframe\">\n",
              "  <thead>\n",
              "    <tr style=\"text-align: right;\">\n",
              "      <th></th>\n",
              "      <th>engine-type</th>\n",
              "    </tr>\n",
              "  </thead>\n",
              "  <tbody>\n",
              "    <tr>\n",
              "      <th>ohc</th>\n",
              "      <td>145</td>\n",
              "    </tr>\n",
              "    <tr>\n",
              "      <th>ohcf</th>\n",
              "      <td>15</td>\n",
              "    </tr>\n",
              "    <tr>\n",
              "      <th>ohcv</th>\n",
              "      <td>13</td>\n",
              "    </tr>\n",
              "    <tr>\n",
              "      <th>dohc</th>\n",
              "      <td>12</td>\n",
              "    </tr>\n",
              "    <tr>\n",
              "      <th>l</th>\n",
              "      <td>12</td>\n",
              "    </tr>\n",
              "    <tr>\n",
              "      <th>rotor</th>\n",
              "      <td>4</td>\n",
              "    </tr>\n",
              "  </tbody>\n",
              "</table>\n",
              "</div>\n",
              "      <button class=\"colab-df-convert\" onclick=\"convertToInteractive('df-b7923d60-a1f3-4adb-b360-f6484bc74e68')\"\n",
              "              title=\"Convert this dataframe to an interactive table.\"\n",
              "              style=\"display:none;\">\n",
              "        \n",
              "  <svg xmlns=\"http://www.w3.org/2000/svg\" height=\"24px\"viewBox=\"0 0 24 24\"\n",
              "       width=\"24px\">\n",
              "    <path d=\"M0 0h24v24H0V0z\" fill=\"none\"/>\n",
              "    <path d=\"M18.56 5.44l.94 2.06.94-2.06 2.06-.94-2.06-.94-.94-2.06-.94 2.06-2.06.94zm-11 1L8.5 8.5l.94-2.06 2.06-.94-2.06-.94L8.5 2.5l-.94 2.06-2.06.94zm10 10l.94 2.06.94-2.06 2.06-.94-2.06-.94-.94-2.06-.94 2.06-2.06.94z\"/><path d=\"M17.41 7.96l-1.37-1.37c-.4-.4-.92-.59-1.43-.59-.52 0-1.04.2-1.43.59L10.3 9.45l-7.72 7.72c-.78.78-.78 2.05 0 2.83L4 21.41c.39.39.9.59 1.41.59.51 0 1.02-.2 1.41-.59l7.78-7.78 2.81-2.81c.8-.78.8-2.07 0-2.86zM5.41 20L4 18.59l7.72-7.72 1.47 1.35L5.41 20z\"/>\n",
              "  </svg>\n",
              "      </button>\n",
              "      \n",
              "  <style>\n",
              "    .colab-df-container {\n",
              "      display:flex;\n",
              "      flex-wrap:wrap;\n",
              "      gap: 12px;\n",
              "    }\n",
              "\n",
              "    .colab-df-convert {\n",
              "      background-color: #E8F0FE;\n",
              "      border: none;\n",
              "      border-radius: 50%;\n",
              "      cursor: pointer;\n",
              "      display: none;\n",
              "      fill: #1967D2;\n",
              "      height: 32px;\n",
              "      padding: 0 0 0 0;\n",
              "      width: 32px;\n",
              "    }\n",
              "\n",
              "    .colab-df-convert:hover {\n",
              "      background-color: #E2EBFA;\n",
              "      box-shadow: 0px 1px 2px rgba(60, 64, 67, 0.3), 0px 1px 3px 1px rgba(60, 64, 67, 0.15);\n",
              "      fill: #174EA6;\n",
              "    }\n",
              "\n",
              "    [theme=dark] .colab-df-convert {\n",
              "      background-color: #3B4455;\n",
              "      fill: #D2E3FC;\n",
              "    }\n",
              "\n",
              "    [theme=dark] .colab-df-convert:hover {\n",
              "      background-color: #434B5C;\n",
              "      box-shadow: 0px 1px 3px 1px rgba(0, 0, 0, 0.15);\n",
              "      filter: drop-shadow(0px 1px 2px rgba(0, 0, 0, 0.3));\n",
              "      fill: #FFFFFF;\n",
              "    }\n",
              "  </style>\n",
              "\n",
              "      <script>\n",
              "        const buttonEl =\n",
              "          document.querySelector('#df-b7923d60-a1f3-4adb-b360-f6484bc74e68 button.colab-df-convert');\n",
              "        buttonEl.style.display =\n",
              "          google.colab.kernel.accessAllowed ? 'block' : 'none';\n",
              "\n",
              "        async function convertToInteractive(key) {\n",
              "          const element = document.querySelector('#df-b7923d60-a1f3-4adb-b360-f6484bc74e68');\n",
              "          const dataTable =\n",
              "            await google.colab.kernel.invokeFunction('convertToInteractive',\n",
              "                                                     [key], {});\n",
              "          if (!dataTable) return;\n",
              "\n",
              "          const docLinkHtml = 'Like what you see? Visit the ' +\n",
              "            '<a target=\"_blank\" href=https://colab.research.google.com/notebooks/data_table.ipynb>data table notebook</a>'\n",
              "            + ' to learn more about interactive tables.';\n",
              "          element.innerHTML = '';\n",
              "          dataTable['output_type'] = 'display_data';\n",
              "          await google.colab.output.renderOutput(dataTable, element);\n",
              "          const docLink = document.createElement('div');\n",
              "          docLink.innerHTML = docLinkHtml;\n",
              "          element.appendChild(docLink);\n",
              "        }\n",
              "      </script>\n",
              "    </div>\n",
              "  </div>\n",
              "  "
            ]
          },
          "metadata": {},
          "execution_count": 27
        },
        {
          "output_type": "display_data",
          "data": {
            "text/plain": [
              "<Figure size 432x288 with 1 Axes>"
            ],
            "image/png": "[encoded data removed]"
          },
          "metadata": {
            "needs_background": "light"
          }
        }
      ]
    },
    {
      "cell_type": "markdown",
      "source": [
        "####Number of cylinders"
      ],
      "metadata": {
        "id": "DsKr3jpwrgbS"
      }
    },
    {
      "cell_type": "code",
      "source": [
        "# num-of-cylinders as variable\n",
        "sns.boxplot(x=\"num-of-cylinders\", y=\"price\", data=df)\n",
        "cylinders_counts=df[\"num-of-cylinders\"].value_counts().to_frame()\n",
        "cylinders_counts"
      ],
      "metadata": {
        "colab": {
          "base_uri": "https://localhost:8080/",
          "height": 531
        },
        "id": "YMvXjTSrPFPr",
        "outputId": "5aa08156-5256-43fb-a714-5adadd4923b5"
      },
      "execution_count": 28,
      "outputs": [
        {
          "output_type": "execute_result",
          "data": {
            "text/plain": [
              "        num-of-cylinders\n",
              "four                 157\n",
              "six                   24\n",
              "five                  10\n",
              "two                    4\n",
              "eight                  4\n",
              "three                  1\n",
              "twelve                 1"
            ],
            "text/html": [
              "\n",
              "  <div id=\"df-d7689b24-c58e-41b0-a0b7-727f5d76c461\">\n",
              "    <div class=\"colab-df-container\">\n",
              "      <div>\n",
              "<style scoped>\n",
              "    .dataframe tbody tr th:only-of-type {\n",
              "        vertical-align: middle;\n",
              "    }\n",
              "\n",
              "    .dataframe tbody tr th {\n",
              "        vertical-align: top;\n",
              "    }\n",
              "\n",
              "    .dataframe thead th {\n",
              "        text-align: right;\n",
              "    }\n",
              "</style>\n",
              "<table border=\"1\" class=\"dataframe\">\n",
              "  <thead>\n",
              "    <tr style=\"text-align: right;\">\n",
              "      <th></th>\n",
              "      <th>num-of-cylinders</th>\n",
              "    </tr>\n",
              "  </thead>\n",
              "  <tbody>\n",
              "    <tr>\n",
              "      <th>four</th>\n",
              "      <td>157</td>\n",
              "    </tr>\n",
              "    <tr>\n",
              "      <th>six</th>\n",
              "      <td>24</td>\n",
              "    </tr>\n",
              "    <tr>\n",
              "      <th>five</th>\n",
              "      <td>10</td>\n",
              "    </tr>\n",
              "    <tr>\n",
              "      <th>two</th>\n",
              "      <td>4</td>\n",
              "    </tr>\n",
              "    <tr>\n",
              "      <th>eight</th>\n",
              "      <td>4</td>\n",
              "    </tr>\n",
              "    <tr>\n",
              "      <th>three</th>\n",
              "      <td>1</td>\n",
              "    </tr>\n",
              "    <tr>\n",
              "      <th>twelve</th>\n",
              "      <td>1</td>\n",
              "    </tr>\n",
              "  </tbody>\n",
              "</table>\n",
              "</div>\n",
              "      <button class=\"colab-df-convert\" onclick=\"convertToInteractive('df-d7689b24-c58e-41b0-a0b7-727f5d76c461')\"\n",
              "              title=\"Convert this dataframe to an interactive table.\"\n",
              "              style=\"display:none;\">\n",
              "        \n",
              "  <svg xmlns=\"http://www.w3.org/2000/svg\" height=\"24px\"viewBox=\"0 0 24 24\"\n",
              "       width=\"24px\">\n",
              "    <path d=\"M0 0h24v24H0V0z\" fill=\"none\"/>\n",
              "    <path d=\"M18.56 5.44l.94 2.06.94-2.06 2.06-.94-2.06-.94-.94-2.06-.94 2.06-2.06.94zm-11 1L8.5 8.5l.94-2.06 2.06-.94-2.06-.94L8.5 2.5l-.94 2.06-2.06.94zm10 10l.94 2.06.94-2.06 2.06-.94-2.06-.94-.94-2.06-.94 2.06-2.06.94z\"/><path d=\"M17.41 7.96l-1.37-1.37c-.4-.4-.92-.59-1.43-.59-.52 0-1.04.2-1.43.59L10.3 9.45l-7.72 7.72c-.78.78-.78 2.05 0 2.83L4 21.41c.39.39.9.59 1.41.59.51 0 1.02-.2 1.41-.59l7.78-7.78 2.81-2.81c.8-.78.8-2.07 0-2.86zM5.41 20L4 18.59l7.72-7.72 1.47 1.35L5.41 20z\"/>\n",
              "  </svg>\n",
              "      </button>\n",
              "      \n",
              "  <style>\n",
              "    .colab-df-container {\n",
              "      display:flex;\n",
              "      flex-wrap:wrap;\n",
              "      gap: 12px;\n",
              "    }\n",
              "\n",
              "    .colab-df-convert {\n",
              "      background-color: #E8F0FE;\n",
              "      border: none;\n",
              "      border-radius: 50%;\n",
              "      cursor: pointer;\n",
              "      display: none;\n",
              "      fill: #1967D2;\n",
              "      height: 32px;\n",
              "      padding: 0 0 0 0;\n",
              "      width: 32px;\n",
              "    }\n",
              "\n",
              "    .colab-df-convert:hover {\n",
              "      background-color: #E2EBFA;\n",
              "      box-shadow: 0px 1px 2px rgba(60, 64, 67, 0.3), 0px 1px 3px 1px rgba(60, 64, 67, 0.15);\n",
              "      fill: #174EA6;\n",
              "    }\n",
              "\n",
              "    [theme=dark] .colab-df-convert {\n",
              "      background-color: #3B4455;\n",
              "      fill: #D2E3FC;\n",
              "    }\n",
              "\n",
              "    [theme=dark] .colab-df-convert:hover {\n",
              "      background-color: #434B5C;\n",
              "      box-shadow: 0px 1px 3px 1px rgba(0, 0, 0, 0.15);\n",
              "      filter: drop-shadow(0px 1px 2px rgba(0, 0, 0, 0.3));\n",
              "      fill: #FFFFFF;\n",
              "    }\n",
              "  </style>\n",
              "\n",
              "      <script>\n",
              "        const buttonEl =\n",
              "          document.querySelector('#df-d7689b24-c58e-41b0-a0b7-727f5d76c461 button.colab-df-convert');\n",
              "        buttonEl.style.display =\n",
              "          google.colab.kernel.accessAllowed ? 'block' : 'none';\n",
              "\n",
              "        async function convertToInteractive(key) {\n",
              "          const element = document.querySelector('#df-d7689b24-c58e-41b0-a0b7-727f5d76c461');\n",
              "          const dataTable =\n",
              "            await google.colab.kernel.invokeFunction('convertToInteractive',\n",
              "                                                     [key], {});\n",
              "          if (!dataTable) return;\n",
              "\n",
              "          const docLinkHtml = 'Like what you see? Visit the ' +\n",
              "            '<a target=\"_blank\" href=https://colab.research.google.com/notebooks/data_table.ipynb>data table notebook</a>'\n",
              "            + ' to learn more about interactive tables.';\n",
              "          element.innerHTML = '';\n",
              "          dataTable['output_type'] = 'display_data';\n",
              "          await google.colab.output.renderOutput(dataTable, element);\n",
              "          const docLink = document.createElement('div');\n",
              "          docLink.innerHTML = docLinkHtml;\n",
              "          element.appendChild(docLink);\n",
              "        }\n",
              "      </script>\n",
              "    </div>\n",
              "  </div>\n",
              "  "
            ]
          },
          "metadata": {},
          "execution_count": 28
        },
        {
          "output_type": "display_data",
          "data": {
            "text/plain": [
              "<Figure size 432x288 with 1 Axes>"
            ],
            "image/png": "[encoded data removed]"
          },
          "metadata": {
            "needs_background": "light"
          }
        }
      ]
    },
    {
      "cell_type": "markdown",
      "source": [
        "####Fuel System"
      ],
      "metadata": {
        "id": "wu9gNVZirt8i"
      }
    },
    {
      "cell_type": "code",
      "source": [
        "# fuel-system as variable\n",
        "sns.boxplot(x=\"fuel-system\", y=\"price\", data=df)\n",
        "fuelSystem_counts=df[\"fuel-system\"].value_counts().to_frame()\n",
        "fuelSystem_counts"
      ],
      "metadata": {
        "id": "dqy_BLWgPeB-",
        "colab": {
          "base_uri": "https://localhost:8080/",
          "height": 562
        },
        "outputId": "00d8941f-ba2b-4edc-c4a8-f059a4fea88f"
      },
      "execution_count": 29,
      "outputs": [
        {
          "output_type": "execute_result",
          "data": {
            "text/plain": [
              "      fuel-system\n",
              "mpfi           92\n",
              "2bbl           64\n",
              "idi            20\n",
              "1bbl           11\n",
              "spdi            9\n",
              "4bbl            3\n",
              "mfi             1\n",
              "spfi            1"
            ],
            "text/html": [
              "\n",
              "  <div id=\"df-bee87914-1033-45f9-965d-e3da4dcd1eb9\">\n",
              "    <div class=\"colab-df-container\">\n",
              "      <div>\n",
              "<style scoped>\n",
              "    .dataframe tbody tr th:only-of-type {\n",
              "        vertical-align: middle;\n",
              "    }\n",
              "\n",
              "    .dataframe tbody tr th {\n",
              "        vertical-align: top;\n",
              "    }\n",
              "\n",
              "    .dataframe thead th {\n",
              "        text-align: right;\n",
              "    }\n",
              "</style>\n",
              "<table border=\"1\" class=\"dataframe\">\n",
              "  <thead>\n",
              "    <tr style=\"text-align: right;\">\n",
              "      <th></th>\n",
              "      <th>fuel-system</th>\n",
              "    </tr>\n",
              "  </thead>\n",
              "  <tbody>\n",
              "    <tr>\n",
              "      <th>mpfi</th>\n",
              "      <td>92</td>\n",
              "    </tr>\n",
              "    <tr>\n",
              "      <th>2bbl</th>\n",
              "      <td>64</td>\n",
              "    </tr>\n",
              "    <tr>\n",
              "      <th>idi</th>\n",
              "      <td>20</td>\n",
              "    </tr>\n",
              "    <tr>\n",
              "      <th>1bbl</th>\n",
              "      <td>11</td>\n",
              "    </tr>\n",
              "    <tr>\n",
              "      <th>spdi</th>\n",
              "      <td>9</td>\n",
              "    </tr>\n",
              "    <tr>\n",
              "      <th>4bbl</th>\n",
              "      <td>3</td>\n",
              "    </tr>\n",
              "    <tr>\n",
              "      <th>mfi</th>\n",
              "      <td>1</td>\n",
              "    </tr>\n",
              "    <tr>\n",
              "      <th>spfi</th>\n",
              "      <td>1</td>\n",
              "    </tr>\n",
              "  </tbody>\n",
              "</table>\n",
              "</div>\n",
              "      <button class=\"colab-df-convert\" onclick=\"convertToInteractive('df-bee87914-1033-45f9-965d-e3da4dcd1eb9')\"\n",
              "              title=\"Convert this dataframe to an interactive table.\"\n",
              "              style=\"display:none;\">\n",
              "        \n",
              "  <svg xmlns=\"http://www.w3.org/2000/svg\" height=\"24px\"viewBox=\"0 0 24 24\"\n",
              "       width=\"24px\">\n",
              "    <path d=\"M0 0h24v24H0V0z\" fill=\"none\"/>\n",
              "    <path d=\"M18.56 5.44l.94 2.06.94-2.06 2.06-.94-2.06-.94-.94-2.06-.94 2.06-2.06.94zm-11 1L8.5 8.5l.94-2.06 2.06-.94-2.06-.94L8.5 2.5l-.94 2.06-2.06.94zm10 10l.94 2.06.94-2.06 2.06-.94-2.06-.94-.94-2.06-.94 2.06-2.06.94z\"/><path d=\"M17.41 7.96l-1.37-1.37c-.4-.4-.92-.59-1.43-.59-.52 0-1.04.2-1.43.59L10.3 9.45l-7.72 7.72c-.78.78-.78 2.05 0 2.83L4 21.41c.39.39.9.59 1.41.59.51 0 1.02-.2 1.41-.59l7.78-7.78 2.81-2.81c.8-.78.8-2.07 0-2.86zM5.41 20L4 18.59l7.72-7.72 1.47 1.35L5.41 20z\"/>\n",
              "  </svg>\n",
              "      </button>\n",
              "      \n",
              "  <style>\n",
              "    .colab-df-container {\n",
              "      display:flex;\n",
              "      flex-wrap:wrap;\n",
              "      gap: 12px;\n",
              "    }\n",
              "\n",
              "    .colab-df-convert {\n",
              "      background-color: #E8F0FE;\n",
              "      border: none;\n",
              "      border-radius: 50%;\n",
              "      cursor: pointer;\n",
              "      display: none;\n",
              "      fill: #1967D2;\n",
              "      height: 32px;\n",
              "      padding: 0 0 0 0;\n",
              "      width: 32px;\n",
              "    }\n",
              "\n",
              "    .colab-df-convert:hover {\n",
              "      background-color: #E2EBFA;\n",
              "      box-shadow: 0px 1px 2px rgba(60, 64, 67, 0.3), 0px 1px 3px 1px rgba(60, 64, 67, 0.15);\n",
              "      fill: #174EA6;\n",
              "    }\n",
              "\n",
              "    [theme=dark] .colab-df-convert {\n",
              "      background-color: #3B4455;\n",
              "      fill: #D2E3FC;\n",
              "    }\n",
              "\n",
              "    [theme=dark] .colab-df-convert:hover {\n",
              "      background-color: #434B5C;\n",
              "      box-shadow: 0px 1px 3px 1px rgba(0, 0, 0, 0.15);\n",
              "      filter: drop-shadow(0px 1px 2px rgba(0, 0, 0, 0.3));\n",
              "      fill: #FFFFFF;\n",
              "    }\n",
              "  </style>\n",
              "\n",
              "      <script>\n",
              "        const buttonEl =\n",
              "          document.querySelector('#df-bee87914-1033-45f9-965d-e3da4dcd1eb9 button.colab-df-convert');\n",
              "        buttonEl.style.display =\n",
              "          google.colab.kernel.accessAllowed ? 'block' : 'none';\n",
              "\n",
              "        async function convertToInteractive(key) {\n",
              "          const element = document.querySelector('#df-bee87914-1033-45f9-965d-e3da4dcd1eb9');\n",
              "          const dataTable =\n",
              "            await google.colab.kernel.invokeFunction('convertToInteractive',\n",
              "                                                     [key], {});\n",
              "          if (!dataTable) return;\n",
              "\n",
              "          const docLinkHtml = 'Like what you see? Visit the ' +\n",
              "            '<a target=\"_blank\" href=https://colab.research.google.com/notebooks/data_table.ipynb>data table notebook</a>'\n",
              "            + ' to learn more about interactive tables.';\n",
              "          element.innerHTML = '';\n",
              "          dataTable['output_type'] = 'display_data';\n",
              "          await google.colab.output.renderOutput(dataTable, element);\n",
              "          const docLink = document.createElement('div');\n",
              "          docLink.innerHTML = docLinkHtml;\n",
              "          element.appendChild(docLink);\n",
              "        }\n",
              "      </script>\n",
              "    </div>\n",
              "  </div>\n",
              "  "
            ]
          },
          "metadata": {},
          "execution_count": 29
        },
        {
          "output_type": "display_data",
          "data": {
            "text/plain": [
              "<Figure size 432x288 with 1 Axes>"
            ],
            "image/png": "[encoded data removed]"
          },
          "metadata": {
            "needs_background": "light"
          }
        }
      ]
    },
    {
      "cell_type": "markdown",
      "source": [
        "##**3. Grouping**"
      ],
      "metadata": {
        "id": "91p4fZVo_MqB"
      }
    },
    {
      "cell_type": "markdown",
      "source": [
        "The \"groupby\" method groups data by different categories. The data is grouped based on one or several variables, and analysis is performed on the individual groups."
      ],
      "metadata": {
        "id": "s9qbqZ2b_VAI"
      }
    },
    {
      "cell_type": "code",
      "source": [
        "df['drive-wheels'].unique()"
      ],
      "metadata": {
        "colab": {
          "base_uri": "https://localhost:8080/"
        },
        "id": "MajgH4j__MAU",
        "outputId": "186212df-e491-4cfb-8aba-0808c568de0f"
      },
      "execution_count": 30,
      "outputs": [
        {
          "output_type": "execute_result",
          "data": {
            "text/plain": [
              "array(['rwd', 'fwd', '4wd'], dtype=object)"
            ]
          },
          "metadata": {},
          "execution_count": 30
        }
      ]
    },
    {
      "cell_type": "code",
      "source": [
        "#to know which type of drive wheel is most valuable, \n",
        "##we can group \"drive-wheels\" and then average them\n",
        "\n",
        "df_group_one = df[['drive-wheels','price']]"
      ],
      "metadata": {
        "id": "OklbUo7o_iG6"
      },
      "execution_count": 63,
      "outputs": []
    },
    {
      "cell_type": "code",
      "source": [
        "# grouping results\n",
        "df_group_one = df_group_one.groupby(['drive-wheels'],as_index=False).mean()\n",
        "df_group_one"
      ],
      "metadata": {
        "colab": {
          "base_uri": "https://localhost:8080/",
          "height": 143
        },
        "id": "9A-czIrM_oRb",
        "outputId": "20ba9b6a-552f-42d6-8043-02bb14be3c4f"
      },
      "execution_count": 64,
      "outputs": [
        {
          "output_type": "execute_result",
          "data": {
            "text/plain": [
              "  drive-wheels         price\n",
              "0          4wd  10241.000000\n",
              "1          fwd   9244.779661\n",
              "2          rwd  19757.613333"
            ],
            "text/html": [
              "\n",
              "  <div id=\"df-fd515d6a-a22a-45ab-8042-2367edb379a5\">\n",
              "    <div class=\"colab-df-container\">\n",
              "      <div>\n",
              "<style scoped>\n",
              "    .dataframe tbody tr th:only-of-type {\n",
              "        vertical-align: middle;\n",
              "    }\n",
              "\n",
              "    .dataframe tbody tr th {\n",
              "        vertical-align: top;\n",
              "    }\n",
              "\n",
              "    .dataframe thead th {\n",
              "        text-align: right;\n",
              "    }\n",
              "</style>\n",
              "<table border=\"1\" class=\"dataframe\">\n",
              "  <thead>\n",
              "    <tr style=\"text-align: right;\">\n",
              "      <th></th>\n",
              "      <th>drive-wheels</th>\n",
              "      <th>price</th>\n",
              "    </tr>\n",
              "  </thead>\n",
              "  <tbody>\n",
              "    <tr>\n",
              "      <th>0</th>\n",
              "      <td>4wd</td>\n",
              "      <td>10241.000000</td>\n",
              "    </tr>\n",
              "    <tr>\n",
              "      <th>1</th>\n",
              "      <td>fwd</td>\n",
              "      <td>9244.779661</td>\n",
              "    </tr>\n",
              "    <tr>\n",
              "      <th>2</th>\n",
              "      <td>rwd</td>\n",
              "      <td>19757.613333</td>\n",
              "    </tr>\n",
              "  </tbody>\n",
              "</table>\n",
              "</div>\n",
              "      <button class=\"colab-df-convert\" onclick=\"convertToInteractive('df-fd515d6a-a22a-45ab-8042-2367edb379a5')\"\n",
              "              title=\"Convert this dataframe to an interactive table.\"\n",
              "              style=\"display:none;\">\n",
              "        \n",
              "  <svg xmlns=\"http://www.w3.org/2000/svg\" height=\"24px\"viewBox=\"0 0 24 24\"\n",
              "       width=\"24px\">\n",
              "    <path d=\"M0 0h24v24H0V0z\" fill=\"none\"/>\n",
              "    <path d=\"M18.56 5.44l.94 2.06.94-2.06 2.06-.94-2.06-.94-.94-2.06-.94 2.06-2.06.94zm-11 1L8.5 8.5l.94-2.06 2.06-.94-2.06-.94L8.5 2.5l-.94 2.06-2.06.94zm10 10l.94 2.06.94-2.06 2.06-.94-2.06-.94-.94-2.06-.94 2.06-2.06.94z\"/><path d=\"M17.41 7.96l-1.37-1.37c-.4-.4-.92-.59-1.43-.59-.52 0-1.04.2-1.43.59L10.3 9.45l-7.72 7.72c-.78.78-.78 2.05 0 2.83L4 21.41c.39.39.9.59 1.41.59.51 0 1.02-.2 1.41-.59l7.78-7.78 2.81-2.81c.8-.78.8-2.07 0-2.86zM5.41 20L4 18.59l7.72-7.72 1.47 1.35L5.41 20z\"/>\n",
              "  </svg>\n",
              "      </button>\n",
              "      \n",
              "  <style>\n",
              "    .colab-df-container {\n",
              "      display:flex;\n",
              "      flex-wrap:wrap;\n",
              "      gap: 12px;\n",
              "    }\n",
              "\n",
              "    .colab-df-convert {\n",
              "      background-color: #E8F0FE;\n",
              "      border: none;\n",
              "      border-radius: 50%;\n",
              "      cursor: pointer;\n",
              "      display: none;\n",
              "      fill: #1967D2;\n",
              "      height: 32px;\n",
              "      padding: 0 0 0 0;\n",
              "      width: 32px;\n",
              "    }\n",
              "\n",
              "    .colab-df-convert:hover {\n",
              "      background-color: #E2EBFA;\n",
              "      box-shadow: 0px 1px 2px rgba(60, 64, 67, 0.3), 0px 1px 3px 1px rgba(60, 64, 67, 0.15);\n",
              "      fill: #174EA6;\n",
              "    }\n",
              "\n",
              "    [theme=dark] .colab-df-convert {\n",
              "      background-color: #3B4455;\n",
              "      fill: #D2E3FC;\n",
              "    }\n",
              "\n",
              "    [theme=dark] .colab-df-convert:hover {\n",
              "      background-color: #434B5C;\n",
              "      box-shadow: 0px 1px 3px 1px rgba(0, 0, 0, 0.15);\n",
              "      filter: drop-shadow(0px 1px 2px rgba(0, 0, 0, 0.3));\n",
              "      fill: #FFFFFF;\n",
              "    }\n",
              "  </style>\n",
              "\n",
              "      <script>\n",
              "        const buttonEl =\n",
              "          document.querySelector('#df-fd515d6a-a22a-45ab-8042-2367edb379a5 button.colab-df-convert');\n",
              "        buttonEl.style.display =\n",
              "          google.colab.kernel.accessAllowed ? 'block' : 'none';\n",
              "\n",
              "        async function convertToInteractive(key) {\n",
              "          const element = document.querySelector('#df-fd515d6a-a22a-45ab-8042-2367edb379a5');\n",
              "          const dataTable =\n",
              "            await google.colab.kernel.invokeFunction('convertToInteractive',\n",
              "                                                     [key], {});\n",
              "          if (!dataTable) return;\n",
              "\n",
              "          const docLinkHtml = 'Like what you see? Visit the ' +\n",
              "            '<a target=\"_blank\" href=https://colab.research.google.com/notebooks/data_table.ipynb>data table notebook</a>'\n",
              "            + ' to learn more about interactive tables.';\n",
              "          element.innerHTML = '';\n",
              "          dataTable['output_type'] = 'display_data';\n",
              "          await google.colab.output.renderOutput(dataTable, element);\n",
              "          const docLink = document.createElement('div');\n",
              "          docLink.innerHTML = docLinkHtml;\n",
              "          element.appendChild(docLink);\n",
              "        }\n",
              "      </script>\n",
              "    </div>\n",
              "  </div>\n",
              "  "
            ]
          },
          "metadata": {},
          "execution_count": 64
        }
      ]
    },
    {
      "cell_type": "markdown",
      "source": [
        "From our data, it seems rear-wheel drive vehicles are, on average, the most expensive, while 4-wheel and front-wheel are approximately the same in price."
      ],
      "metadata": {
        "id": "df_Oy6MUAWtS"
      }
    },
    {
      "cell_type": "code",
      "source": [
        "# Grouping of multiple variables.\n",
        "##Groups the dataframe by the unique combination of 'drive-wheels' and 'body-style' results\n",
        "df_gptest = df[['drive-wheels','body-style','price']]\n",
        "grouped_test1 = df_gptest.groupby(['drive-wheels','body-style'],as_index=False).mean()\n",
        "grouped_test1"
      ],
      "metadata": {
        "colab": {
          "base_uri": "https://localhost:8080/",
          "height": 457
        },
        "id": "tQtuG-A5AXJT",
        "outputId": "ff284216-1167-4b92-c58a-38396895cc1b"
      },
      "execution_count": 33,
      "outputs": [
        {
          "output_type": "execute_result",
          "data": {
            "text/plain": [
              "   drive-wheels   body-style         price\n",
              "0           4wd    hatchback   7603.000000\n",
              "1           4wd        sedan  12647.333333\n",
              "2           4wd        wagon   9095.750000\n",
              "3           fwd  convertible  11595.000000\n",
              "4           fwd      hardtop   8249.000000\n",
              "5           fwd    hatchback   8396.387755\n",
              "6           fwd        sedan   9811.800000\n",
              "7           fwd        wagon   9997.333333\n",
              "8           rwd  convertible  23949.600000\n",
              "9           rwd      hardtop  24202.714286\n",
              "10          rwd    hatchback  14337.777778\n",
              "11          rwd        sedan  21711.833333\n",
              "12          rwd        wagon  16994.222222"
            ],
            "text/html": [
              "\n",
              "  <div id=\"df-df272abb-e53a-483c-b025-d5172534428b\">\n",
              "    <div class=\"colab-df-container\">\n",
              "      <div>\n",
              "<style scoped>\n",
              "    .dataframe tbody tr th:only-of-type {\n",
              "        vertical-align: middle;\n",
              "    }\n",
              "\n",
              "    .dataframe tbody tr th {\n",
              "        vertical-align: top;\n",
              "    }\n",
              "\n",
              "    .dataframe thead th {\n",
              "        text-align: right;\n",
              "    }\n",
              "</style>\n",
              "<table border=\"1\" class=\"dataframe\">\n",
              "  <thead>\n",
              "    <tr style=\"text-align: right;\">\n",
              "      <th></th>\n",
              "      <th>drive-wheels</th>\n",
              "      <th>body-style</th>\n",
              "      <th>price</th>\n",
              "    </tr>\n",
              "  </thead>\n",
              "  <tbody>\n",
              "    <tr>\n",
              "      <th>0</th>\n",
              "      <td>4wd</td>\n",
              "      <td>hatchback</td>\n",
              "      <td>7603.000000</td>\n",
              "    </tr>\n",
              "    <tr>\n",
              "      <th>1</th>\n",
              "      <td>4wd</td>\n",
              "      <td>sedan</td>\n",
              "      <td>12647.333333</td>\n",
              "    </tr>\n",
              "    <tr>\n",
              "      <th>2</th>\n",
              "      <td>4wd</td>\n",
              "      <td>wagon</td>\n",
              "      <td>9095.750000</td>\n",
              "    </tr>\n",
              "    <tr>\n",
              "      <th>3</th>\n",
              "      <td>fwd</td>\n",
              "      <td>convertible</td>\n",
              "      <td>11595.000000</td>\n",
              "    </tr>\n",
              "    <tr>\n",
              "      <th>4</th>\n",
              "      <td>fwd</td>\n",
              "      <td>hardtop</td>\n",
              "      <td>8249.000000</td>\n",
              "    </tr>\n",
              "    <tr>\n",
              "      <th>5</th>\n",
              "      <td>fwd</td>\n",
              "      <td>hatchback</td>\n",
              "      <td>8396.387755</td>\n",
              "    </tr>\n",
              "    <tr>\n",
              "      <th>6</th>\n",
              "      <td>fwd</td>\n",
              "      <td>sedan</td>\n",
              "      <td>9811.800000</td>\n",
              "    </tr>\n",
              "    <tr>\n",
              "      <th>7</th>\n",
              "      <td>fwd</td>\n",
              "      <td>wagon</td>\n",
              "      <td>9997.333333</td>\n",
              "    </tr>\n",
              "    <tr>\n",
              "      <th>8</th>\n",
              "      <td>rwd</td>\n",
              "      <td>convertible</td>\n",
              "      <td>23949.600000</td>\n",
              "    </tr>\n",
              "    <tr>\n",
              "      <th>9</th>\n",
              "      <td>rwd</td>\n",
              "      <td>hardtop</td>\n",
              "      <td>24202.714286</td>\n",
              "    </tr>\n",
              "    <tr>\n",
              "      <th>10</th>\n",
              "      <td>rwd</td>\n",
              "      <td>hatchback</td>\n",
              "      <td>14337.777778</td>\n",
              "    </tr>\n",
              "    <tr>\n",
              "      <th>11</th>\n",
              "      <td>rwd</td>\n",
              "      <td>sedan</td>\n",
              "      <td>21711.833333</td>\n",
              "    </tr>\n",
              "    <tr>\n",
              "      <th>12</th>\n",
              "      <td>rwd</td>\n",
              "      <td>wagon</td>\n",
              "      <td>16994.222222</td>\n",
              "    </tr>\n",
              "  </tbody>\n",
              "</table>\n",
              "</div>\n",
              "      <button class=\"colab-df-convert\" onclick=\"convertToInteractive('df-df272abb-e53a-483c-b025-d5172534428b')\"\n",
              "              title=\"Convert this dataframe to an interactive table.\"\n",
              "              style=\"display:none;\">\n",
              "        \n",
              "  <svg xmlns=\"http://www.w3.org/2000/svg\" height=\"24px\"viewBox=\"0 0 24 24\"\n",
              "       width=\"24px\">\n",
              "    <path d=\"M0 0h24v24H0V0z\" fill=\"none\"/>\n",
              "    <path d=\"M18.56 5.44l.94 2.06.94-2.06 2.06-.94-2.06-.94-.94-2.06-.94 2.06-2.06.94zm-11 1L8.5 8.5l.94-2.06 2.06-.94-2.06-.94L8.5 2.5l-.94 2.06-2.06.94zm10 10l.94 2.06.94-2.06 2.06-.94-2.06-.94-.94-2.06-.94 2.06-2.06.94z\"/><path d=\"M17.41 7.96l-1.37-1.37c-.4-.4-.92-.59-1.43-.59-.52 0-1.04.2-1.43.59L10.3 9.45l-7.72 7.72c-.78.78-.78 2.05 0 2.83L4 21.41c.39.39.9.59 1.41.59.51 0 1.02-.2 1.41-.59l7.78-7.78 2.81-2.81c.8-.78.8-2.07 0-2.86zM5.41 20L4 18.59l7.72-7.72 1.47 1.35L5.41 20z\"/>\n",
              "  </svg>\n",
              "      </button>\n",
              "      \n",
              "  <style>\n",
              "    .colab-df-container {\n",
              "      display:flex;\n",
              "      flex-wrap:wrap;\n",
              "      gap: 12px;\n",
              "    }\n",
              "\n",
              "    .colab-df-convert {\n",
              "      background-color: #E8F0FE;\n",
              "      border: none;\n",
              "      border-radius: 50%;\n",
              "      cursor: pointer;\n",
              "      display: none;\n",
              "      fill: #1967D2;\n",
              "      height: 32px;\n",
              "      padding: 0 0 0 0;\n",
              "      width: 32px;\n",
              "    }\n",
              "\n",
              "    .colab-df-convert:hover {\n",
              "      background-color: #E2EBFA;\n",
              "      box-shadow: 0px 1px 2px rgba(60, 64, 67, 0.3), 0px 1px 3px 1px rgba(60, 64, 67, 0.15);\n",
              "      fill: #174EA6;\n",
              "    }\n",
              "\n",
              "    [theme=dark] .colab-df-convert {\n",
              "      background-color: #3B4455;\n",
              "      fill: #D2E3FC;\n",
              "    }\n",
              "\n",
              "    [theme=dark] .colab-df-convert:hover {\n",
              "      background-color: #434B5C;\n",
              "      box-shadow: 0px 1px 3px 1px rgba(0, 0, 0, 0.15);\n",
              "      filter: drop-shadow(0px 1px 2px rgba(0, 0, 0, 0.3));\n",
              "      fill: #FFFFFF;\n",
              "    }\n",
              "  </style>\n",
              "\n",
              "      <script>\n",
              "        const buttonEl =\n",
              "          document.querySelector('#df-df272abb-e53a-483c-b025-d5172534428b button.colab-df-convert');\n",
              "        buttonEl.style.display =\n",
              "          google.colab.kernel.accessAllowed ? 'block' : 'none';\n",
              "\n",
              "        async function convertToInteractive(key) {\n",
              "          const element = document.querySelector('#df-df272abb-e53a-483c-b025-d5172534428b');\n",
              "          const dataTable =\n",
              "            await google.colab.kernel.invokeFunction('convertToInteractive',\n",
              "                                                     [key], {});\n",
              "          if (!dataTable) return;\n",
              "\n",
              "          const docLinkHtml = 'Like what you see? Visit the ' +\n",
              "            '<a target=\"_blank\" href=https://colab.research.google.com/notebooks/data_table.ipynb>data table notebook</a>'\n",
              "            + ' to learn more about interactive tables.';\n",
              "          element.innerHTML = '';\n",
              "          dataTable['output_type'] = 'display_data';\n",
              "          await google.colab.output.renderOutput(dataTable, element);\n",
              "          const docLink = document.createElement('div');\n",
              "          docLink.innerHTML = docLinkHtml;\n",
              "          element.appendChild(docLink);\n",
              "        }\n",
              "      </script>\n",
              "    </div>\n",
              "  </div>\n",
              "  "
            ]
          },
          "metadata": {},
          "execution_count": 33
        }
      ]
    },
    {
      "cell_type": "code",
      "source": [
        "#pivot results for better visualization\n",
        "grouped_pivot = grouped_test1.pivot(index='drive-wheels',columns='body-style')\n",
        "grouped_pivot"
      ],
      "metadata": {
        "colab": {
          "base_uri": "https://localhost:8080/",
          "height": 206
        },
        "id": "1pk_8EEUAshF",
        "outputId": "85b5103c-2161-426a-dccd-7bc4a94c3afa"
      },
      "execution_count": 34,
      "outputs": [
        {
          "output_type": "execute_result",
          "data": {
            "text/plain": [
              "                   price                                            \\\n",
              "body-style   convertible       hardtop     hatchback         sedan   \n",
              "drive-wheels                                                         \n",
              "4wd                  NaN           NaN   7603.000000  12647.333333   \n",
              "fwd              11595.0   8249.000000   8396.387755   9811.800000   \n",
              "rwd              23949.6  24202.714286  14337.777778  21711.833333   \n",
              "\n",
              "                            \n",
              "body-style           wagon  \n",
              "drive-wheels                \n",
              "4wd            9095.750000  \n",
              "fwd            9997.333333  \n",
              "rwd           16994.222222  "
            ],
            "text/html": [
              "\n",
              "  <div id=\"df-855a9500-f069-44bd-b7de-d1bdba724618\">\n",
              "    <div class=\"colab-df-container\">\n",
              "      <div>\n",
              "<style scoped>\n",
              "    .dataframe tbody tr th:only-of-type {\n",
              "        vertical-align: middle;\n",
              "    }\n",
              "\n",
              "    .dataframe tbody tr th {\n",
              "        vertical-align: top;\n",
              "    }\n",
              "\n",
              "    .dataframe thead tr th {\n",
              "        text-align: left;\n",
              "    }\n",
              "\n",
              "    .dataframe thead tr:last-of-type th {\n",
              "        text-align: right;\n",
              "    }\n",
              "</style>\n",
              "<table border=\"1\" class=\"dataframe\">\n",
              "  <thead>\n",
              "    <tr>\n",
              "      <th></th>\n",
              "      <th colspan=\"5\" halign=\"left\">price</th>\n",
              "    </tr>\n",
              "    <tr>\n",
              "      <th>body-style</th>\n",
              "      <th>convertible</th>\n",
              "      <th>hardtop</th>\n",
              "      <th>hatchback</th>\n",
              "      <th>sedan</th>\n",
              "      <th>wagon</th>\n",
              "    </tr>\n",
              "    <tr>\n",
              "      <th>drive-wheels</th>\n",
              "      <th></th>\n",
              "      <th></th>\n",
              "      <th></th>\n",
              "      <th></th>\n",
              "      <th></th>\n",
              "    </tr>\n",
              "  </thead>\n",
              "  <tbody>\n",
              "    <tr>\n",
              "      <th>4wd</th>\n",
              "      <td>NaN</td>\n",
              "      <td>NaN</td>\n",
              "      <td>7603.000000</td>\n",
              "      <td>12647.333333</td>\n",
              "      <td>9095.750000</td>\n",
              "    </tr>\n",
              "    <tr>\n",
              "      <th>fwd</th>\n",
              "      <td>11595.0</td>\n",
              "      <td>8249.000000</td>\n",
              "      <td>8396.387755</td>\n",
              "      <td>9811.800000</td>\n",
              "      <td>9997.333333</td>\n",
              "    </tr>\n",
              "    <tr>\n",
              "      <th>rwd</th>\n",
              "      <td>23949.6</td>\n",
              "      <td>24202.714286</td>\n",
              "      <td>14337.777778</td>\n",
              "      <td>21711.833333</td>\n",
              "      <td>16994.222222</td>\n",
              "    </tr>\n",
              "  </tbody>\n",
              "</table>\n",
              "</div>\n",
              "      <button class=\"colab-df-convert\" onclick=\"convertToInteractive('df-855a9500-f069-44bd-b7de-d1bdba724618')\"\n",
              "              title=\"Convert this dataframe to an interactive table.\"\n",
              "              style=\"display:none;\">\n",
              "        \n",
              "  <svg xmlns=\"http://www.w3.org/2000/svg\" height=\"24px\"viewBox=\"0 0 24 24\"\n",
              "       width=\"24px\">\n",
              "    <path d=\"M0 0h24v24H0V0z\" fill=\"none\"/>\n",
              "    <path d=\"M18.56 5.44l.94 2.06.94-2.06 2.06-.94-2.06-.94-.94-2.06-.94 2.06-2.06.94zm-11 1L8.5 8.5l.94-2.06 2.06-.94-2.06-.94L8.5 2.5l-.94 2.06-2.06.94zm10 10l.94 2.06.94-2.06 2.06-.94-2.06-.94-.94-2.06-.94 2.06-2.06.94z\"/><path d=\"M17.41 7.96l-1.37-1.37c-.4-.4-.92-.59-1.43-.59-.52 0-1.04.2-1.43.59L10.3 9.45l-7.72 7.72c-.78.78-.78 2.05 0 2.83L4 21.41c.39.39.9.59 1.41.59.51 0 1.02-.2 1.41-.59l7.78-7.78 2.81-2.81c.8-.78.8-2.07 0-2.86zM5.41 20L4 18.59l7.72-7.72 1.47 1.35L5.41 20z\"/>\n",
              "  </svg>\n",
              "      </button>\n",
              "      \n",
              "  <style>\n",
              "    .colab-df-container {\n",
              "      display:flex;\n",
              "      flex-wrap:wrap;\n",
              "      gap: 12px;\n",
              "    }\n",
              "\n",
              "    .colab-df-convert {\n",
              "      background-color: #E8F0FE;\n",
              "      border: none;\n",
              "      border-radius: 50%;\n",
              "      cursor: pointer;\n",
              "      display: none;\n",
              "      fill: #1967D2;\n",
              "      height: 32px;\n",
              "      padding: 0 0 0 0;\n",
              "      width: 32px;\n",
              "    }\n",
              "\n",
              "    .colab-df-convert:hover {\n",
              "      background-color: #E2EBFA;\n",
              "      box-shadow: 0px 1px 2px rgba(60, 64, 67, 0.3), 0px 1px 3px 1px rgba(60, 64, 67, 0.15);\n",
              "      fill: #174EA6;\n",
              "    }\n",
              "\n",
              "    [theme=dark] .colab-df-convert {\n",
              "      background-color: #3B4455;\n",
              "      fill: #D2E3FC;\n",
              "    }\n",
              "\n",
              "    [theme=dark] .colab-df-convert:hover {\n",
              "      background-color: #434B5C;\n",
              "      box-shadow: 0px 1px 3px 1px rgba(0, 0, 0, 0.15);\n",
              "      filter: drop-shadow(0px 1px 2px rgba(0, 0, 0, 0.3));\n",
              "      fill: #FFFFFF;\n",
              "    }\n",
              "  </style>\n",
              "\n",
              "      <script>\n",
              "        const buttonEl =\n",
              "          document.querySelector('#df-855a9500-f069-44bd-b7de-d1bdba724618 button.colab-df-convert');\n",
              "        buttonEl.style.display =\n",
              "          google.colab.kernel.accessAllowed ? 'block' : 'none';\n",
              "\n",
              "        async function convertToInteractive(key) {\n",
              "          const element = document.querySelector('#df-855a9500-f069-44bd-b7de-d1bdba724618');\n",
              "          const dataTable =\n",
              "            await google.colab.kernel.invokeFunction('convertToInteractive',\n",
              "                                                     [key], {});\n",
              "          if (!dataTable) return;\n",
              "\n",
              "          const docLinkHtml = 'Like what you see? Visit the ' +\n",
              "            '<a target=\"_blank\" href=https://colab.research.google.com/notebooks/data_table.ipynb>data table notebook</a>'\n",
              "            + ' to learn more about interactive tables.';\n",
              "          element.innerHTML = '';\n",
              "          dataTable['output_type'] = 'display_data';\n",
              "          await google.colab.output.renderOutput(dataTable, element);\n",
              "          const docLink = document.createElement('div');\n",
              "          docLink.innerHTML = docLinkHtml;\n",
              "          element.appendChild(docLink);\n",
              "        }\n",
              "      </script>\n",
              "    </div>\n",
              "  </div>\n",
              "  "
            ]
          },
          "metadata": {},
          "execution_count": 34
        }
      ]
    },
    {
      "cell_type": "code",
      "source": [
        "grouped_pivot = grouped_pivot.fillna(0) #fill missing values with 0\n",
        "grouped_pivot"
      ],
      "metadata": {
        "colab": {
          "base_uri": "https://localhost:8080/",
          "height": 206
        },
        "id": "QKGUk3qBA9GM",
        "outputId": "0d32d36b-9f81-4c0f-fdb1-868654ace8bc"
      },
      "execution_count": 35,
      "outputs": [
        {
          "output_type": "execute_result",
          "data": {
            "text/plain": [
              "                   price                                            \\\n",
              "body-style   convertible       hardtop     hatchback         sedan   \n",
              "drive-wheels                                                         \n",
              "4wd                  0.0      0.000000   7603.000000  12647.333333   \n",
              "fwd              11595.0   8249.000000   8396.387755   9811.800000   \n",
              "rwd              23949.6  24202.714286  14337.777778  21711.833333   \n",
              "\n",
              "                            \n",
              "body-style           wagon  \n",
              "drive-wheels                \n",
              "4wd            9095.750000  \n",
              "fwd            9997.333333  \n",
              "rwd           16994.222222  "
            ],
            "text/html": [
              "\n",
              "  <div id=\"df-de140f99-44b9-4926-905e-c8f3dea1a1e0\">\n",
              "    <div class=\"colab-df-container\">\n",
              "      <div>\n",
              "<style scoped>\n",
              "    .dataframe tbody tr th:only-of-type {\n",
              "        vertical-align: middle;\n",
              "    }\n",
              "\n",
              "    .dataframe tbody tr th {\n",
              "        vertical-align: top;\n",
              "    }\n",
              "\n",
              "    .dataframe thead tr th {\n",
              "        text-align: left;\n",
              "    }\n",
              "\n",
              "    .dataframe thead tr:last-of-type th {\n",
              "        text-align: right;\n",
              "    }\n",
              "</style>\n",
              "<table border=\"1\" class=\"dataframe\">\n",
              "  <thead>\n",
              "    <tr>\n",
              "      <th></th>\n",
              "      <th colspan=\"5\" halign=\"left\">price</th>\n",
              "    </tr>\n",
              "    <tr>\n",
              "      <th>body-style</th>\n",
              "      <th>convertible</th>\n",
              "      <th>hardtop</th>\n",
              "      <th>hatchback</th>\n",
              "      <th>sedan</th>\n",
              "      <th>wagon</th>\n",
              "    </tr>\n",
              "    <tr>\n",
              "      <th>drive-wheels</th>\n",
              "      <th></th>\n",
              "      <th></th>\n",
              "      <th></th>\n",
              "      <th></th>\n",
              "      <th></th>\n",
              "    </tr>\n",
              "  </thead>\n",
              "  <tbody>\n",
              "    <tr>\n",
              "      <th>4wd</th>\n",
              "      <td>0.0</td>\n",
              "      <td>0.000000</td>\n",
              "      <td>7603.000000</td>\n",
              "      <td>12647.333333</td>\n",
              "      <td>9095.750000</td>\n",
              "    </tr>\n",
              "    <tr>\n",
              "      <th>fwd</th>\n",
              "      <td>11595.0</td>\n",
              "      <td>8249.000000</td>\n",
              "      <td>8396.387755</td>\n",
              "      <td>9811.800000</td>\n",
              "      <td>9997.333333</td>\n",
              "    </tr>\n",
              "    <tr>\n",
              "      <th>rwd</th>\n",
              "      <td>23949.6</td>\n",
              "      <td>24202.714286</td>\n",
              "      <td>14337.777778</td>\n",
              "      <td>21711.833333</td>\n",
              "      <td>16994.222222</td>\n",
              "    </tr>\n",
              "  </tbody>\n",
              "</table>\n",
              "</div>\n",
              "      <button class=\"colab-df-convert\" onclick=\"convertToInteractive('df-de140f99-44b9-4926-905e-c8f3dea1a1e0')\"\n",
              "              title=\"Convert this dataframe to an interactive table.\"\n",
              "              style=\"display:none;\">\n",
              "        \n",
              "  <svg xmlns=\"http://www.w3.org/2000/svg\" height=\"24px\"viewBox=\"0 0 24 24\"\n",
              "       width=\"24px\">\n",
              "    <path d=\"M0 0h24v24H0V0z\" fill=\"none\"/>\n",
              "    <path d=\"M18.56 5.44l.94 2.06.94-2.06 2.06-.94-2.06-.94-.94-2.06-.94 2.06-2.06.94zm-11 1L8.5 8.5l.94-2.06 2.06-.94-2.06-.94L8.5 2.5l-.94 2.06-2.06.94zm10 10l.94 2.06.94-2.06 2.06-.94-2.06-.94-.94-2.06-.94 2.06-2.06.94z\"/><path d=\"M17.41 7.96l-1.37-1.37c-.4-.4-.92-.59-1.43-.59-.52 0-1.04.2-1.43.59L10.3 9.45l-7.72 7.72c-.78.78-.78 2.05 0 2.83L4 21.41c.39.39.9.59 1.41.59.51 0 1.02-.2 1.41-.59l7.78-7.78 2.81-2.81c.8-.78.8-2.07 0-2.86zM5.41 20L4 18.59l7.72-7.72 1.47 1.35L5.41 20z\"/>\n",
              "  </svg>\n",
              "      </button>\n",
              "      \n",
              "  <style>\n",
              "    .colab-df-container {\n",
              "      display:flex;\n",
              "      flex-wrap:wrap;\n",
              "      gap: 12px;\n",
              "    }\n",
              "\n",
              "    .colab-df-convert {\n",
              "      background-color: #E8F0FE;\n",
              "      border: none;\n",
              "      border-radius: 50%;\n",
              "      cursor: pointer;\n",
              "      display: none;\n",
              "      fill: #1967D2;\n",
              "      height: 32px;\n",
              "      padding: 0 0 0 0;\n",
              "      width: 32px;\n",
              "    }\n",
              "\n",
              "    .colab-df-convert:hover {\n",
              "      background-color: #E2EBFA;\n",
              "      box-shadow: 0px 1px 2px rgba(60, 64, 67, 0.3), 0px 1px 3px 1px rgba(60, 64, 67, 0.15);\n",
              "      fill: #174EA6;\n",
              "    }\n",
              "\n",
              "    [theme=dark] .colab-df-convert {\n",
              "      background-color: #3B4455;\n",
              "      fill: #D2E3FC;\n",
              "    }\n",
              "\n",
              "    [theme=dark] .colab-df-convert:hover {\n",
              "      background-color: #434B5C;\n",
              "      box-shadow: 0px 1px 3px 1px rgba(0, 0, 0, 0.15);\n",
              "      filter: drop-shadow(0px 1px 2px rgba(0, 0, 0, 0.3));\n",
              "      fill: #FFFFFF;\n",
              "    }\n",
              "  </style>\n",
              "\n",
              "      <script>\n",
              "        const buttonEl =\n",
              "          document.querySelector('#df-de140f99-44b9-4926-905e-c8f3dea1a1e0 button.colab-df-convert');\n",
              "        buttonEl.style.display =\n",
              "          google.colab.kernel.accessAllowed ? 'block' : 'none';\n",
              "\n",
              "        async function convertToInteractive(key) {\n",
              "          const element = document.querySelector('#df-de140f99-44b9-4926-905e-c8f3dea1a1e0');\n",
              "          const dataTable =\n",
              "            await google.colab.kernel.invokeFunction('convertToInteractive',\n",
              "                                                     [key], {});\n",
              "          if (!dataTable) return;\n",
              "\n",
              "          const docLinkHtml = 'Like what you see? Visit the ' +\n",
              "            '<a target=\"_blank\" href=https://colab.research.google.com/notebooks/data_table.ipynb>data table notebook</a>'\n",
              "            + ' to learn more about interactive tables.';\n",
              "          element.innerHTML = '';\n",
              "          dataTable['output_type'] = 'display_data';\n",
              "          await google.colab.output.renderOutput(dataTable, element);\n",
              "          const docLink = document.createElement('div');\n",
              "          docLink.innerHTML = docLinkHtml;\n",
              "          element.appendChild(docLink);\n",
              "        }\n",
              "      </script>\n",
              "    </div>\n",
              "  </div>\n",
              "  "
            ]
          },
          "metadata": {},
          "execution_count": 35
        }
      ]
    },
    {
      "cell_type": "markdown",
      "source": [
        "##**4. Analyzing Multiple Feature Patterns Using Vizualization**"
      ],
      "metadata": {
        "id": "GEfa7V-a4js2"
      }
    },
    {
      "cell_type": "markdown",
      "source": [
        "Pcolor is a visually striking visualization technique which you can use to visualize two dimensional datasets"
      ],
      "metadata": {
        "id": "L4CRCKErwzBp"
      }
    },
    {
      "cell_type": "code",
      "source": [
        "import matplotlib.pyplot as plt\n",
        "%matplotlib inline "
      ],
      "metadata": {
        "id": "f3BM-UmCCJ4F"
      },
      "execution_count": 36,
      "outputs": []
    },
    {
      "cell_type": "code",
      "source": [
        "#use the grouped results in a heat map to visualize the relationship between Body Style and drive-wheels vs Price.\n",
        "plt.pcolor(grouped_pivot, cmap='magma')\n",
        "\n",
        "#title\n",
        "plt.title('Body Style and drive-wheels vs Price', size=14, y=1.1) #y=1.1 for space between title and figure\n",
        "\n",
        "#legend\n",
        "cbar = plt.colorbar()\n",
        "cbar.set_label(\"Price ($)\") #optional: (..., rotation=270)\n",
        "\n",
        "#axis configurations\n",
        "plt.xlabel(\"Body Style\")\n",
        "plt.ylabel(\"Drive Wheels\")\n",
        "plt.yticks(np.arange(3)+0.5, [\"4wd\",\t\"fwd\",\t\"rwd\"])\n",
        "plt.xticks(np.arange(5)+0.5, [\"convertible\",\t\"hardtop\",\t\"hatchback\", \"sedan\",\t\"wagon\"], rotation=75) #+0.5 to centralize the ticks in squares\n",
        "\n",
        "##code for automatization of label names\n",
        "#row_labels = grouped_pivot.columns.levels[1]\n",
        "#col_labels = grouped_pivot.index\n",
        "##insert labels\n",
        "#ax.set_xticklabels(row_labels, minor=False)\n",
        "#ax.set_yticklabels(col_labels, minor=False)\n",
        "##move ticks and labels to the center\n",
        "#ax.set_xticks(np.arange(grouped_pivot.shape[1]) + 0.5, minor=False)\n",
        "#ax.set_yticks(np.arange(grouped_pivot.shape[0]) + 0.5, minor=False)\n",
        "\n",
        "plt.show()"
      ],
      "metadata": {
        "colab": {
          "base_uri": "https://localhost:8080/",
          "height": 365
        },
        "id": "abA6NnsmCNFL",
        "outputId": "629664f0-88f6-4dc5-e086-5dc5b487bd97"
      },
      "execution_count": 65,
      "outputs": [
        {
          "output_type": "display_data",
          "data": {
            "text/plain": [
              "<Figure size 432x288 with 2 Axes>"
            ],
            "image/png": "[encoded data removed]"
          },
          "metadata": {
            "needs_background": "light"
          }
        }
      ]
    },
    {
      "cell_type": "markdown",
      "source": [
        "The heatmap plots the target variable (price) proportional to colour with respect to the variables 'drive-wheel' and 'body-style' on the vertical and horizontal axis, respectively. This allows us to visualize how the price is related to 'drive-wheel' and 'body-style'."
      ],
      "metadata": {
        "id": "mRfdlrkVDMEL"
      }
    },
    {
      "cell_type": "markdown",
      "source": [
        "##**4. Correlation Matrix Analysis**"
      ],
      "metadata": {
        "id": "Q5JveD2ItBqJ"
      }
    },
    {
      "cell_type": "code",
      "source": [
        "#create Pearson correlation matrix of all features\n",
        "corr_matrix=df.corr()\n",
        "corr_matrix"
      ],
      "metadata": {
        "colab": {
          "base_uri": "https://localhost:8080/",
          "height": 1000
        },
        "id": "3cbPDUjOvr8T",
        "outputId": "0e42c3c7-95b9-4363-8db4-0817128a8a02"
      },
      "execution_count": 39,
      "outputs": [
        {
          "output_type": "execute_result",
          "data": {
            "text/plain": [
              "                      price  symboling  normalized-losses  wheel-base  \\\n",
              "price              1.000000  -0.082391           0.133999    0.584642   \n",
              "symboling         -0.082391   1.000000           0.466264   -0.535987   \n",
              "normalized-losses  0.133999   0.466264           1.000000   -0.056661   \n",
              "wheel-base         0.584642  -0.535987          -0.056661    1.000000   \n",
              "engine-size        0.872335  -0.110581           0.112360    0.572027   \n",
              "normalized-length  0.690628  -0.365404           0.019424    0.876024   \n",
              "normalized-width   0.751265  -0.242423           0.086802    0.814507   \n",
              "normalized-height  0.135486  -0.550160          -0.373737    0.590742   \n",
              "curb-weight        0.834415  -0.233118           0.099404    0.782097   \n",
              "bore               0.543155  -0.140019          -0.029862    0.493244   \n",
              "stroke             0.082310  -0.008245           0.055563    0.158502   \n",
              "compression-ratio  0.071107  -0.182196          -0.114713    0.250313   \n",
              "peak-rpm          -0.101616   0.279740           0.239543   -0.360305   \n",
              "city-mpg          -0.686571  -0.035527          -0.225016   -0.470606   \n",
              "city-L/100km       0.789898   0.066171           0.238567    0.476153   \n",
              "highway-mpg       -0.704692   0.036233          -0.181877   -0.543304   \n",
              "highway-L/100km    0.801118  -0.029807           0.181189    0.577576   \n",
              "horsepower         0.809607   0.075810           0.217300    0.371178   \n",
              "fuel-type-diesel   0.110326  -0.196735          -0.101546    0.307237   \n",
              "fuel-type-gas     -0.110326   0.196735           0.101546   -0.307237   \n",
              "aspiration-std    -0.179578   0.054615           0.006911   -0.256889   \n",
              "aspiration-turbo   0.179578  -0.054615          -0.006911    0.256889   \n",
              "4-doors            0.042435  -0.672344          -0.361368    0.445245   \n",
              "2-doors           -0.042435   0.672344           0.361368   -0.445245   \n",
              "\n",
              "                   engine-size  normalized-length  normalized-width  \\\n",
              "price                 0.872335           0.690628          0.751265   \n",
              "symboling            -0.110581          -0.365404         -0.242423   \n",
              "normalized-losses     0.112360           0.019424          0.086802   \n",
              "wheel-base            0.572027           0.876024          0.814507   \n",
              "engine-size           1.000000           0.685025          0.729436   \n",
              "normalized-length     0.685025           1.000000          0.857170   \n",
              "normalized-width      0.729436           0.857170          1.000000   \n",
              "normalized-height     0.074694           0.492063          0.306002   \n",
              "curb-weight           0.849072           0.880665          0.866201   \n",
              "bore                  0.572609           0.608971          0.544885   \n",
              "stroke                0.209523           0.124139          0.188829   \n",
              "compression-ratio     0.028889           0.159733          0.189867   \n",
              "peak-rpm             -0.256733          -0.285970         -0.245800   \n",
              "city-mpg             -0.650546          -0.665192         -0.633531   \n",
              "city-L/100km          0.745059           0.657373          0.673363   \n",
              "highway-mpg          -0.679571          -0.698142         -0.680635   \n",
              "highway-L/100km       0.783465           0.707108          0.736728   \n",
              "horsepower            0.822668           0.579795          0.615056   \n",
              "fuel-type-diesel      0.070779           0.211187          0.244356   \n",
              "fuel-type-gas        -0.070779          -0.211187         -0.244356   \n",
              "aspiration-std       -0.110040          -0.230085         -0.305732   \n",
              "aspiration-turbo      0.110040           0.230085          0.305732   \n",
              "4-doors               0.024094           0.395122          0.227655   \n",
              "2-doors              -0.024094          -0.395122         -0.227655   \n",
              "\n",
              "                   normalized-height  curb-weight      bore  ...  \\\n",
              "price                       0.135486     0.834415  0.543155  ...   \n",
              "symboling                  -0.550160    -0.233118 -0.140019  ...   \n",
              "normalized-losses          -0.373737     0.099404 -0.029862  ...   \n",
              "wheel-base                  0.590742     0.782097  0.493244  ...   \n",
              "engine-size                 0.074694     0.849072  0.572609  ...   \n",
              "normalized-length           0.492063     0.880665  0.608971  ...   \n",
              "normalized-width            0.306002     0.866201  0.544885  ...   \n",
              "normalized-height           1.000000     0.307581  0.180449  ...   \n",
              "curb-weight                 0.307581     1.000000  0.644060  ...   \n",
              "bore                        0.180449     0.644060  1.000000  ...   \n",
              "stroke                     -0.062704     0.167562 -0.055390  ...   \n",
              "compression-ratio           0.259737     0.156433  0.001263  ...   \n",
              "peak-rpm                   -0.309974    -0.279361 -0.267392  ...   \n",
              "city-mpg                   -0.049800    -0.749543 -0.582027  ...   \n",
              "city-L/100km                0.003811     0.785353  0.554610  ...   \n",
              "highway-mpg                -0.104812    -0.794889 -0.591309  ...   \n",
              "highway-L/100km             0.084301     0.836921  0.559112  ...   \n",
              "horsepower                 -0.087001     0.757981  0.566903  ...   \n",
              "fuel-type-diesel            0.281578     0.221046  0.054458  ...   \n",
              "fuel-type-gas              -0.281578    -0.221046 -0.054458  ...   \n",
              "aspiration-std             -0.090336    -0.321955 -0.227816  ...   \n",
              "aspiration-turbo            0.090336     0.321955  0.227816  ...   \n",
              "4-doors                     0.538383     0.208517  0.119222  ...   \n",
              "2-doors                    -0.538383    -0.208517 -0.119222  ...   \n",
              "\n",
              "                   city-L/100km  highway-mpg  highway-L/100km  horsepower  \\\n",
              "price                  0.789898    -0.704692         0.801118    0.809607   \n",
              "symboling              0.066171     0.036233        -0.029807    0.075810   \n",
              "normalized-losses      0.238567    -0.181877         0.181189    0.217300   \n",
              "wheel-base             0.476153    -0.543304         0.577576    0.371178   \n",
              "engine-size            0.745059    -0.679571         0.783465    0.822668   \n",
              "normalized-length      0.657373    -0.698142         0.707108    0.579795   \n",
              "normalized-width       0.673363    -0.680635         0.736728    0.615056   \n",
              "normalized-height      0.003811    -0.104812         0.084301   -0.087001   \n",
              "curb-weight            0.785353    -0.794889         0.836921    0.757981   \n",
              "bore                   0.554610    -0.591309         0.559112    0.566903   \n",
              "stroke                 0.037300    -0.035201         0.047885    0.098322   \n",
              "compression-ratio     -0.299372     0.268465        -0.223361   -0.214489   \n",
              "peak-rpm               0.115830    -0.058598         0.017694    0.107884   \n",
              "city-mpg              -0.949713     0.972044        -0.909024   -0.822192   \n",
              "city-L/100km           1.000000    -0.930028         0.958306    0.889482   \n",
              "highway-mpg           -0.930028     1.000000        -0.951100   -0.804579   \n",
              "highway-L/100km        0.958306    -0.951100         1.000000    0.840627   \n",
              "horsepower             0.889482    -0.804579         0.840627    1.000000   \n",
              "fuel-type-diesel      -0.241282     0.198690        -0.158091   -0.169030   \n",
              "fuel-type-gas          0.241282    -0.198690         0.158091    0.169030   \n",
              "aspiration-std        -0.157578     0.241851        -0.210720   -0.251159   \n",
              "aspiration-turbo       0.157578    -0.241851         0.210720    0.251159   \n",
              "4-doors               -0.018783    -0.045787         0.026788   -0.102879   \n",
              "2-doors                0.018783     0.045787        -0.026788    0.102879   \n",
              "\n",
              "                   fuel-type-diesel  fuel-type-gas  aspiration-std  \\\n",
              "price                      0.110326      -0.110326       -0.179578   \n",
              "symboling                 -0.196735       0.196735        0.054615   \n",
              "normalized-losses         -0.101546       0.101546        0.006911   \n",
              "wheel-base                 0.307237      -0.307237       -0.256889   \n",
              "engine-size                0.070779      -0.070779       -0.110040   \n",
              "normalized-length          0.211187      -0.211187       -0.230085   \n",
              "normalized-width           0.244356      -0.244356       -0.305732   \n",
              "normalized-height          0.281578      -0.281578       -0.090336   \n",
              "curb-weight                0.221046      -0.221046       -0.321955   \n",
              "bore                       0.054458      -0.054458       -0.227816   \n",
              "stroke                     0.241303      -0.241303       -0.218674   \n",
              "compression-ratio          0.985231      -0.985231       -0.307522   \n",
              "peak-rpm                  -0.475812       0.475812        0.190057   \n",
              "city-mpg                   0.265676      -0.265676        0.189237   \n",
              "city-L/100km              -0.241282       0.241282       -0.157578   \n",
              "highway-mpg                0.198690      -0.198690        0.241851   \n",
              "highway-L/100km           -0.158091       0.158091       -0.210720   \n",
              "horsepower                -0.169030       0.169030       -0.251159   \n",
              "fuel-type-diesel           1.000000      -1.000000       -0.408228   \n",
              "fuel-type-gas             -1.000000       1.000000        0.408228   \n",
              "aspiration-std            -0.408228       0.408228        1.000000   \n",
              "aspiration-turbo           0.408228      -0.408228       -1.000000   \n",
              "4-doors                    0.186681      -0.186681       -0.063017   \n",
              "2-doors                   -0.186681       0.186681        0.063017   \n",
              "\n",
              "                   aspiration-turbo   4-doors   2-doors  \n",
              "price                      0.179578  0.042435 -0.042435  \n",
              "symboling                 -0.054615 -0.672344  0.672344  \n",
              "normalized-losses         -0.006911 -0.361368  0.361368  \n",
              "wheel-base                 0.256889  0.445245 -0.445245  \n",
              "engine-size                0.110040  0.024094 -0.024094  \n",
              "normalized-length          0.230085  0.395122 -0.395122  \n",
              "normalized-width           0.305732  0.227655 -0.227655  \n",
              "normalized-height          0.090336  0.538383 -0.538383  \n",
              "curb-weight                0.321955  0.208517 -0.208517  \n",
              "bore                       0.227816  0.119222 -0.119222  \n",
              "stroke                     0.218674 -0.007887  0.007887  \n",
              "compression-ratio          0.307522  0.169164 -0.169164  \n",
              "peak-rpm                  -0.190057 -0.232054  0.232054  \n",
              "city-mpg                  -0.189237 -0.027617  0.027617  \n",
              "city-L/100km               0.157578 -0.018783  0.018783  \n",
              "highway-mpg               -0.241851 -0.045787  0.045787  \n",
              "highway-L/100km            0.210720  0.026788 -0.026788  \n",
              "horsepower                 0.251159 -0.102879  0.102879  \n",
              "fuel-type-diesel           0.408228  0.186681 -0.186681  \n",
              "fuel-type-gas             -0.408228 -0.186681  0.186681  \n",
              "aspiration-std            -1.000000 -0.063017  0.063017  \n",
              "aspiration-turbo           1.000000  0.063017 -0.063017  \n",
              "4-doors                    0.063017  1.000000 -1.000000  \n",
              "2-doors                   -0.063017 -1.000000  1.000000  \n",
              "\n",
              "[24 rows x 24 columns]"
            ],
            "text/html": [
              "\n",
              "  <div id=\"df-7c746e00-7401-4490-b92b-4b8b7a9eb36d\">\n",
              "    <div class=\"colab-df-container\">\n",
              "      <div>\n",
              "<style scoped>\n",
              "    .dataframe tbody tr th:only-of-type {\n",
              "        vertical-align: middle;\n",
              "    }\n",
              "\n",
              "    .dataframe tbody tr th {\n",
              "        vertical-align: top;\n",
              "    }\n",
              "\n",
              "    .dataframe thead th {\n",
              "        text-align: right;\n",
              "    }\n",
              "</style>\n",
              "<table border=\"1\" class=\"dataframe\">\n",
              "  <thead>\n",
              "    <tr style=\"text-align: right;\">\n",
              "      <th></th>\n",
              "      <th>price</th>\n",
              "      <th>symboling</th>\n",
              "      <th>normalized-losses</th>\n",
              "      <th>wheel-base</th>\n",
              "      <th>engine-size</th>\n",
              "      <th>normalized-length</th>\n",
              "      <th>normalized-width</th>\n",
              "      <th>normalized-height</th>\n",
              "      <th>curb-weight</th>\n",
              "      <th>bore</th>\n",
              "      <th>...</th>\n",
              "      <th>city-L/100km</th>\n",
              "      <th>highway-mpg</th>\n",
              "      <th>highway-L/100km</th>\n",
              "      <th>horsepower</th>\n",
              "      <th>fuel-type-diesel</th>\n",
              "      <th>fuel-type-gas</th>\n",
              "      <th>aspiration-std</th>\n",
              "      <th>aspiration-turbo</th>\n",
              "      <th>4-doors</th>\n",
              "      <th>2-doors</th>\n",
              "    </tr>\n",
              "  </thead>\n",
              "  <tbody>\n",
              "    <tr>\n",
              "      <th>price</th>\n",
              "      <td>1.000000</td>\n",
              "      <td>-0.082391</td>\n",
              "      <td>0.133999</td>\n",
              "      <td>0.584642</td>\n",
              "      <td>0.872335</td>\n",
              "      <td>0.690628</td>\n",
              "      <td>0.751265</td>\n",
              "      <td>0.135486</td>\n",
              "      <td>0.834415</td>\n",
              "      <td>0.543155</td>\n",
              "      <td>...</td>\n",
              "      <td>0.789898</td>\n",
              "      <td>-0.704692</td>\n",
              "      <td>0.801118</td>\n",
              "      <td>0.809607</td>\n",
              "      <td>0.110326</td>\n",
              "      <td>-0.110326</td>\n",
              "      <td>-0.179578</td>\n",
              "      <td>0.179578</td>\n",
              "      <td>0.042435</td>\n",
              "      <td>-0.042435</td>\n",
              "    </tr>\n",
              "    <tr>\n",
              "      <th>symboling</th>\n",
              "      <td>-0.082391</td>\n",
              "      <td>1.000000</td>\n",
              "      <td>0.466264</td>\n",
              "      <td>-0.535987</td>\n",
              "      <td>-0.110581</td>\n",
              "      <td>-0.365404</td>\n",
              "      <td>-0.242423</td>\n",
              "      <td>-0.550160</td>\n",
              "      <td>-0.233118</td>\n",
              "      <td>-0.140019</td>\n",
              "      <td>...</td>\n",
              "      <td>0.066171</td>\n",
              "      <td>0.036233</td>\n",
              "      <td>-0.029807</td>\n",
              "      <td>0.075810</td>\n",
              "      <td>-0.196735</td>\n",
              "      <td>0.196735</td>\n",
              "      <td>0.054615</td>\n",
              "      <td>-0.054615</td>\n",
              "      <td>-0.672344</td>\n",
              "      <td>0.672344</td>\n",
              "    </tr>\n",
              "    <tr>\n",
              "      <th>normalized-losses</th>\n",
              "      <td>0.133999</td>\n",
              "      <td>0.466264</td>\n",
              "      <td>1.000000</td>\n",
              "      <td>-0.056661</td>\n",
              "      <td>0.112360</td>\n",
              "      <td>0.019424</td>\n",
              "      <td>0.086802</td>\n",
              "      <td>-0.373737</td>\n",
              "      <td>0.099404</td>\n",
              "      <td>-0.029862</td>\n",
              "      <td>...</td>\n",
              "      <td>0.238567</td>\n",
              "      <td>-0.181877</td>\n",
              "      <td>0.181189</td>\n",
              "      <td>0.217300</td>\n",
              "      <td>-0.101546</td>\n",
              "      <td>0.101546</td>\n",
              "      <td>0.006911</td>\n",
              "      <td>-0.006911</td>\n",
              "      <td>-0.361368</td>\n",
              "      <td>0.361368</td>\n",
              "    </tr>\n",
              "    <tr>\n",
              "      <th>wheel-base</th>\n",
              "      <td>0.584642</td>\n",
              "      <td>-0.535987</td>\n",
              "      <td>-0.056661</td>\n",
              "      <td>1.000000</td>\n",
              "      <td>0.572027</td>\n",
              "      <td>0.876024</td>\n",
              "      <td>0.814507</td>\n",
              "      <td>0.590742</td>\n",
              "      <td>0.782097</td>\n",
              "      <td>0.493244</td>\n",
              "      <td>...</td>\n",
              "      <td>0.476153</td>\n",
              "      <td>-0.543304</td>\n",
              "      <td>0.577576</td>\n",
              "      <td>0.371178</td>\n",
              "      <td>0.307237</td>\n",
              "      <td>-0.307237</td>\n",
              "      <td>-0.256889</td>\n",
              "      <td>0.256889</td>\n",
              "      <td>0.445245</td>\n",
              "      <td>-0.445245</td>\n",
              "    </tr>\n",
              "    <tr>\n",
              "      <th>engine-size</th>\n",
              "      <td>0.872335</td>\n",
              "      <td>-0.110581</td>\n",
              "      <td>0.112360</td>\n",
              "      <td>0.572027</td>\n",
              "      <td>1.000000</td>\n",
              "      <td>0.685025</td>\n",
              "      <td>0.729436</td>\n",
              "      <td>0.074694</td>\n",
              "      <td>0.849072</td>\n",
              "      <td>0.572609</td>\n",
              "      <td>...</td>\n",
              "      <td>0.745059</td>\n",
              "      <td>-0.679571</td>\n",
              "      <td>0.783465</td>\n",
              "      <td>0.822668</td>\n",
              "      <td>0.070779</td>\n",
              "      <td>-0.070779</td>\n",
              "      <td>-0.110040</td>\n",
              "      <td>0.110040</td>\n",
              "      <td>0.024094</td>\n",
              "      <td>-0.024094</td>\n",
              "    </tr>\n",
              "    <tr>\n",
              "      <th>normalized-length</th>\n",
              "      <td>0.690628</td>\n",
              "      <td>-0.365404</td>\n",
              "      <td>0.019424</td>\n",
              "      <td>0.876024</td>\n",
              "      <td>0.685025</td>\n",
              "      <td>1.000000</td>\n",
              "      <td>0.857170</td>\n",
              "      <td>0.492063</td>\n",
              "      <td>0.880665</td>\n",
              "      <td>0.608971</td>\n",
              "      <td>...</td>\n",
              "      <td>0.657373</td>\n",
              "      <td>-0.698142</td>\n",
              "      <td>0.707108</td>\n",
              "      <td>0.579795</td>\n",
              "      <td>0.211187</td>\n",
              "      <td>-0.211187</td>\n",
              "      <td>-0.230085</td>\n",
              "      <td>0.230085</td>\n",
              "      <td>0.395122</td>\n",
              "      <td>-0.395122</td>\n",
              "    </tr>\n",
              "    <tr>\n",
              "      <th>normalized-width</th>\n",
              "      <td>0.751265</td>\n",
              "      <td>-0.242423</td>\n",
              "      <td>0.086802</td>\n",
              "      <td>0.814507</td>\n",
              "      <td>0.729436</td>\n",
              "      <td>0.857170</td>\n",
              "      <td>1.000000</td>\n",
              "      <td>0.306002</td>\n",
              "      <td>0.866201</td>\n",
              "      <td>0.544885</td>\n",
              "      <td>...</td>\n",
              "      <td>0.673363</td>\n",
              "      <td>-0.680635</td>\n",
              "      <td>0.736728</td>\n",
              "      <td>0.615056</td>\n",
              "      <td>0.244356</td>\n",
              "      <td>-0.244356</td>\n",
              "      <td>-0.305732</td>\n",
              "      <td>0.305732</td>\n",
              "      <td>0.227655</td>\n",
              "      <td>-0.227655</td>\n",
              "    </tr>\n",
              "    <tr>\n",
              "      <th>normalized-height</th>\n",
              "      <td>0.135486</td>\n",
              "      <td>-0.550160</td>\n",
              "      <td>-0.373737</td>\n",
              "      <td>0.590742</td>\n",
              "      <td>0.074694</td>\n",
              "      <td>0.492063</td>\n",
              "      <td>0.306002</td>\n",
              "      <td>1.000000</td>\n",
              "      <td>0.307581</td>\n",
              "      <td>0.180449</td>\n",
              "      <td>...</td>\n",
              "      <td>0.003811</td>\n",
              "      <td>-0.104812</td>\n",
              "      <td>0.084301</td>\n",
              "      <td>-0.087001</td>\n",
              "      <td>0.281578</td>\n",
              "      <td>-0.281578</td>\n",
              "      <td>-0.090336</td>\n",
              "      <td>0.090336</td>\n",
              "      <td>0.538383</td>\n",
              "      <td>-0.538383</td>\n",
              "    </tr>\n",
              "    <tr>\n",
              "      <th>curb-weight</th>\n",
              "      <td>0.834415</td>\n",
              "      <td>-0.233118</td>\n",
              "      <td>0.099404</td>\n",
              "      <td>0.782097</td>\n",
              "      <td>0.849072</td>\n",
              "      <td>0.880665</td>\n",
              "      <td>0.866201</td>\n",
              "      <td>0.307581</td>\n",
              "      <td>1.000000</td>\n",
              "      <td>0.644060</td>\n",
              "      <td>...</td>\n",
              "      <td>0.785353</td>\n",
              "      <td>-0.794889</td>\n",
              "      <td>0.836921</td>\n",
              "      <td>0.757981</td>\n",
              "      <td>0.221046</td>\n",
              "      <td>-0.221046</td>\n",
              "      <td>-0.321955</td>\n",
              "      <td>0.321955</td>\n",
              "      <td>0.208517</td>\n",
              "      <td>-0.208517</td>\n",
              "    </tr>\n",
              "    <tr>\n",
              "      <th>bore</th>\n",
              "      <td>0.543155</td>\n",
              "      <td>-0.140019</td>\n",
              "      <td>-0.029862</td>\n",
              "      <td>0.493244</td>\n",
              "      <td>0.572609</td>\n",
              "      <td>0.608971</td>\n",
              "      <td>0.544885</td>\n",
              "      <td>0.180449</td>\n",
              "      <td>0.644060</td>\n",
              "      <td>1.000000</td>\n",
              "      <td>...</td>\n",
              "      <td>0.554610</td>\n",
              "      <td>-0.591309</td>\n",
              "      <td>0.559112</td>\n",
              "      <td>0.566903</td>\n",
              "      <td>0.054458</td>\n",
              "      <td>-0.054458</td>\n",
              "      <td>-0.227816</td>\n",
              "      <td>0.227816</td>\n",
              "      <td>0.119222</td>\n",
              "      <td>-0.119222</td>\n",
              "    </tr>\n",
              "    <tr>\n",
              "      <th>stroke</th>\n",
              "      <td>0.082310</td>\n",
              "      <td>-0.008245</td>\n",
              "      <td>0.055563</td>\n",
              "      <td>0.158502</td>\n",
              "      <td>0.209523</td>\n",
              "      <td>0.124139</td>\n",
              "      <td>0.188829</td>\n",
              "      <td>-0.062704</td>\n",
              "      <td>0.167562</td>\n",
              "      <td>-0.055390</td>\n",
              "      <td>...</td>\n",
              "      <td>0.037300</td>\n",
              "      <td>-0.035201</td>\n",
              "      <td>0.047885</td>\n",
              "      <td>0.098322</td>\n",
              "      <td>0.241303</td>\n",
              "      <td>-0.241303</td>\n",
              "      <td>-0.218674</td>\n",
              "      <td>0.218674</td>\n",
              "      <td>-0.007887</td>\n",
              "      <td>0.007887</td>\n",
              "    </tr>\n",
              "    <tr>\n",
              "      <th>compression-ratio</th>\n",
              "      <td>0.071107</td>\n",
              "      <td>-0.182196</td>\n",
              "      <td>-0.114713</td>\n",
              "      <td>0.250313</td>\n",
              "      <td>0.028889</td>\n",
              "      <td>0.159733</td>\n",
              "      <td>0.189867</td>\n",
              "      <td>0.259737</td>\n",
              "      <td>0.156433</td>\n",
              "      <td>0.001263</td>\n",
              "      <td>...</td>\n",
              "      <td>-0.299372</td>\n",
              "      <td>0.268465</td>\n",
              "      <td>-0.223361</td>\n",
              "      <td>-0.214489</td>\n",
              "      <td>0.985231</td>\n",
              "      <td>-0.985231</td>\n",
              "      <td>-0.307522</td>\n",
              "      <td>0.307522</td>\n",
              "      <td>0.169164</td>\n",
              "      <td>-0.169164</td>\n",
              "    </tr>\n",
              "    <tr>\n",
              "      <th>peak-rpm</th>\n",
              "      <td>-0.101616</td>\n",
              "      <td>0.279740</td>\n",
              "      <td>0.239543</td>\n",
              "      <td>-0.360305</td>\n",
              "      <td>-0.256733</td>\n",
              "      <td>-0.285970</td>\n",
              "      <td>-0.245800</td>\n",
              "      <td>-0.309974</td>\n",
              "      <td>-0.279361</td>\n",
              "      <td>-0.267392</td>\n",
              "      <td>...</td>\n",
              "      <td>0.115830</td>\n",
              "      <td>-0.058598</td>\n",
              "      <td>0.017694</td>\n",
              "      <td>0.107884</td>\n",
              "      <td>-0.475812</td>\n",
              "      <td>0.475812</td>\n",
              "      <td>0.190057</td>\n",
              "      <td>-0.190057</td>\n",
              "      <td>-0.232054</td>\n",
              "      <td>0.232054</td>\n",
              "    </tr>\n",
              "    <tr>\n",
              "      <th>city-mpg</th>\n",
              "      <td>-0.686571</td>\n",
              "      <td>-0.035527</td>\n",
              "      <td>-0.225016</td>\n",
              "      <td>-0.470606</td>\n",
              "      <td>-0.650546</td>\n",
              "      <td>-0.665192</td>\n",
              "      <td>-0.633531</td>\n",
              "      <td>-0.049800</td>\n",
              "      <td>-0.749543</td>\n",
              "      <td>-0.582027</td>\n",
              "      <td>...</td>\n",
              "      <td>-0.949713</td>\n",
              "      <td>0.972044</td>\n",
              "      <td>-0.909024</td>\n",
              "      <td>-0.822192</td>\n",
              "      <td>0.265676</td>\n",
              "      <td>-0.265676</td>\n",
              "      <td>0.189237</td>\n",
              "      <td>-0.189237</td>\n",
              "      <td>-0.027617</td>\n",
              "      <td>0.027617</td>\n",
              "    </tr>\n",
              "    <tr>\n",
              "      <th>city-L/100km</th>\n",
              "      <td>0.789898</td>\n",
              "      <td>0.066171</td>\n",
              "      <td>0.238567</td>\n",
              "      <td>0.476153</td>\n",
              "      <td>0.745059</td>\n",
              "      <td>0.657373</td>\n",
              "      <td>0.673363</td>\n",
              "      <td>0.003811</td>\n",
              "      <td>0.785353</td>\n",
              "      <td>0.554610</td>\n",
              "      <td>...</td>\n",
              "      <td>1.000000</td>\n",
              "      <td>-0.930028</td>\n",
              "      <td>0.958306</td>\n",
              "      <td>0.889482</td>\n",
              "      <td>-0.241282</td>\n",
              "      <td>0.241282</td>\n",
              "      <td>-0.157578</td>\n",
              "      <td>0.157578</td>\n",
              "      <td>-0.018783</td>\n",
              "      <td>0.018783</td>\n",
              "    </tr>\n",
              "    <tr>\n",
              "      <th>highway-mpg</th>\n",
              "      <td>-0.704692</td>\n",
              "      <td>0.036233</td>\n",
              "      <td>-0.181877</td>\n",
              "      <td>-0.543304</td>\n",
              "      <td>-0.679571</td>\n",
              "      <td>-0.698142</td>\n",
              "      <td>-0.680635</td>\n",
              "      <td>-0.104812</td>\n",
              "      <td>-0.794889</td>\n",
              "      <td>-0.591309</td>\n",
              "      <td>...</td>\n",
              "      <td>-0.930028</td>\n",
              "      <td>1.000000</td>\n",
              "      <td>-0.951100</td>\n",
              "      <td>-0.804579</td>\n",
              "      <td>0.198690</td>\n",
              "      <td>-0.198690</td>\n",
              "      <td>0.241851</td>\n",
              "      <td>-0.241851</td>\n",
              "      <td>-0.045787</td>\n",
              "      <td>0.045787</td>\n",
              "    </tr>\n",
              "    <tr>\n",
              "      <th>highway-L/100km</th>\n",
              "      <td>0.801118</td>\n",
              "      <td>-0.029807</td>\n",
              "      <td>0.181189</td>\n",
              "      <td>0.577576</td>\n",
              "      <td>0.783465</td>\n",
              "      <td>0.707108</td>\n",
              "      <td>0.736728</td>\n",
              "      <td>0.084301</td>\n",
              "      <td>0.836921</td>\n",
              "      <td>0.559112</td>\n",
              "      <td>...</td>\n",
              "      <td>0.958306</td>\n",
              "      <td>-0.951100</td>\n",
              "      <td>1.000000</td>\n",
              "      <td>0.840627</td>\n",
              "      <td>-0.158091</td>\n",
              "      <td>0.158091</td>\n",
              "      <td>-0.210720</td>\n",
              "      <td>0.210720</td>\n",
              "      <td>0.026788</td>\n",
              "      <td>-0.026788</td>\n",
              "    </tr>\n",
              "    <tr>\n",
              "      <th>horsepower</th>\n",
              "      <td>0.809607</td>\n",
              "      <td>0.075810</td>\n",
              "      <td>0.217300</td>\n",
              "      <td>0.371178</td>\n",
              "      <td>0.822668</td>\n",
              "      <td>0.579795</td>\n",
              "      <td>0.615056</td>\n",
              "      <td>-0.087001</td>\n",
              "      <td>0.757981</td>\n",
              "      <td>0.566903</td>\n",
              "      <td>...</td>\n",
              "      <td>0.889482</td>\n",
              "      <td>-0.804579</td>\n",
              "      <td>0.840627</td>\n",
              "      <td>1.000000</td>\n",
              "      <td>-0.169030</td>\n",
              "      <td>0.169030</td>\n",
              "      <td>-0.251159</td>\n",
              "      <td>0.251159</td>\n",
              "      <td>-0.102879</td>\n",
              "      <td>0.102879</td>\n",
              "    </tr>\n",
              "    <tr>\n",
              "      <th>fuel-type-diesel</th>\n",
              "      <td>0.110326</td>\n",
              "      <td>-0.196735</td>\n",
              "      <td>-0.101546</td>\n",
              "      <td>0.307237</td>\n",
              "      <td>0.070779</td>\n",
              "      <td>0.211187</td>\n",
              "      <td>0.244356</td>\n",
              "      <td>0.281578</td>\n",
              "      <td>0.221046</td>\n",
              "      <td>0.054458</td>\n",
              "      <td>...</td>\n",
              "      <td>-0.241282</td>\n",
              "      <td>0.198690</td>\n",
              "      <td>-0.158091</td>\n",
              "      <td>-0.169030</td>\n",
              "      <td>1.000000</td>\n",
              "      <td>-1.000000</td>\n",
              "      <td>-0.408228</td>\n",
              "      <td>0.408228</td>\n",
              "      <td>0.186681</td>\n",
              "      <td>-0.186681</td>\n",
              "    </tr>\n",
              "    <tr>\n",
              "      <th>fuel-type-gas</th>\n",
              "      <td>-0.110326</td>\n",
              "      <td>0.196735</td>\n",
              "      <td>0.101546</td>\n",
              "      <td>-0.307237</td>\n",
              "      <td>-0.070779</td>\n",
              "      <td>-0.211187</td>\n",
              "      <td>-0.244356</td>\n",
              "      <td>-0.281578</td>\n",
              "      <td>-0.221046</td>\n",
              "      <td>-0.054458</td>\n",
              "      <td>...</td>\n",
              "      <td>0.241282</td>\n",
              "      <td>-0.198690</td>\n",
              "      <td>0.158091</td>\n",
              "      <td>0.169030</td>\n",
              "      <td>-1.000000</td>\n",
              "      <td>1.000000</td>\n",
              "      <td>0.408228</td>\n",
              "      <td>-0.408228</td>\n",
              "      <td>-0.186681</td>\n",
              "      <td>0.186681</td>\n",
              "    </tr>\n",
              "    <tr>\n",
              "      <th>aspiration-std</th>\n",
              "      <td>-0.179578</td>\n",
              "      <td>0.054615</td>\n",
              "      <td>0.006911</td>\n",
              "      <td>-0.256889</td>\n",
              "      <td>-0.110040</td>\n",
              "      <td>-0.230085</td>\n",
              "      <td>-0.305732</td>\n",
              "      <td>-0.090336</td>\n",
              "      <td>-0.321955</td>\n",
              "      <td>-0.227816</td>\n",
              "      <td>...</td>\n",
              "      <td>-0.157578</td>\n",
              "      <td>0.241851</td>\n",
              "      <td>-0.210720</td>\n",
              "      <td>-0.251159</td>\n",
              "      <td>-0.408228</td>\n",
              "      <td>0.408228</td>\n",
              "      <td>1.000000</td>\n",
              "      <td>-1.000000</td>\n",
              "      <td>-0.063017</td>\n",
              "      <td>0.063017</td>\n",
              "    </tr>\n",
              "    <tr>\n",
              "      <th>aspiration-turbo</th>\n",
              "      <td>0.179578</td>\n",
              "      <td>-0.054615</td>\n",
              "      <td>-0.006911</td>\n",
              "      <td>0.256889</td>\n",
              "      <td>0.110040</td>\n",
              "      <td>0.230085</td>\n",
              "      <td>0.305732</td>\n",
              "      <td>0.090336</td>\n",
              "      <td>0.321955</td>\n",
              "      <td>0.227816</td>\n",
              "      <td>...</td>\n",
              "      <td>0.157578</td>\n",
              "      <td>-0.241851</td>\n",
              "      <td>0.210720</td>\n",
              "      <td>0.251159</td>\n",
              "      <td>0.408228</td>\n",
              "      <td>-0.408228</td>\n",
              "      <td>-1.000000</td>\n",
              "      <td>1.000000</td>\n",
              "      <td>0.063017</td>\n",
              "      <td>-0.063017</td>\n",
              "    </tr>\n",
              "    <tr>\n",
              "      <th>4-doors</th>\n",
              "      <td>0.042435</td>\n",
              "      <td>-0.672344</td>\n",
              "      <td>-0.361368</td>\n",
              "      <td>0.445245</td>\n",
              "      <td>0.024094</td>\n",
              "      <td>0.395122</td>\n",
              "      <td>0.227655</td>\n",
              "      <td>0.538383</td>\n",
              "      <td>0.208517</td>\n",
              "      <td>0.119222</td>\n",
              "      <td>...</td>\n",
              "      <td>-0.018783</td>\n",
              "      <td>-0.045787</td>\n",
              "      <td>0.026788</td>\n",
              "      <td>-0.102879</td>\n",
              "      <td>0.186681</td>\n",
              "      <td>-0.186681</td>\n",
              "      <td>-0.063017</td>\n",
              "      <td>0.063017</td>\n",
              "      <td>1.000000</td>\n",
              "      <td>-1.000000</td>\n",
              "    </tr>\n",
              "    <tr>\n",
              "      <th>2-doors</th>\n",
              "      <td>-0.042435</td>\n",
              "      <td>0.672344</td>\n",
              "      <td>0.361368</td>\n",
              "      <td>-0.445245</td>\n",
              "      <td>-0.024094</td>\n",
              "      <td>-0.395122</td>\n",
              "      <td>-0.227655</td>\n",
              "      <td>-0.538383</td>\n",
              "      <td>-0.208517</td>\n",
              "      <td>-0.119222</td>\n",
              "      <td>...</td>\n",
              "      <td>0.018783</td>\n",
              "      <td>0.045787</td>\n",
              "      <td>-0.026788</td>\n",
              "      <td>0.102879</td>\n",
              "      <td>-0.186681</td>\n",
              "      <td>0.186681</td>\n",
              "      <td>0.063017</td>\n",
              "      <td>-0.063017</td>\n",
              "      <td>-1.000000</td>\n",
              "      <td>1.000000</td>\n",
              "    </tr>\n",
              "  </tbody>\n",
              "</table>\n",
              "<p>24 rows × 24 columns</p>\n",
              "</div>\n",
              "      <button class=\"colab-df-convert\" onclick=\"convertToInteractive('df-7c746e00-7401-4490-b92b-4b8b7a9eb36d')\"\n",
              "              title=\"Convert this dataframe to an interactive table.\"\n",
              "              style=\"display:none;\">\n",
              "        \n",
              "  <svg xmlns=\"http://www.w3.org/2000/svg\" height=\"24px\"viewBox=\"0 0 24 24\"\n",
              "       width=\"24px\">\n",
              "    <path d=\"M0 0h24v24H0V0z\" fill=\"none\"/>\n",
              "    <path d=\"M18.56 5.44l.94 2.06.94-2.06 2.06-.94-2.06-.94-.94-2.06-.94 2.06-2.06.94zm-11 1L8.5 8.5l.94-2.06 2.06-.94-2.06-.94L8.5 2.5l-.94 2.06-2.06.94zm10 10l.94 2.06.94-2.06 2.06-.94-2.06-.94-.94-2.06-.94 2.06-2.06.94z\"/><path d=\"M17.41 7.96l-1.37-1.37c-.4-.4-.92-.59-1.43-.59-.52 0-1.04.2-1.43.59L10.3 9.45l-7.72 7.72c-.78.78-.78 2.05 0 2.83L4 21.41c.39.39.9.59 1.41.59.51 0 1.02-.2 1.41-.59l7.78-7.78 2.81-2.81c.8-.78.8-2.07 0-2.86zM5.41 20L4 18.59l7.72-7.72 1.47 1.35L5.41 20z\"/>\n",
              "  </svg>\n",
              "      </button>\n",
              "      \n",
              "  <style>\n",
              "    .colab-df-container {\n",
              "      display:flex;\n",
              "      flex-wrap:wrap;\n",
              "      gap: 12px;\n",
              "    }\n",
              "\n",
              "    .colab-df-convert {\n",
              "      background-color: #E8F0FE;\n",
              "      border: none;\n",
              "      border-radius: 50%;\n",
              "      cursor: pointer;\n",
              "      display: none;\n",
              "      fill: #1967D2;\n",
              "      height: 32px;\n",
              "      padding: 0 0 0 0;\n",
              "      width: 32px;\n",
              "    }\n",
              "\n",
              "    .colab-df-convert:hover {\n",
              "      background-color: #E2EBFA;\n",
              "      box-shadow: 0px 1px 2px rgba(60, 64, 67, 0.3), 0px 1px 3px 1px rgba(60, 64, 67, 0.15);\n",
              "      fill: #174EA6;\n",
              "    }\n",
              "\n",
              "    [theme=dark] .colab-df-convert {\n",
              "      background-color: #3B4455;\n",
              "      fill: #D2E3FC;\n",
              "    }\n",
              "\n",
              "    [theme=dark] .colab-df-convert:hover {\n",
              "      background-color: #434B5C;\n",
              "      box-shadow: 0px 1px 3px 1px rgba(0, 0, 0, 0.15);\n",
              "      filter: drop-shadow(0px 1px 2px rgba(0, 0, 0, 0.3));\n",
              "      fill: #FFFFFF;\n",
              "    }\n",
              "  </style>\n",
              "\n",
              "      <script>\n",
              "        const buttonEl =\n",
              "          document.querySelector('#df-7c746e00-7401-4490-b92b-4b8b7a9eb36d button.colab-df-convert');\n",
              "        buttonEl.style.display =\n",
              "          google.colab.kernel.accessAllowed ? 'block' : 'none';\n",
              "\n",
              "        async function convertToInteractive(key) {\n",
              "          const element = document.querySelector('#df-7c746e00-7401-4490-b92b-4b8b7a9eb36d');\n",
              "          const dataTable =\n",
              "            await google.colab.kernel.invokeFunction('convertToInteractive',\n",
              "                                                     [key], {});\n",
              "          if (!dataTable) return;\n",
              "\n",
              "          const docLinkHtml = 'Like what you see? Visit the ' +\n",
              "            '<a target=\"_blank\" href=https://colab.research.google.com/notebooks/data_table.ipynb>data table notebook</a>'\n",
              "            + ' to learn more about interactive tables.';\n",
              "          element.innerHTML = '';\n",
              "          dataTable['output_type'] = 'display_data';\n",
              "          await google.colab.output.renderOutput(dataTable, element);\n",
              "          const docLink = document.createElement('div');\n",
              "          docLink.innerHTML = docLinkHtml;\n",
              "          element.appendChild(docLink);\n",
              "        }\n",
              "      </script>\n",
              "    </div>\n",
              "  </div>\n",
              "  "
            ]
          },
          "metadata": {},
          "execution_count": 39
        }
      ]
    },
    {
      "cell_type": "markdown",
      "source": [
        "###4.1 Filtering For Top Correlations"
      ],
      "metadata": {
        "id": "6VjYd-Vgybs1"
      }
    },
    {
      "cell_type": "code",
      "source": [
        "# Loop over bottom diagonal of correlation matrix\n",
        "for i in range(len(corr_matrix.columns)):\n",
        "    for j in range(i):\n",
        "\n",
        "        # Print variables with high correlation (define your treshould)\n",
        "        if abs(corr_matrix.iloc[i, j]) > abs(0.75):\n",
        "            print(corr_matrix.columns[i], corr_matrix.columns[j], corr_matrix.iloc[i, j])"
      ],
      "metadata": {
        "colab": {
          "base_uri": "https://localhost:8080/"
        },
        "id": "7ZU5e8P6vsXf",
        "outputId": "d1843876-98aa-4686-dc2c-ce0a17f798ba"
      },
      "execution_count": 66,
      "outputs": [
        {
          "output_type": "stream",
          "name": "stdout",
          "text": [
            "engine-size price 0.8723351674455182\n",
            "normalized-length wheel-base 0.8760238919618003\n",
            "normalized-width price 0.7512653440522677\n",
            "normalized-width wheel-base 0.8145066522681036\n",
            "normalized-width normalized-length 0.8571703218913007\n",
            "curb-weight price 0.8344145257702849\n",
            "curb-weight wheel-base 0.782097244415664\n",
            "curb-weight engine-size 0.849071660641531\n",
            "curb-weight normalized-length 0.8806647862654422\n",
            "curb-weight normalized-width 0.8662010980938419\n",
            "city-L/100km price 0.7898975136626949\n",
            "city-L/100km curb-weight 0.7853533294476132\n",
            "city-L/100km city-mpg -0.9497129106167611\n",
            "highway-mpg curb-weight -0.7948889423035673\n",
            "highway-mpg city-mpg 0.9720437058960102\n",
            "highway-mpg city-L/100km -0.9300278818761628\n",
            "highway-L/100km price 0.8011176263981975\n",
            "highway-L/100km engine-size 0.783464520862827\n",
            "highway-L/100km curb-weight 0.8369206502056042\n",
            "highway-L/100km city-mpg -0.9090237549298256\n",
            "highway-L/100km city-L/100km 0.9583056447789671\n",
            "highway-L/100km highway-mpg -0.9511004402179783\n",
            "horsepower price 0.8096068016571054\n",
            "horsepower engine-size 0.8226682831048986\n",
            "horsepower curb-weight 0.7579814112361546\n",
            "horsepower city-mpg -0.8221921597112853\n",
            "horsepower city-L/100km 0.8894820507917939\n",
            "horsepower highway-mpg -0.8045790029179014\n",
            "horsepower highway-L/100km 0.8406266691466182\n",
            "fuel-type-diesel compression-ratio 0.9852311290083917\n",
            "fuel-type-gas compression-ratio -0.9852311290083914\n",
            "fuel-type-gas fuel-type-diesel -1.0\n",
            "aspiration-turbo aspiration-std -0.9999999999999999\n",
            "2-doors 4-doors -1.0\n"
          ]
        }
      ]
    },
    {
      "cell_type": "markdown",
      "source": [
        "###4.2 Identification Of Top Correlations With Target Variable \"price\" Using Visualization"
      ],
      "metadata": {
        "id": "-hFmTC22wvz9"
      }
    },
    {
      "cell_type": "code",
      "source": [
        "# Isolate the column corresponding to \"price\"\n",
        "corr_target = corr_matrix[['price']].drop(labels=['price'])\n",
        "corr_target"
      ],
      "metadata": {
        "colab": {
          "base_uri": "https://localhost:8080/",
          "height": 771
        },
        "id": "XeNueAfNxDAh",
        "outputId": "3f000305-fe3c-4359-8350-910c88f8057d"
      },
      "execution_count": 79,
      "outputs": [
        {
          "output_type": "execute_result",
          "data": {
            "text/plain": [
              "                      price\n",
              "symboling         -0.082391\n",
              "normalized-losses  0.133999\n",
              "wheel-base         0.584642\n",
              "engine-size        0.872335\n",
              "normalized-length  0.690628\n",
              "normalized-width   0.751265\n",
              "normalized-height  0.135486\n",
              "curb-weight        0.834415\n",
              "bore               0.543155\n",
              "stroke             0.082310\n",
              "compression-ratio  0.071107\n",
              "peak-rpm          -0.101616\n",
              "city-mpg          -0.686571\n",
              "city-L/100km       0.789898\n",
              "highway-mpg       -0.704692\n",
              "highway-L/100km    0.801118\n",
              "horsepower         0.809607\n",
              "fuel-type-diesel   0.110326\n",
              "fuel-type-gas     -0.110326\n",
              "aspiration-std    -0.179578\n",
              "aspiration-turbo   0.179578\n",
              "4-doors            0.042435\n",
              "2-doors           -0.042435"
            ],
            "text/html": [
              "\n",
              "  <div id=\"df-79cf60ca-92af-412e-90e0-7b89784050cb\">\n",
              "    <div class=\"colab-df-container\">\n",
              "      <div>\n",
              "<style scoped>\n",
              "    .dataframe tbody tr th:only-of-type {\n",
              "        vertical-align: middle;\n",
              "    }\n",
              "\n",
              "    .dataframe tbody tr th {\n",
              "        vertical-align: top;\n",
              "    }\n",
              "\n",
              "    .dataframe thead th {\n",
              "        text-align: right;\n",
              "    }\n",
              "</style>\n",
              "<table border=\"1\" class=\"dataframe\">\n",
              "  <thead>\n",
              "    <tr style=\"text-align: right;\">\n",
              "      <th></th>\n",
              "      <th>price</th>\n",
              "    </tr>\n",
              "  </thead>\n",
              "  <tbody>\n",
              "    <tr>\n",
              "      <th>symboling</th>\n",
              "      <td>-0.082391</td>\n",
              "    </tr>\n",
              "    <tr>\n",
              "      <th>normalized-losses</th>\n",
              "      <td>0.133999</td>\n",
              "    </tr>\n",
              "    <tr>\n",
              "      <th>wheel-base</th>\n",
              "      <td>0.584642</td>\n",
              "    </tr>\n",
              "    <tr>\n",
              "      <th>engine-size</th>\n",
              "      <td>0.872335</td>\n",
              "    </tr>\n",
              "    <tr>\n",
              "      <th>normalized-length</th>\n",
              "      <td>0.690628</td>\n",
              "    </tr>\n",
              "    <tr>\n",
              "      <th>normalized-width</th>\n",
              "      <td>0.751265</td>\n",
              "    </tr>\n",
              "    <tr>\n",
              "      <th>normalized-height</th>\n",
              "      <td>0.135486</td>\n",
              "    </tr>\n",
              "    <tr>\n",
              "      <th>curb-weight</th>\n",
              "      <td>0.834415</td>\n",
              "    </tr>\n",
              "    <tr>\n",
              "      <th>bore</th>\n",
              "      <td>0.543155</td>\n",
              "    </tr>\n",
              "    <tr>\n",
              "      <th>stroke</th>\n",
              "      <td>0.082310</td>\n",
              "    </tr>\n",
              "    <tr>\n",
              "      <th>compression-ratio</th>\n",
              "      <td>0.071107</td>\n",
              "    </tr>\n",
              "    <tr>\n",
              "      <th>peak-rpm</th>\n",
              "      <td>-0.101616</td>\n",
              "    </tr>\n",
              "    <tr>\n",
              "      <th>city-mpg</th>\n",
              "      <td>-0.686571</td>\n",
              "    </tr>\n",
              "    <tr>\n",
              "      <th>city-L/100km</th>\n",
              "      <td>0.789898</td>\n",
              "    </tr>\n",
              "    <tr>\n",
              "      <th>highway-mpg</th>\n",
              "      <td>-0.704692</td>\n",
              "    </tr>\n",
              "    <tr>\n",
              "      <th>highway-L/100km</th>\n",
              "      <td>0.801118</td>\n",
              "    </tr>\n",
              "    <tr>\n",
              "      <th>horsepower</th>\n",
              "      <td>0.809607</td>\n",
              "    </tr>\n",
              "    <tr>\n",
              "      <th>fuel-type-diesel</th>\n",
              "      <td>0.110326</td>\n",
              "    </tr>\n",
              "    <tr>\n",
              "      <th>fuel-type-gas</th>\n",
              "      <td>-0.110326</td>\n",
              "    </tr>\n",
              "    <tr>\n",
              "      <th>aspiration-std</th>\n",
              "      <td>-0.179578</td>\n",
              "    </tr>\n",
              "    <tr>\n",
              "      <th>aspiration-turbo</th>\n",
              "      <td>0.179578</td>\n",
              "    </tr>\n",
              "    <tr>\n",
              "      <th>4-doors</th>\n",
              "      <td>0.042435</td>\n",
              "    </tr>\n",
              "    <tr>\n",
              "      <th>2-doors</th>\n",
              "      <td>-0.042435</td>\n",
              "    </tr>\n",
              "  </tbody>\n",
              "</table>\n",
              "</div>\n",
              "      <button class=\"colab-df-convert\" onclick=\"convertToInteractive('df-79cf60ca-92af-412e-90e0-7b89784050cb')\"\n",
              "              title=\"Convert this dataframe to an interactive table.\"\n",
              "              style=\"display:none;\">\n",
              "        \n",
              "  <svg xmlns=\"http://www.w3.org/2000/svg\" height=\"24px\"viewBox=\"0 0 24 24\"\n",
              "       width=\"24px\">\n",
              "    <path d=\"M0 0h24v24H0V0z\" fill=\"none\"/>\n",
              "    <path d=\"M18.56 5.44l.94 2.06.94-2.06 2.06-.94-2.06-.94-.94-2.06-.94 2.06-2.06.94zm-11 1L8.5 8.5l.94-2.06 2.06-.94-2.06-.94L8.5 2.5l-.94 2.06-2.06.94zm10 10l.94 2.06.94-2.06 2.06-.94-2.06-.94-.94-2.06-.94 2.06-2.06.94z\"/><path d=\"M17.41 7.96l-1.37-1.37c-.4-.4-.92-.59-1.43-.59-.52 0-1.04.2-1.43.59L10.3 9.45l-7.72 7.72c-.78.78-.78 2.05 0 2.83L4 21.41c.39.39.9.59 1.41.59.51 0 1.02-.2 1.41-.59l7.78-7.78 2.81-2.81c.8-.78.8-2.07 0-2.86zM5.41 20L4 18.59l7.72-7.72 1.47 1.35L5.41 20z\"/>\n",
              "  </svg>\n",
              "      </button>\n",
              "      \n",
              "  <style>\n",
              "    .colab-df-container {\n",
              "      display:flex;\n",
              "      flex-wrap:wrap;\n",
              "      gap: 12px;\n",
              "    }\n",
              "\n",
              "    .colab-df-convert {\n",
              "      background-color: #E8F0FE;\n",
              "      border: none;\n",
              "      border-radius: 50%;\n",
              "      cursor: pointer;\n",
              "      display: none;\n",
              "      fill: #1967D2;\n",
              "      height: 32px;\n",
              "      padding: 0 0 0 0;\n",
              "      width: 32px;\n",
              "    }\n",
              "\n",
              "    .colab-df-convert:hover {\n",
              "      background-color: #E2EBFA;\n",
              "      box-shadow: 0px 1px 2px rgba(60, 64, 67, 0.3), 0px 1px 3px 1px rgba(60, 64, 67, 0.15);\n",
              "      fill: #174EA6;\n",
              "    }\n",
              "\n",
              "    [theme=dark] .colab-df-convert {\n",
              "      background-color: #3B4455;\n",
              "      fill: #D2E3FC;\n",
              "    }\n",
              "\n",
              "    [theme=dark] .colab-df-convert:hover {\n",
              "      background-color: #434B5C;\n",
              "      box-shadow: 0px 1px 3px 1px rgba(0, 0, 0, 0.15);\n",
              "      filter: drop-shadow(0px 1px 2px rgba(0, 0, 0, 0.3));\n",
              "      fill: #FFFFFF;\n",
              "    }\n",
              "  </style>\n",
              "\n",
              "      <script>\n",
              "        const buttonEl =\n",
              "          document.querySelector('#df-79cf60ca-92af-412e-90e0-7b89784050cb button.colab-df-convert');\n",
              "        buttonEl.style.display =\n",
              "          google.colab.kernel.accessAllowed ? 'block' : 'none';\n",
              "\n",
              "        async function convertToInteractive(key) {\n",
              "          const element = document.querySelector('#df-79cf60ca-92af-412e-90e0-7b89784050cb');\n",
              "          const dataTable =\n",
              "            await google.colab.kernel.invokeFunction('convertToInteractive',\n",
              "                                                     [key], {});\n",
              "          if (!dataTable) return;\n",
              "\n",
              "          const docLinkHtml = 'Like what you see? Visit the ' +\n",
              "            '<a target=\"_blank\" href=https://colab.research.google.com/notebooks/data_table.ipynb>data table notebook</a>'\n",
              "            + ' to learn more about interactive tables.';\n",
              "          element.innerHTML = '';\n",
              "          dataTable['output_type'] = 'display_data';\n",
              "          await google.colab.output.renderOutput(dataTable, element);\n",
              "          const docLink = document.createElement('div');\n",
              "          docLink.innerHTML = docLinkHtml;\n",
              "          element.appendChild(docLink);\n",
              "        }\n",
              "      </script>\n",
              "    </div>\n",
              "  </div>\n",
              "  "
            ]
          },
          "metadata": {},
          "execution_count": 79
        }
      ]
    },
    {
      "cell_type": "code",
      "source": [
        "# Plot result as heatmap\n",
        "plt.figure(figsize=(3,10))\n",
        "sns.heatmap(corr_target, annot=True, fmt='.3', cmap='plasma')\n",
        "plt.title('Heatmap of automobile feature correlations with target feature \"price\"', size=14, y=1.5)\n",
        "plt.show()"
      ],
      "metadata": {
        "colab": {
          "base_uri": "https://localhost:8080/",
          "height": 609
        },
        "id": "GaVU5z0x1FJ8",
        "outputId": "64f06b6a-6ef6-4584-fc25-84c5fda8ced3"
      },
      "execution_count": 86,
      "outputs": [
        {
          "output_type": "display_data",
          "data": {
            "text/plain": [
              "<Figure size 216x720 with 2 Axes>"
            ],
            "image/png": "[encoded data removed]"
          },
          "metadata": {
            "needs_background": "light"
          }
        }
      ]
    },
    {
      "cell_type": "markdown",
      "source": [
        "Analysing the Heatmap, we can identify 9 features with the highest correlation to our target feature \"price\":\n",
        "\n",
        "*   Wheel base\n",
        "*   Normalized Length\n",
        "*   Normalized Width\n",
        "*   Engine size\n",
        "*   Curb weight\n",
        "*   Bore\n",
        "*   City L/100km (or City mpg)\n",
        "*   Highway L/100km (or Highway mpg)\n",
        "*   Horsepower"
      ],
      "metadata": {
        "id": "kDirLSXksj3v"
      }
    },
    {
      "cell_type": "markdown",
      "source": [
        "Check for linear relationship of the 9 top features:"
      ],
      "metadata": {
        "id": "M9ghyt9N3_q7"
      }
    },
    {
      "cell_type": "code",
      "source": [
        "# Check regression line of the potential predictor variables of price\n",
        "sns.regplot(x=\"wheel-base\", y=\"price\", data=df)\n",
        "plt.ylim(0,)"
      ],
      "metadata": {
        "colab": {
          "base_uri": "https://localhost:8080/",
          "height": 296
        },
        "id": "YvW9E6eKyByQ",
        "outputId": "23077840-46e6-4b2e-82da-f2824646c351"
      },
      "execution_count": 43,
      "outputs": [
        {
          "output_type": "execute_result",
          "data": {
            "text/plain": [
              "(0.0, 47607.839357181554)"
            ]
          },
          "metadata": {},
          "execution_count": 43
        },
        {
          "output_type": "display_data",
          "data": {
            "text/plain": [
              "<Figure size 432x288 with 1 Axes>"
            ],
            "image/png": "[encoded data removed]"
          },
          "metadata": {
            "needs_background": "light"
          }
        }
      ]
    },
    {
      "cell_type": "code",
      "source": [
        "# Check regression line of the potential predictor variables of price\n",
        "sns.regplot(x=\"normalized-length\", y=\"price\", data=df)\n",
        "plt.ylim(0,)"
      ],
      "metadata": {
        "colab": {
          "base_uri": "https://localhost:8080/",
          "height": 296
        },
        "id": "iIOArGzEyCTP",
        "outputId": "d98cc18d-be53-4c0e-80d6-e5013716bccc"
      },
      "execution_count": 44,
      "outputs": [
        {
          "output_type": "execute_result",
          "data": {
            "text/plain": [
              "(0.0, 47858.220505916084)"
            ]
          },
          "metadata": {},
          "execution_count": 44
        },
        {
          "output_type": "display_data",
          "data": {
            "text/plain": [
              "<Figure size 432x288 with 1 Axes>"
            ],
            "image/png": "[encoded data removed]"
          },
          "metadata": {
            "needs_background": "light"
          }
        }
      ]
    },
    {
      "cell_type": "code",
      "source": [
        "# Check regression line of the potential predictor variables of price\n",
        "sns.regplot(x=\"normalized-width\", y=\"price\", data=df)\n",
        "plt.ylim(0,)"
      ],
      "metadata": {
        "colab": {
          "base_uri": "https://localhost:8080/",
          "height": 296
        },
        "id": "fEK8-4XGyCcr",
        "outputId": "efb4ee6b-142e-40db-c1d9-ae6f68f303cb"
      },
      "execution_count": 45,
      "outputs": [
        {
          "output_type": "execute_result",
          "data": {
            "text/plain": [
              "(0.0, 47920.40422536501)"
            ]
          },
          "metadata": {},
          "execution_count": 45
        },
        {
          "output_type": "display_data",
          "data": {
            "text/plain": [
              "<Figure size 432x288 with 1 Axes>"
            ],
            "image/png": "[encoded data removed]"
          },
          "metadata": {
            "needs_background": "light"
          }
        }
      ]
    },
    {
      "cell_type": "code",
      "source": [
        "# Check regression line of the potential predictor variables of price\n",
        "sns.regplot(x=\"engine-size\", y=\"price\", data=df)\n",
        "plt.ylim(0,)"
      ],
      "metadata": {
        "colab": {
          "base_uri": "https://localhost:8080/",
          "height": 296
        },
        "id": "LjzaSSo22hvy",
        "outputId": "dbc9487e-e21e-4b65-c4a2-839697949dfc"
      },
      "execution_count": 46,
      "outputs": [
        {
          "output_type": "execute_result",
          "data": {
            "text/plain": [
              "(0.0, 53332.01054083661)"
            ]
          },
          "metadata": {},
          "execution_count": 46
        },
        {
          "output_type": "display_data",
          "data": {
            "text/plain": [
              "<Figure size 432x288 with 1 Axes>"
            ],
            "image/png": "[encoded data removed]"
          },
          "metadata": {
            "needs_background": "light"
          }
        }
      ]
    },
    {
      "cell_type": "code",
      "source": [
        "# Check regression line of the potential predictor variables of price\n",
        "sns.regplot(x=\"curb-weight\", y=\"price\", data=df)\n",
        "plt.ylim(0,)"
      ],
      "metadata": {
        "colab": {
          "base_uri": "https://localhost:8080/",
          "height": 296
        },
        "id": "l1838j3K2rB4",
        "outputId": "f30d0970-45dd-4610-9165-d6c060dc2c1b"
      },
      "execution_count": 47,
      "outputs": [
        {
          "output_type": "execute_result",
          "data": {
            "text/plain": [
              "(0.0, 47757.88963131601)"
            ]
          },
          "metadata": {},
          "execution_count": 47
        },
        {
          "output_type": "display_data",
          "data": {
            "text/plain": [
              "<Figure size 432x288 with 1 Axes>"
            ],
            "image/png": "[encoded data removed]"
          },
          "metadata": {
            "needs_background": "light"
          }
        }
      ]
    },
    {
      "cell_type": "code",
      "source": [
        "# Check regression line of the potential predictor variables of price\n",
        "sns.regplot(x=\"bore\", y=\"price\", data=df)\n",
        "plt.ylim(0,)"
      ],
      "metadata": {
        "colab": {
          "base_uri": "https://localhost:8080/",
          "height": 296
        },
        "id": "rZbxNSj8yUUn",
        "outputId": "971a55ec-5e3e-447a-9bde-7f07b1497446"
      },
      "execution_count": 48,
      "outputs": [
        {
          "output_type": "execute_result",
          "data": {
            "text/plain": [
              "(0.0, 47794.58438089136)"
            ]
          },
          "metadata": {},
          "execution_count": 48
        },
        {
          "output_type": "display_data",
          "data": {
            "text/plain": [
              "<Figure size 432x288 with 1 Axes>"
            ],
            "image/png": "[encoded data removed]"
          },
          "metadata": {
            "needs_background": "light"
          }
        }
      ]
    },
    {
      "cell_type": "code",
      "source": [
        "# Check regression line of the potential predictor variables of price\n",
        "sns.regplot(x=\"city-L/100km\", y=\"price\", data=df)\n",
        "plt.ylim(0,)"
      ],
      "metadata": {
        "colab": {
          "base_uri": "https://localhost:8080/",
          "height": 296
        },
        "id": "bQY2Dhid2rKy",
        "outputId": "ab08d106-2a86-4bfb-cbb6-5d4dd9e1f736"
      },
      "execution_count": 49,
      "outputs": [
        {
          "output_type": "execute_result",
          "data": {
            "text/plain": [
              "(0.0, 47722.22456774451)"
            ]
          },
          "metadata": {},
          "execution_count": 49
        },
        {
          "output_type": "display_data",
          "data": {
            "text/plain": [
              "<Figure size 432x288 with 1 Axes>"
            ],
            "image/png": "[encoded data removed]"
          },
          "metadata": {
            "needs_background": "light"
          }
        }
      ]
    },
    {
      "cell_type": "code",
      "source": [
        "# Check regression line of the potential predictor variables of price\n",
        "sns.regplot(x=\"highway-L/100km\", y=\"price\", data=df)\n",
        "plt.ylim(0,)"
      ],
      "metadata": {
        "colab": {
          "base_uri": "https://localhost:8080/",
          "height": 296
        },
        "id": "JvG7hx6G2rS0",
        "outputId": "20757924-970f-4e94-fec9-3ddf30a4a095"
      },
      "execution_count": 50,
      "outputs": [
        {
          "output_type": "execute_result",
          "data": {
            "text/plain": [
              "(0.0, 47710.65691094286)"
            ]
          },
          "metadata": {},
          "execution_count": 50
        },
        {
          "output_type": "display_data",
          "data": {
            "text/plain": [
              "<Figure size 432x288 with 1 Axes>"
            ],
            "image/png": "[encoded data removed]"
          },
          "metadata": {
            "needs_background": "light"
          }
        }
      ]
    },
    {
      "cell_type": "code",
      "source": [
        "# Check regression line of the potential predictor variables of price\n",
        "sns.regplot(x=\"horsepower\", y=\"price\", data=df)\n",
        "plt.ylim(0,)"
      ],
      "metadata": {
        "colab": {
          "base_uri": "https://localhost:8080/",
          "height": 296
        },
        "id": "Oza_STTw2reM",
        "outputId": "391f23b3-07a0-4261-b3f5-95f0b83b3374"
      },
      "execution_count": 51,
      "outputs": [
        {
          "output_type": "execute_result",
          "data": {
            "text/plain": [
              "(0.0, 47535.94883050766)"
            ]
          },
          "metadata": {},
          "execution_count": 51
        },
        {
          "output_type": "display_data",
          "data": {
            "text/plain": [
              "<Figure size 432x288 with 1 Axes>"
            ],
            "image/png": "[encoded data removed]"
          },
          "metadata": {
            "needs_background": "light"
          }
        }
      ]
    },
    {
      "cell_type": "markdown",
      "source": [
        "All of the identified features seem to have a positive linear relationship with the target \"price\". The regression line for engine size and horsepower is almost a perfect diagonal."
      ],
      "metadata": {
        "id": "RRqBrrER410z"
      }
    },
    {
      "cell_type": "markdown",
      "source": [
        "**P-Value**"
      ],
      "metadata": {
        "id": "qfh2M2UiHAUN"
      }
    },
    {
      "cell_type": "markdown",
      "source": [
        "Let´s also check the P-value, which indicates is the probability value that the correlation between these two variables is statistically significant.\n",
        "Normally, we choose a significance level of 0.05, which means that we are 95% confident that the correlation between the variables is significant.\n",
        "By convention, when the\n",
        "\n",
        "<ul>\n",
        "    <li>p-value is < 0.001: we say there is strong evidence that the correlation is significant.</li>\n",
        "    <li>the p-value is < 0.05: there is moderate evidence that the correlation is significant.</li>\n",
        "    <li>the p-value is < 0.1: there is weak evidence that the correlation is significant.</li>\n",
        "    <li>the p-value is > 0.1: there is no evidence that the correlation is significant.</li>\n",
        "</ul>"
      ],
      "metadata": {
        "id": "4Qtm4Rm0n95N"
      }
    },
    {
      "cell_type": "code",
      "source": [
        "# Determining the P-Value\n",
        "\n",
        "from scipy import stats\n",
        "pearson_coef, p_value = stats.pearsonr(df['wheel-base'], df['price'])\n",
        "print(\"The Pearson Correlation Coefficient for wheel-base vs price is\", pearson_coef, \"\\nwith a P-value of P =\", p_value)  "
      ],
      "metadata": {
        "colab": {
          "base_uri": "https://localhost:8080/"
        },
        "id": "otJaZG0az8wa",
        "outputId": "7f135dd0-efaa-4bc8-bb9e-4fdad2c9ec27"
      },
      "execution_count": 52,
      "outputs": [
        {
          "output_type": "stream",
          "name": "stdout",
          "text": [
            "The Pearson Correlation Coefficient for wheel-base vs price is 0.584641822265508 \n",
            "with a P-value of P = 8.076488270733218e-20\n"
          ]
        }
      ]
    },
    {
      "cell_type": "code",
      "source": [
        "pearson_coef, p_value = stats.pearsonr(df['normalized-length'], df['price'])\n",
        "print(\"The Pearson Correlation Coefficient for normalized-length vs price  is\", pearson_coef, \"\\nwith a P-value of P =\", p_value) "
      ],
      "metadata": {
        "colab": {
          "base_uri": "https://localhost:8080/"
        },
        "id": "zvc4mwqz0Ah8",
        "outputId": "334bfa49-941b-4d94-ac6e-0343c9af2e49"
      },
      "execution_count": 53,
      "outputs": [
        {
          "output_type": "stream",
          "name": "stdout",
          "text": [
            "The Pearson Correlation Coefficient for normalized-length vs price  is 0.6906283804483639 \n",
            "with a P-value of P = 8.016477466159328e-30\n"
          ]
        }
      ]
    },
    {
      "cell_type": "code",
      "source": [
        "pearson_coef, p_value = stats.pearsonr(df['normalized-width'], df['price'])\n",
        "print(\"The Pearson Correlation Coefficient for normalized-width vs price is\", pearson_coef, \"\\nwith a P-value of P =\", p_value) "
      ],
      "metadata": {
        "colab": {
          "base_uri": "https://localhost:8080/"
        },
        "id": "7LgJgS3g0Kd0",
        "outputId": "284bc9ab-a9f0-4dce-bd74-7c7e374b3c09"
      },
      "execution_count": 54,
      "outputs": [
        {
          "output_type": "stream",
          "name": "stdout",
          "text": [
            "The Pearson Correlation Coefficient for normalized-width vs price is 0.7512653440522675 \n",
            "with a P-value of P = 9.200335510481123e-38\n"
          ]
        }
      ]
    },
    {
      "cell_type": "code",
      "source": [
        "pearson_coef, p_value = stats.pearsonr(df['engine-size'], df['price'])\n",
        "print(\"The Pearson Correlation Coefficient for engine-size vs price is\", pearson_coef, \"\\nwith a P-value of P =\", p_value)  "
      ],
      "metadata": {
        "colab": {
          "base_uri": "https://localhost:8080/"
        },
        "id": "7E5faDwfFf9X",
        "outputId": "1a6e9604-2eaa-494d-8b8f-82a9d1c6cd60"
      },
      "execution_count": 55,
      "outputs": [
        {
          "output_type": "stream",
          "name": "stdout",
          "text": [
            "The Pearson Correlation Coefficient for engine-size vs price is 0.8723351674455185 \n",
            "with a P-value of P = 9.265491622198389e-64\n"
          ]
        }
      ]
    },
    {
      "cell_type": "code",
      "source": [
        "pearson_coef, p_value = stats.pearsonr(df['curb-weight'], df['price'])\n",
        "print(\"The Pearson Correlation Coefficient for curb-weight vs price is\", pearson_coef, \"\\nwith a P-value of P =\", p_value)"
      ],
      "metadata": {
        "colab": {
          "base_uri": "https://localhost:8080/"
        },
        "id": "iDuMRYulHr6q",
        "outputId": "bf8600a8-f365-4ad1-ad82-36c3804427b3"
      },
      "execution_count": 56,
      "outputs": [
        {
          "output_type": "stream",
          "name": "stdout",
          "text": [
            "The Pearson Correlation Coefficient for curb-weight vs price is 0.8344145257702843 \n",
            "with a P-value of P = 2.189577238894065e-53\n"
          ]
        }
      ]
    },
    {
      "cell_type": "code",
      "source": [
        "earson_coef, p_value = stats.pearsonr(df['bore'], df['price'])\n",
        "print(\"The Pearson Correlation Coefficient for bore vs price is\", pearson_coef, \"\\nwith a P-value of P =\", p_value)"
      ],
      "metadata": {
        "colab": {
          "base_uri": "https://localhost:8080/"
        },
        "id": "QCtcjZnM0o_2",
        "outputId": "b97b2e15-ddb6-4e14-e97f-cc4198234115"
      },
      "execution_count": 57,
      "outputs": [
        {
          "output_type": "stream",
          "name": "stdout",
          "text": [
            "The Pearson Correlation Coefficient for bore vs price is 0.8344145257702843 \n",
            "with a P-value of P = 8.049189483935489e-17\n"
          ]
        }
      ]
    },
    {
      "cell_type": "code",
      "source": [
        "pearson_coef, p_value = stats.pearsonr(df['city-L/100km'], df['price'])\n",
        "print(\"The Pearson Correlation Coefficient for city-L/100km vs price is\", pearson_coef, \"\\nwith a P-value of P =\", p_value)  "
      ],
      "metadata": {
        "colab": {
          "base_uri": "https://localhost:8080/"
        },
        "id": "_kuWblhTHboS",
        "outputId": "b8348a80-6cf0-483c-9e54-75e5952a09e5"
      },
      "execution_count": 58,
      "outputs": [
        {
          "output_type": "stream",
          "name": "stdout",
          "text": [
            "The Pearson Correlation Coefficient for city-L/100km vs price is 0.7898975136626943 \n",
            "with a P-value of P = 3.903106400939802e-44\n"
          ]
        }
      ]
    },
    {
      "cell_type": "code",
      "source": [
        "pearson_coef, p_value = stats.pearsonr(df['highway-L/100km'], df['price'])\n",
        "print(\"The Pearson Correlation Coefficient for highway-L/100km vs price is\", pearson_coef, \"\\nwith a P-value of P =\", p_value)  "
      ],
      "metadata": {
        "colab": {
          "base_uri": "https://localhost:8080/"
        },
        "id": "QWt7x2bBHfZm",
        "outputId": "a420df1a-b773-4cd8-ba75-34c4ffc7498e"
      },
      "execution_count": 59,
      "outputs": [
        {
          "output_type": "stream",
          "name": "stdout",
          "text": [
            "The Pearson Correlation Coefficient for highway-L/100km vs price is 0.8011176263981973 \n",
            "with a P-value of P = 3.0467845810415427e-46\n"
          ]
        }
      ]
    },
    {
      "cell_type": "code",
      "source": [
        "pearson_coef, p_value = stats.pearsonr(df['horsepower'], df['price'])\n",
        "print(\"The Pearson Correlation Coefficient for horsepower vs price is\", pearson_coef, \"\\nwith a P-value of P =\", p_value)  "
      ],
      "metadata": {
        "colab": {
          "base_uri": "https://localhost:8080/"
        },
        "id": "_P2PseEqHffT",
        "outputId": "23580c91-1f86-46c2-d78f-cff76bfe1dbd"
      },
      "execution_count": 60,
      "outputs": [
        {
          "output_type": "stream",
          "name": "stdout",
          "text": [
            "The Pearson Correlation Coefficient for horsepower vs price is 0.8096068016571054 \n",
            "with a P-value of P = 6.273536270650504e-48\n"
          ]
        }
      ]
    },
    {
      "cell_type": "markdown",
      "source": [
        "Using the Pearson correlation coefficient and visualization techniques, we identified the strongest correlations with \"price\" and checked the linearity of their relationship. Since the p-value is < 0.001, these correlations are statistically significant."
      ],
      "metadata": {
        "id": "zSkpJh-CH2ox"
      }
    },
    {
      "cell_type": "markdown",
      "source": [
        "#Conclusion: Important Variables\n",
        "We now have a better idea of what our data looks like and which variables are important to take into account when predicting the car price. We have narrowed it down to the following variables:\n",
        "\n",
        "Continuous numerical variables:\n",
        "\n",
        "*   Engine-size\n",
        "*   Horsepower\n",
        "*   City-L/100km\n",
        "*   Highway-L/100km\n",
        "*   Length\n",
        "*   Width\n",
        "*   Curb-weight\n",
        "*   Wheel-base\n",
        "*   Bore\n",
        "\n",
        "Categorical variables:\n",
        "\n",
        "*   Drive-wheels\n",
        "\n",
        "Next, we can move into building machine learning models to automate our analysis. Feeding the model with variables that meaningfully affect our target variable will improve our model's prediction performance."
      ],
      "metadata": {
        "id": "XnudaJQtJIxi"
      }
    },
    {
      "cell_type": "markdown",
      "source": [
        "# Save csv.file to google drive"
      ],
      "metadata": {
        "id": "vaRFjGKEbbw8"
      }
    },
    {
      "cell_type": "code",
      "source": [
        "#import mounting module to save file on google drive\n",
        "from google.colab import drive\n",
        "drive.mount('drive')"
      ],
      "metadata": {
        "colab": {
          "base_uri": "https://localhost:8080/"
        },
        "id": "BFQXXfawbh8o",
        "outputId": "b1366613-1d03-45df-bc9e-ac29664d4c6f"
      },
      "execution_count": 61,
      "outputs": [
        {
          "output_type": "stream",
          "name": "stdout",
          "text": [
            "Drive already mounted at drive; to attempt to forcibly remount, call drive.mount(\"drive\", force_remount=True).\n"
          ]
        }
      ]
    },
    {
      "cell_type": "code",
      "source": [
        "#After authentication, copy your csv file\n",
        "df.to_csv('data_updated.csv')\n",
        "!cp data_updated.csv \"drive/My Drive/\" #rename file in drive"
      ],
      "metadata": {
        "id": "BgWEVqiVblj4"
      },
      "execution_count": 62,
      "outputs": []
    }
  ]
}